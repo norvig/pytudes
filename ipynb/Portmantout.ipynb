{
 "cells": [
  {
   "cell_type": "markdown",
   "metadata": {},
   "source": [
    "<div align=\"right\" style=\"text-align: right\"><i>Peter Norvig<br>Dec 2018<br>Updated Jun 2020</i></div>\n",
    "\n",
    "# Portmantout Words\n",
    "\n",
    "A [***portmanteau***](https://en.wikipedia.org/wiki/Portmanteau) is a word that squishes together two words, like  *math* + *athlete* = *mathlete*.  Inspired by [**Darius Bacon**](http://wry.me/), I covered this as a programming exercise in my 2012 [**Udacity course**](https://www.udacity.com/course/design-of-computer-programs--cs212). In 2018 I was re-inspired by [**Tom Murphy VII**](http://tom7.org/), who added a new twist:  [***portmantout words***](http://www.cs.cmu.edu/~tom7/portmantout/) (*tout* from the French for *all*), which are defined as:\n",
    "\n",
    "> A **portmantout** of a set of words $W$ is a string $S$ such that:\n",
    "* Every word in $W$ is a **substring** of $S$. (Although a word may appear more than once in $S$.)\n",
    "* The words **overlap**: the start of every word (except the first) is equal to or before the end of another word.\n",
    "* **Nothing else** is in $S$: every letter in $S$ comes from the overlapping words. \n",
    "\n",
    "This notebook attempts to find a portmantout that is as short as possible, while covering a set $W$ of over 100,000 words. My program discovered:\n",
    "\n",
    "- **preferendumdums**: a political commentary <br>portmanteau of {prefer, referendum, dumdums}\n",
    "- **impromptutankhamenability**: a willingness to see the Egyptian exhibit on the spur of the moment<br>portmanteau of {impromptu, tutankhamen, amenability}\n",
    "- **dashikimonogrammarianarchy**: chaos when a linguist enscribes African/Japanese garb<br>portmanteau of {dashiki, kimono, monogram, grammarian, anarchy}\n",
    "- **allegestionstage**: a brutal theatre review<br>portmanteau of {alleges, egestions, onstage}\n",
    "- **skymanipulablearsplittinglers**: a nerve-damaging aviator<br>portmanteau of {skyman, manipulable, blears, earsplitting, tinglers}\n",
    "- **edinburgherselflesslylyricize**: a Scottish music review<br>portmanteau of {edinburgh, burghers, herself, selflessly, slyly, lyricize}\n",
    "- **fortyphonshore**: a dire weather report<br>portmanteau of {forty, typhons, onshore} \n",
    "\n",
    "\n",
    "# Problem-Solving Strategy\n",
    "\n",
    "Although I haven't proved it, my intuition is that finding a shortest $S$ is an NP-hard problem, and with 100,000 words to cover, it is unlikely that I can find an optimal solution in a reasonable amount of time. A common approach to NP-hard problems is a **greedy algorithm**: make the locally best choice at each step, in the hope that the steps will fit together into a solution that is not too far from the globally shortest solution. \n",
    "\n",
    "Thus, my approach will be to build up a **path**, starting with one word, and then adding **steps**  to the end of the evolving path, one at a time. Each step consists of a word from *W* that overlaps the end of the previous word by at least one letter. I will choose the step that seems to be the best choice at the time (the one with the **lowest cost**), and will never undo a step, even if the path seems to get stuck later on. I distinguish two types of steps:\n",
    "\n",
    "- **Unused word step**: using a word for the first time. (Once we use them all, we're done.)\n",
    "- **Bridging word step**: if no remaining unused words overlap the previous word, we need to do something to get back on track to consuming unused words. I call that something a **bridge**: a step that **repeats** a previously-used word and has an ending that matches the start of some unused word. Repeating a word may add letters to the final length of $S$, and it doesn't get us closer to the requirement of using all the words, but it is sometimes necessary. Sometimes two words are required to build a bridge, but never more than two (at least with the 100,000 word set we will be dealing with). \n",
    "\n",
    "There's actually a third type of word, but it doesn't need a corresponding type of step: a **subword** is a word that is a substring of another word. If, say, `ajar` is in $W$, then we know we have to place it in some step along the path. But if `jar` is also in $W$, we don't need a separate step for it&mdash;whenever we place `ajar`, we have automatically placed `jar`. The program can save computation time save time by initializing the set of **unused words** to be just the **nonsubwords** in $W$.  (We are still free to use a subword as a **bridging word** if needed.)\n",
    "\n",
    "(*English trivia:* I use the clumsy term \"nonsubwords\" rather than \"superwords\", because there are a small number of words, like \"cozy\" and \"pugs\" and \"july,\" that are not subwords and also not superwords.)\n",
    "\n",
    "If we're going to be **greedy**, we need to know what we're being greedy about. I will always choose a step that minimizes the **number of excess letters** that the step adds. To be precise: I arbitrarily assume a baseline model in which all the words are concatenated with no repeated words and no overlap between them. (That's not a valid solution, but it is useful as a benchmark.) So if I add an unused word, and overlap it with the previous word by three letters, that is an excess of -3 (a negative excess is a positive thing): I've saved three letters over just concatenating the unused word. For a bridging word, the excess is the number of letters that do not overlap either the previous word or the next word. \n",
    "\n",
    "**Examples:** In each row of the table below, `'ajar'` is the previous word,  but each row makes different assumptions about what unused words remain, and thus we get different choices for the step to take. The table shows the overlapping letters between the previous word and the step, and in the case of bridges, it shows the next unused word that the step is bridging to. In the final column we give the excess letters (if any) and excess score.\n",
    "\n",
    "|Previous|Step(s)|Overlap|Bridge to|Type of Step|Excess|\n",
    "|--------|----|----|---|---|---|\n",
    "| ajar|jarring|jar||unused word |-3 |\n",
    "| ajar|arbitrary|ar||unused word |-2|\n",
    "| ajar|argot|ar|goths|one-step bridge |0|\n",
    "| ajar|arrow|ar|owlets| one-step bridge|\"r\" 1|\n",
    "| ajar|rani+iraq|r|quizzed| two-step bridge|\"anira\" 5 | \n",
    "\n",
    "Let's go over the example steps one row at a time:\n",
    "- **jarring**: Here we assume `jarring` is an unused word, and it overlaps by 3 letters, giving it an excess cost of -3, which is the best possible (an overlap of 4 would mean `ajar` is a subword, and we already agreed to eliminate subwords).\n",
    "- **arbitrary**: an unused word that overlaps by 2 letters, so it would only be chosen if there were no unused words with 3-letter overlap.\n",
    "- **argot**: From here on down, we assume there are no unused words that overlap, which means that `argot` is a best-possible bridge, because it completely overlaps the `ar` in `ajar` and the `got` in an unused word, `goths`.\n",
    "- **arrow**: overlaps the `ar` in `ajar` and the `ow` in an unused word, `owlets`, but that leaves one excess letter, `r`, for an excess cost of 1.\n",
    "- **rani + iraq**: Suppose `quizzed` is the only remaining unused word. There is no single word that bridges from any suffix of `ajar` to any prefix of `quizzed`. But I have arranged to build two-word bridges for every combination of one letter on the left and one letter on the right (unless there was already a shorter one-word bridge for that combination). The bridge from `'r'` to `'q'` is  `rani` followed by `iraq`, which has an excess score of 5 due to the letters `anira` not overlapping anything.\n",
    "\n",
    "We see that unused word steps always have a negative excess cost (that's good) while bridge steps always have a zero or positive excess cost; thus an unused word step is always better than a bridge step (according to this metric).\n",
    "\n",
    "\n",
    "\n",
    "\n",
    "# Data Type Implementation\n",
    "\n",
    "Here I describe how to implement the main data types in Python:\n",
    "\n",
    "- **Wordset**: a subclass of `set`, denoting a set of words.\n",
    "- **Word**: a Python `str` (as are subparts of words, like suffixes or individual letters).\n",
    "- **Step**: a namedtuple of an overlap and a word; the step adding `jarring` to `ajar` would be `Step(3, 'jarring')`. The first step in a path should have an overlap of 0; all others should have a positive integer overlap.\n",
    "- **Path**: a Python `list` of steps.\n",
    "- **Bridge**: a namedtuple of an excess cost followed by a list of steps, e.g. `Bridge(1, [Step(2, 'arrow')])`.\n",
    "\n",
    "\n",
    "(*Python trivia:* I implemented `Wordset` as a subclass of `set` so that I can add attributes (such as `W.subwords`) to it later. You can do that with a user-defined subclass, but not with a builtin class.)"
   ]
  },
  {
   "cell_type": "code",
   "execution_count": 1,
   "metadata": {},
   "outputs": [],
   "source": [
    "from collections import defaultdict, Counter, namedtuple\n",
    "from typing      import List, Tuple, Set, Dict, Any\n",
    "from statistics  import mean"
   ]
  },
  {
   "cell_type": "code",
   "execution_count": 2,
   "metadata": {},
   "outputs": [],
   "source": [
    "class Wordset(set): \"\"\"A set of words.\"\"\"\n",
    "\n",
    "Word   = str\n",
    "Step   = namedtuple('Step', 'overlap, word')\n",
    "Path   = List[Step]\n",
    "Bridge = namedtuple('Bridge', 'excess, steps')"
   ]
  },
  {
   "cell_type": "markdown",
   "metadata": {},
   "source": [
    "# 108,709 Word Set: W \n",
    "\n",
    "We can make Tom Murphy's 108,709-word list `\"wordlist.asc\"` into a `Wordset`,  $W$:"
   ]
  },
  {
   "cell_type": "code",
   "execution_count": 3,
   "metadata": {},
   "outputs": [],
   "source": [
    "! [ -e wordlist.asc ] || curl -O https://norvig.com/ngrams/wordlist.asc"
   ]
  },
  {
   "cell_type": "code",
   "execution_count": 4,
   "metadata": {},
   "outputs": [
    {
     "data": {
      "text/plain": [
       "108709"
      ]
     },
     "execution_count": 4,
     "metadata": {},
     "output_type": "execute_result"
    }
   ],
   "source": [
    "W = Wordset(open('wordlist.asc').read().split())\n",
    "len(W)"
   ]
  },
  {
   "cell_type": "markdown",
   "metadata": {},
   "source": [
    "# Overall Program Design\n",
    "\n",
    "I  thought I would define a major function, `portman`, to generate the portmantout string $S$ from the set of words $W$ according to the strategy outlined above, and a minor function, `is_portman`, to verify the result. But I found verification to be difficult. For example, given  $S =$  `'helloworld'` I would reject that as non-overlapping if I parsed it as `'hello'` + `'world'`, but I would accept it if parsed as `'hello'` + `'low'` + `'world'`. It was hard for `is_portman` to decide which parse was intended, which is a shame because `portman` *knew* which was intended, but  discarded the information. \n",
    "\n",
    "Therefore, I decided to change the interface: I'll have one function that takes $W$ as input and returns  a path $P$, and a second function to generate the string $S$ from $P$.  I decided on the following calling and [naming](https://en.wikipedia.org/wiki/Natalie_Portman) conventions:\n",
    "\n",
    "    P = natalie(W)    # Find a portmantout path P for a set of words W\n",
    "    is_portman(P, W)  # Verify whether P is a valid path covering words W\n",
    "    S = portman(P)    # Compute the string S from the path P\n",
    "\n",
    "Thus I can generate a string $S$ with:\n",
    "\n",
    "    S = portman(natalie(W))\n",
    "    \n",
    "# portman\n",
    "\n",
    "Here is the definition of `portman` and the result of `portman(P1)`, where the path `P1` covers the word set `W1` (which has five nonsubwords and 16 subwords):"
   ]
  },
  {
   "cell_type": "code",
   "execution_count": 5,
   "metadata": {},
   "outputs": [],
   "source": [
    "def portman(P: Path) -> Word:\n",
    "    \"\"\"Compute the portmantout string S from the path P.\"\"\"\n",
    "    return ''.join(word[overlap:] for (overlap, word) in P)"
   ]
  },
  {
   "cell_type": "code",
   "execution_count": 6,
   "metadata": {},
   "outputs": [],
   "source": [
    "W1 = Wordset('''anarchy dashiki grammarian kimono monogram an am arc arch i\n",
    "                aria as ash dash gram grammar mar narc no on ram'''.split())\n",
    "P1 = [Step(0, 'dashiki'),\n",
    "      Step(2,      'kimono'),\n",
    "      Step(4,        'monogram'),\n",
    "      Step(4,            'grammarian'),\n",
    "      Step(2 ,                   'anarchy')]\n",
    "S1 =          'dashikimonogrammarianarchy'"
   ]
  },
  {
   "cell_type": "code",
   "execution_count": 7,
   "metadata": {},
   "outputs": [
    {
     "data": {
      "text/plain": [
       "'dashikimonogrammarianarchy'"
      ]
     },
     "execution_count": 7,
     "metadata": {},
     "output_type": "execute_result"
    }
   ],
   "source": [
    "portman(P1)"
   ]
  },
  {
   "cell_type": "markdown",
   "metadata": {},
   "source": [
    "# natalie\n",
    "\n",
    "As stated above, the approach is to start with one word (either given as an optional argument to `natalie` or chosen arbitrarily from the word set $W$), and then repeatedly add steps, each step being either an unused word or a bridging word. In order to make this process efficient, we arrange for `precompute(W)` to cache the following information in `W`:\n",
    "  - `W.subwords`: a set of all the words that are contained within another word in `W`.\n",
    "  - `W.bridges`: a dict where `W.bridges[suf][pre]` gives the best bridge between the two word affixes.\n",
    "  - `W.unused`: initially the set of nonsubwords in `W`; when a word is used it is removed from the set.\n",
    "  - `W.startswith`: a dict that maps from a prefix to all the unused words that start with the prefix. A word is removed from all the places it appears when it is used. Example: `W.startswith['somet'] == {'something', 'sometimes'}`.\n",
    "  \n",
    "These structures are somewhat complicated, so don't be discouraged if you have to go over a line of code or a prose description word-by-word several times before you understand exactly how it works.\n",
    "\n",
    "After the precomputation, `natalie` loops until there are no more unused words. On each turn we call `unused_step`, which returns a list of one step if an unused word overlaps, or the empty list if it doesn't, in which case we call `bridging_steps`, which always returns a bridge of either one or two steps. We then append the step(s) to the path `P`, and call `mark_as_used(W, word)` to mark that `word` has been used (reducing the size of `W.unused` and updating `W.startswith` if `word` was previously unused). \n",
    "\n",
    "It is important that every bridge leads to an unused word. That way we know the program will **always terminate**: if  $N$ is the number of unused nonsubwords in $W$, then consider the quantity $(2N + (1$ `if` the last step overlaps an unused word `else` $0))$. Every iteration of the `while` loop decreases this quantity by at least 1; therefore the quantity will eventually be zero, and when it is zero, it must be that `W.unused` is empty and the loop terminates."
   ]
  },
  {
   "cell_type": "code",
   "execution_count": 8,
   "metadata": {},
   "outputs": [],
   "source": [
    "def natalie(W: Wordset, start=None) -> Path:\n",
    "    \"\"\"Return a portmantout path containing all words in W.\"\"\"\n",
    "    precompute(W)\n",
    "    word = start or next(iter(W.unused))\n",
    "    mark_as_used(W, word)\n",
    "    P = [Step(0, word)]\n",
    "    while W.unused:\n",
    "        for step in unused_step(W, word) or bridging_steps(W, word):\n",
    "            P.append(step)\n",
    "            word = step.word\n",
    "            mark_as_used(W, word)\n",
    "    return P"
   ]
  },
  {
   "cell_type": "markdown",
   "metadata": {},
   "source": [
    "`unused_step` considers every suffix of the previous word, longest suffix first. If a suffix starts any unused words, we choose the first such word as the step. Since we're going longest-suffix first, no other word could do better, and since unused steps have negative costs and bridges don't, the unused step will always be better than any bridge.\n",
    "\n",
    "`bridging_steps` also tries every suffix of the previous word, and for each one it looks in the `W.bridges[suf]` table to see what prefixes (of unused words) we can bridge to from this suffix. Consider all such `W.bridges[suf][pre]` entries that bridge to the prefix of an unused word (as maintained in `W.startswith[pre]`). Out of all such bridges, take one with the minimal excess cost, and return the one- or two-step sequence that makes up the bridge.\n",
    "\n",
    "So, both `unused_steps` and `bridging_steps` return a list of steps, the former either zero or one steps; the latter either one or two steps."
   ]
  },
  {
   "cell_type": "code",
   "execution_count": 9,
   "metadata": {},
   "outputs": [],
   "source": [
    "def unused_step(W: Wordset, prev_word: Word) -> List[Step]:\n",
    "    \"\"\"Return [Step(overlap, unused_word)] or [].\"\"\"\n",
    "    for suf in suffixes(prev_word):\n",
    "        for word in W.startswith.get(suf, ()):\n",
    "            return [Step(len(suf), word)]\n",
    "    return []\n",
    "\n",
    "def bridging_steps(W: Wordset, prev_word: Word) -> List[Step]:\n",
    "    \"\"\"The steps from the bridge with minimum excesss that bridges \n",
    "    from a suffix of prev_word to a prefix of an unused word.\"\"\"\n",
    "    bridge = min(W.bridges[suf][pre] \n",
    "                 for suf in suffixes(prev_word) if suf in W.bridges\n",
    "                 for pre in W.bridges[suf] if W.startswith[pre])\n",
    "    return bridge.steps"
   ]
  },
  {
   "cell_type": "markdown",
   "metadata": {},
   "source": [
    "**Failure is not an option**: what happens if we have a small word set that can't make a portmantout? First `unused_step` will fail to find an unused word, which is fine; then `bridging_steps` will fail to find a bridge, and will raise `ValueError: min() arg is an empty sequence`. You could catch that error and return, say, an empty path if you wanted to, but my intended use is for word sets where this can never happen."
   ]
  },
  {
   "cell_type": "markdown",
   "metadata": {},
   "source": [
    "# precompute etc.\n",
    "\n",
    "Here are the subfunctions that make the code above work:"
   ]
  },
  {
   "cell_type": "code",
   "execution_count": 10,
   "metadata": {},
   "outputs": [],
   "source": [
    "def precompute(W):\n",
    "    \"\"\"Precompute and cache data structures for W. The .subwords and .bridges\n",
    "    data structures are static and only need to be computed once; .unused and\n",
    "    .startswith are dynamic and must be recomputed on each call to `natalie`.\"\"\"\n",
    "    if not hasattr(W, 'subwords') or not hasattr(W, 'bridges'): \n",
    "        W.subwords = subwords(W)\n",
    "        W.bridges  = build_bridges(W)\n",
    "    W.unused       = W - W.subwords\n",
    "    W.startswith   = compute_startswith(W.unused)\n",
    "    \n",
    "def mark_as_used(W, word):\n",
    "    \"\"\"Record the fact that `word` has been used.\n",
    "    Remove word from `W.unused` and from `W.startswith[pre]`, for each prefix.\"\"\"\n",
    "    if word in W.unused:\n",
    "        W.unused.remove(word)\n",
    "        for pre in prefixes(word):\n",
    "            W.startswith[pre].remove(word)\n",
    "            if not W.startswith[pre]:\n",
    "                del W.startswith[pre]\n",
    "                \n",
    "def multimap(pairs) -> Dict[Any, set]:\n",
    "    \"\"\"Given (key, val) pairs, make a dict of {key: {val,...}}.\"\"\"\n",
    "    result = defaultdict(set)\n",
    "    for key, val in pairs:\n",
    "        result[key].add(val)\n",
    "    return result\n",
    "\n",
    "def compute_startswith(words) -> Dict[str, Set[Word]]: \n",
    "    \"\"\"A dict mapping a prefix to all the words it starts:\n",
    "    {'somet': {'something', 'sometimes'},...}.\"\"\"\n",
    "    return multimap((pre, w) for w in words for pre in prefixes(w))\n",
    "\n",
    "def subwords(W: Wordset) -> Set[str]:\n",
    "    \"\"\"All the words in W that are subparts of some other word.\"\"\"\n",
    "    return {subword for w in W for subword in subparts(w) & W}              \n",
    "    \n",
    "def suffixes(word) -> List[str]:\n",
    "    \"\"\"All non-empty proper suffixes of word, longest first.\"\"\"\n",
    "    return [word[i:] for i in range(1, len(word))]\n",
    "\n",
    "def prefixes(word) -> List[str]:\n",
    "    \"\"\"All non-empty proper prefixes of word.\"\"\"\n",
    "    return [word[:i] for i in range(1, len(word))]\n",
    "\n",
    "def subparts(word) -> Set[str]:\n",
    "    \"\"\"All non-empty proper substrings of word\"\"\"\n",
    "    return {word[i:j] \n",
    "            for i in range(len(word)) \n",
    "            for j in range(i + 1, len(word) + (i > 0))}"
   ]
  },
  {
   "cell_type": "markdown",
   "metadata": {},
   "source": [
    "(*Python trivia:* the `(i > 0)` in the last line of  `subparts` means that for a four-letter word like `'gram'`, we include subparts `word[i:4]` except when `i == 0`, thus including `'ram'`, `'am'`, and `'m'`, but not `'gram'`. In Python it is considered good style to have a Boolean expression like `(i > 0)` automatically converted to an integer `0` or `1`.)\n",
    "\n",
    "(*Math trivia:* \"Proper\" means \"not whole\". A proper subset is a subset that is not the whole set itself; a proper subpart of a word is a part (i.e. substring) of the word that is not the whole word itself.)"
   ]
  },
  {
   "cell_type": "markdown",
   "metadata": {},
   "source": [
    "# Building Bridges\n",
    "\n",
    "\n",
    "The last piece of the program is the construction of the `W.bridges` table. Recall that we want `W.bridges[suf][pre]` to be a bridge between a suffix of the previous word and a prefix of some new word, as in these examples:\n",
    "\n",
    "      W.bridges['ar']['ow'] == Bridge(1, [Step(2, 'arrow')])\n",
    "      W.bridges['ar']['c']  == Bridge(0, [Step(2, 'arc')])\n",
    "      W.bridges['r']['q']   == Bridge(5, [Step(1, 'rani'), Step(1, 'iraq')])\n",
    "      \n",
    "We build all the bridges once and for all in `precompute`, and don't update them as words are used. Thus, `W.bridges['ar']['c']` says \"if there are any unused words starting with `'c'`, you can use this bridge, but I'm not promising there are any.\" The caller (i.e. `bridging_steps`) is responsible for checking that `W.startswith['c']` contains unused word(s).\n",
    "      \n",
    "Bridges should be short. We don't need to consider `antidisestablishmentarianism` as a possible bridge word. Instead, from our 108,709  word set $W$, we'll select the words with length up to 5 (10,273 words), plus six-letter words that end in any of the rarest letters, 'qujvz' (20 words). For other word sets, you may have to modify these parameters. I call these `shortwords`. I also compute a `shortstartswith` table for the `shortwords`, where, for example,\n",
    "\n",
    "     shortstartswith['som'] == {'soma', 'somas', 'some'} # but not 'somersaulting', ...\n",
    "     \n",
    "To build one-word bridges, consider every shortword, and split it up in all possible ways into a prefix that will overlap the previous word, a suffix that will overlap the next word, and a count of zero or more excess letters in the middle that don't overlap anything. For example:"
   ]
  },
  {
   "cell_type": "code",
   "execution_count": 11,
   "metadata": {},
   "outputs": [],
   "source": [
    "def splits(word) -> List[Tuple[int, str, str]]: \n",
    "    \"\"\"A sequence of (excess, pre, suf) tuples.\"\"\"\n",
    "    return [(excess, word[:i], word[i+excess:])\n",
    "            for excess in range(len(word) - 1)\n",
    "            for i in range(1, len(word) - excess)]"
   ]
  },
  {
   "cell_type": "code",
   "execution_count": 12,
   "metadata": {},
   "outputs": [
    {
     "data": {
      "text/plain": [
       "[(0, 'a', 'rrow'),\n",
       " (0, 'ar', 'row'),\n",
       " (0, 'arr', 'ow'),\n",
       " (0, 'arro', 'w'),\n",
       " (1, 'a', 'row'),\n",
       " (1, 'ar', 'ow'),\n",
       " (1, 'arr', 'w'),\n",
       " (2, 'a', 'ow'),\n",
       " (2, 'ar', 'w'),\n",
       " (3, 'a', 'w')]"
      ]
     },
     "execution_count": 12,
     "metadata": {},
     "output_type": "execute_result"
    }
   ],
   "source": [
    "splits('arrow')"
   ]
  },
  {
   "cell_type": "markdown",
   "metadata": {},
   "source": [
    "The first element of the list says that `'arrow'` can bridge from `'a'` to `'rrow'` with 0 excess letters; the last says it can bridge from `'a'` to `'w'` with 3 excess letters (which happen to be `'rro'`). We consider every possible split, and pass it on to `try_bridge`, which records the bridge in the table under `bridges[pre][suf]` unless there is already a shorter bridge stored there."
   ]
  },
  {
   "cell_type": "code",
   "execution_count": 13,
   "metadata": {},
   "outputs": [],
   "source": [
    "def try_bridge(bridges, pre, suf, excess, word, step2=None):\n",
    "    \"\"\"Store a new bridge if it has less excess than the previous bridges[pre][suf].\"\"\"\n",
    "    if pre != suf and (suf not in bridges[pre] or excess < bridges[pre][suf].excess):\n",
    "        steps = [Step(len(pre), word)]\n",
    "        if step2: steps.append(step2)\n",
    "        bridges[pre][suf] = Bridge(excess, steps)"
   ]
  },
  {
   "cell_type": "markdown",
   "metadata": {},
   "source": [
    "Now for two-word bridges. I thought that if I allowed all possible two-word bridges the program would be slow because there would be so many of them, and most of them would be too long to be of any use. Thus, I decided to only use two-word bridges that bridge from the last letter in the previous word to the first letter in an unused word.\n",
    "\n",
    "We start out the same way, looking at every shortword. But this time we look at every suffix of each shortword, and see if the suffix starts another shortword. If it does, then we have a two-word bridge. Here's the complete `build_bridges` function:"
   ]
  },
  {
   "cell_type": "code",
   "execution_count": 14,
   "metadata": {},
   "outputs": [],
   "source": [
    "def build_bridges(W: Wordset, maxlen=5, end='qujvz'):\n",
    "    \"\"\"A table of bridges[pre][suf] == Bridge(excess, steps), e.g.\n",
    "    bridges['ar']['c'] == Bridge(0, [Step(2, 'arc')]).\"\"\"\n",
    "    bridges         = defaultdict(dict)\n",
    "    shortwords      = [w for w in W if len(w) <= maxlen + (w[-1] in end)]\n",
    "    shortstartswith = compute_startswith(shortwords)\n",
    "    # One-word bridges\n",
    "    for word in shortwords: \n",
    "        for excess, pre, suf, in splits(word):\n",
    "            try_bridge(bridges, pre, suf, excess, word)\n",
    "    # Two-word bridges\n",
    "    for word1 in shortwords:\n",
    "        for suf in suffixes(word1): \n",
    "            for word2 in shortstartswith[suf]: \n",
    "                excess = len(word1) + len(word2) - len(suf) - 2\n",
    "                A, B = word1[0], word2[-1]\n",
    "                step2 = Step(len(suf), word2)\n",
    "                try_bridge(bridges, A, B, excess, word1, step2)\n",
    "    return bridges"
   ]
  },
  {
   "cell_type": "markdown",
   "metadata": {},
   "source": [
    "(*Note:* When we are *using* a bridge, we say `W.bridges[suf][pre]` but when we are *building* the bridge we say `W.bridges[pre][suf]`. It may seem confusing to write the code both ways, but that's because the very definition of **overlapping** is that the suffix of one word is the same as the prefix of the next, so it just depends how you are looking at it.)\n",
    "\n",
    "**Missing bridges:** How do we know if a word set will always generate a portmantout? If the word set has a bridge from every one-letter suffix to every one other one-letter prefix, then it will always be able to bridge from any word to any unused word.  (Of course, there are other conditions under which it can succeed.) The function `missing_bridges` tells us which of these one-letter-to-one-letter bridges are missing:"
   ]
  },
  {
   "cell_type": "code",
   "execution_count": 15,
   "metadata": {},
   "outputs": [],
   "source": [
    "def missing_bridges(W):\n",
    "    \"\"\"What one-letter-to-one-letter bridges are missing from W.bridges?\"\"\"\n",
    "    return {A + B for A in alphabet for B in alphabet \n",
    "            if A != B and B not in W.bridges[A]}\n",
    "\n",
    "alphabet = 'abcdefghijklmnopqrstuvwxyz'"
   ]
  },
  {
   "cell_type": "code",
   "execution_count": 16,
   "metadata": {},
   "outputs": [
    {
     "data": {
      "text/plain": [
       "set()"
      ]
     },
     "execution_count": 16,
     "metadata": {},
     "output_type": "execute_result"
    }
   ],
   "source": [
    "precompute(W)\n",
    "missing_bridges(W)"
   ]
  },
  {
   "cell_type": "markdown",
   "metadata": {},
   "source": [
    "Great! $W$ has no missing bridges. But the tiny word set $W1$ is missing 630 out of a possible 650 bridges:"
   ]
  },
  {
   "cell_type": "code",
   "execution_count": 17,
   "metadata": {},
   "outputs": [
    {
     "data": {
      "text/plain": [
       "(630, 650)"
      ]
     },
     "execution_count": 17,
     "metadata": {},
     "output_type": "execute_result"
    }
   ],
   "source": [
    "precompute(W1)\n",
    "len(missing_bridges(W1)), 26 * 25"
   ]
  },
  {
   "cell_type": "markdown",
   "metadata": {},
   "source": [
    "# Portmantout for W1\n",
    "\n",
    "**Finally!** We're ready to make portmantouts. First for the small word list `W1`:"
   ]
  },
  {
   "cell_type": "code",
   "execution_count": 18,
   "metadata": {},
   "outputs": [
    {
     "data": {
      "text/plain": [
       "[Step(overlap=0, word='dashiki'),\n",
       " Step(overlap=2, word='kimono'),\n",
       " Step(overlap=4, word='monogram'),\n",
       " Step(overlap=4, word='grammarian'),\n",
       " Step(overlap=2, word='anarchy')]"
      ]
     },
     "execution_count": 18,
     "metadata": {},
     "output_type": "execute_result"
    }
   ],
   "source": [
    "natalie(W1, start='dashiki')"
   ]
  },
  {
   "cell_type": "code",
   "execution_count": 19,
   "metadata": {},
   "outputs": [
    {
     "data": {
      "text/plain": [
       "'dashikimonogrammarianarchy'"
      ]
     },
     "execution_count": 19,
     "metadata": {},
     "output_type": "execute_result"
    }
   ],
   "source": [
    "portman(natalie(W1, start='dashiki'))"
   ]
  },
  {
   "cell_type": "markdown",
   "metadata": {},
   "source": [
    "# Portmantout for W\n",
    "\n",
    "Now the portmantout for the full word set $W$:"
   ]
  },
  {
   "cell_type": "code",
   "execution_count": 20,
   "metadata": {},
   "outputs": [
    {
     "name": "stdout",
     "output_type": "stream",
     "text": [
      "CPU times: user 7.81 s, sys: 48.9 ms, total: 7.86 s\n",
      "Wall time: 7.89 s\n"
     ]
    },
    {
     "data": {
      "text/plain": [
       "103088"
      ]
     },
     "execution_count": 20,
     "metadata": {},
     "output_type": "execute_result"
    }
   ],
   "source": [
    "%time P = natalie(W)\n",
    "len(P)"
   ]
  },
  {
   "cell_type": "code",
   "execution_count": 21,
   "metadata": {},
   "outputs": [
    {
     "data": {
      "text/plain": [
       "553761"
      ]
     },
     "execution_count": 21,
     "metadata": {},
     "output_type": "execute_result"
    }
   ],
   "source": [
    "S = portman(P)\n",
    "len(S)"
   ]
  },
  {
   "cell_type": "markdown",
   "metadata": {},
   "source": [
    "I thought it might take 10 minutes, so under 10 seconds is great. But I'm not really excited to look at half a million letters in $S$; I'll define a better way to explore the portmantout."
   ]
  },
  {
   "cell_type": "markdown",
   "metadata": {},
   "source": [
    "# Making it Prettier\n",
    "\n",
    "I'll define `report` to print various statistics, summarize the start and end of the portmantout, and save $S$ into [a file](natalie.txt). "
   ]
  },
  {
   "cell_type": "code",
   "execution_count": 22,
   "metadata": {},
   "outputs": [],
   "source": [
    "def report(W, P, steps=50, letters=500, save='natalie.txt'):\n",
    "    '''Print information about the portmantout and optionally `save` to file.'''\n",
    "    S       = portman(P)\n",
    "    sub     = W.subwords\n",
    "    nonsub  = W - sub\n",
    "    bridge  = len(P) - len(nonsub)\n",
    "    missing = len(missing_bridges(W)) or \"no\"\n",
    "    valid   = \"is\" if is_portman(P, W) else \"IS NOT\"\n",
    "    def L(words): return sum(map(len, words)) # Number of letters\n",
    "    print(f'''\n",
    "    W has {len(W):,d} words ({len(sub):,d} subwords; {len(nonsub):,d} nonsubwords)\n",
    "    P has {len(P):,d} steps ({bridge:,d} bridge words)\n",
    "    S has {len(S):,d} letters; W has {L(W):,d}; nonsubs have {L(nonsub):,d}\n",
    "    P has an average overlap of {(L(w for _,w in P)-len(S))/(len(P)-1):.2f} letters\n",
    "    S has a compression ratio (letters(W)/letters(S)) of {L(W)/len(S):.2f}\n",
    "    P (and thus S) {valid} a valid portmantout of W\n",
    "    W has {missing} missing one-letter-to-one-letter bridges''')\n",
    "    if save:\n",
    "        print(f'    S saved as \"{save}\", ({open(save, \"w\").write(S)} bytes)')\n",
    "    print(f'\\nThe first and last {steps} steps are:\\n')\n",
    "    for step in (*P[:steps], Step('.', '...'), *P[-steps:]):\n",
    "        print(step.overlap, step.word)\n",
    "    print(f'\\nThe first and last {letters} letters are:\\n\\n{S[:letters]} ... {S[-letters:]}')\n",
    "\n",
    "def is_portman(P: Path, W: Wordset) -> str:\n",
    "    \"\"\"Verify that P forms a valid portmantout string for W.\"\"\"\n",
    "    all_words = (W - W.subwords) <= set(w.word for w in P) <= W\n",
    "    overlaps  = all(overlap > 0 and P[i - 1][1][-overlap:] == word[:overlap]\n",
    "                    for i, (overlap, word) in enumerate(P[1:], 1))\n",
    "    return all_words and overlaps and P[0].overlap == 0 "
   ]
  },
  {
   "cell_type": "markdown",
   "metadata": {},
   "source": [
    "(*Python trivia:* if `X, Y` and `Z` are sets, `X <= Y <= Z` means \"is `X` a subset of `Y` and `Y` a subset of `Z`?\" We use the notation here to say that the set of words in $P$ must contain all the nonsubwords and can only contain words from $W$.)"
   ]
  },
  {
   "cell_type": "code",
   "execution_count": 23,
   "metadata": {
    "scrolled": false
   },
   "outputs": [
    {
     "name": "stdout",
     "output_type": "stream",
     "text": [
      "\n",
      "    W has 108,709 words (44,320 subwords; 64,389 nonsubwords)\n",
      "    P has 103,088 steps (38,699 bridge words)\n",
      "    S has 553,761 letters; W has 931,823; nonsubs have 595,805\n",
      "    P has an average overlap of 1.64 letters\n",
      "    S has a compression ratio (letters(W)/letters(S)) of 1.68\n",
      "    P (and thus S) is a valid portmantout of W\n",
      "    W has no missing one-letter-to-one-letter bridges\n",
      "    S saved as \"natalie.txt\", (553761 bytes)\n",
      "\n",
      "The first and last 50 steps are:\n",
      "\n",
      "0 leadworks\n",
      "5 workstations\n",
      "3 onstage\n",
      "5 stagey\n",
      "3 geysers\n",
      "3 ersatzes\n",
      "3 zesting\n",
      "5 stingier\n",
      "2 eroding\n",
      "4 dinginess\n",
      "5 inessential\n",
      "9 essentially\n",
      "4 allyls\n",
      "1 straightest\n",
      "4 testings\n",
      "1 solderers\n",
      "3 erstwhile\n",
      "5 whiles\n",
      "3 lessening\n",
      "3 ingressive\n",
      "2 vending\n",
      "4 dinghy\n",
      "2 hygienics\n",
      "1 snooted\n",
      "3 tediums\n",
      "1 sandpile\n",
      "4 pileups\n",
      "3 upshots\n",
      "4 hotspurs\n",
      "4 pursed\n",
      "3 seducible\n",
      "3 blending\n",
      "4 dingles\n",
      "3 lessees\n",
      "4 seesawed\n",
      "3 wedgier\n",
      "2 erupted\n",
      "3 teddy\n",
      "4 eddying\n",
      "5 dyings\n",
      "1 suffocated\n",
      "3 tediously\n",
      "3 slyest\n",
      "4 yesteryears\n",
      "4 earshots\n",
      "4 hotshots\n",
      "2 tsunamis\n",
      "4 amiss\n",
      "4 misspoke\n",
      "5 spokesman\n",
      ". ...\n",
      "1 yeti\n",
      "1 iraq\n",
      "1 quotients\n",
      "1 sir\n",
      "2 iraq\n",
      "1 quaverers\n",
      "1 sir\n",
      "2 iraq\n",
      "1 quartzite\n",
      "1 emir\n",
      "2 iraq\n",
      "1 quinins\n",
      "1 sir\n",
      "2 iraq\n",
      "1 quitclaiming\n",
      "1 genii\n",
      "1 iraq\n",
      "1 quicksteps\n",
      "1 sir\n",
      "2 iraq\n",
      "1 quarterlies\n",
      "1 sir\n",
      "2 iraq\n",
      "1 quakers\n",
      "1 sir\n",
      "2 iraq\n",
      "1 quackster\n",
      "1 rani\n",
      "1 iraq\n",
      "1 quicksets\n",
      "1 sir\n",
      "2 iraq\n",
      "1 quasi\n",
      "1 iraq\n",
      "1 quarrellers\n",
      "1 sir\n",
      "2 iraq\n",
      "1 quantifies\n",
      "1 sir\n",
      "2 iraq\n",
      "1 quitclaimed\n",
      "1 deli\n",
      "1 iraq\n",
      "1 quaggier\n",
      "1 rani\n",
      "1 iraq\n",
      "1 quotationally\n",
      "1 yeti\n",
      "1 iraq\n",
      "1 quarantined\n",
      "\n",
      "The first and last 500 letters are:\n",
      "\n",
      "leadworkstationstageysersatzestingierodinginessentiallylstraightestingsoldererstwhilesseningressivendinghygienicsnootediumsandpileupshotspurseduciblendinglesseesawedgierupteddyingsuffocatediouslyesteryearshotshotsunamisspokesmangilyricizingypsumsomewhereasestinassimilableariesteemsmelterythrocytesteesophagallowsesquicentenniallyricizedseductivenessayingspongingerysipelasticizingersyphiloidiumbilicalciferoustedhorseshoerstediousnessayeditorialistablemansuetudesalterselysianacondastardlyricistsets ... raquacksalveraniraquartsiraquickeraniraquoinedeliraquoinsiraquainteraniraquarriedeliraquinquinaquahogsiraquietusesiraquitrentsiraquotablyetiraquarrelingeniiraquintilesiraquarrelersiraquintillionthsiraquailingeniiraquietensiraquiveringlyetiraquackedeliraquaveredeliraquakinglyetiraquotientsiraquaverersiraquartzitemiraquininsiraquitclaimingeniiraquickstepsiraquarterliesiraquakersiraquacksteraniraquicksetsiraquasiraquarrellersiraquantifiesiraquitclaimedeliraquaggieraniraquotationallyetiraquarantined\n"
     ]
    }
   ],
   "source": [
    "report(W, P)"
   ]
  },
  {
   "cell_type": "markdown",
   "metadata": {},
   "source": [
    "# Exploring\n",
    "\n",
    "The program is complete, but there are still many interesting things to explore. \n",
    "\n",
    "**Question**: is there an imbalance in starting and ending letters of words? \n",
    "\n",
    "This is important because it could lead to a need for many two-word bridges. We saw that the last 50 steps of $P$ all involved words that start with `q`, or bridges to them. What  letters besides `q` might lead to problems?"
   ]
  },
  {
   "cell_type": "code",
   "execution_count": 24,
   "metadata": {},
   "outputs": [],
   "source": [
    "precompute(W)\n",
    "words  = W.unused # The nonsub words in W"
   ]
  },
  {
   "cell_type": "code",
   "execution_count": 25,
   "metadata": {},
   "outputs": [
    {
     "data": {
      "text/plain": [
       "[('s', 7388),\n",
       " ('c', 5849),\n",
       " ('p', 4977),\n",
       " ('d', 4093),\n",
       " ('r', 3811),\n",
       " ('b', 3776),\n",
       " ('a', 3528),\n",
       " ('m', 3405),\n",
       " ('t', 3097),\n",
       " ('f', 2794),\n",
       " ('i', 2771),\n",
       " ('u', 2557),\n",
       " ('e', 2470),\n",
       " ('g', 2177),\n",
       " ('h', 2169),\n",
       " ('o', 1797),\n",
       " ('l', 1634),\n",
       " ('w', 1561),\n",
       " ('n', 1542),\n",
       " ('v', 1032),\n",
       " ('j', 638),\n",
       " ('k', 566),\n",
       " ('q', 330),\n",
       " ('y', 207),\n",
       " ('z', 169),\n",
       " ('x', 51)]"
      ]
     },
     "execution_count": 25,
     "metadata": {},
     "output_type": "execute_result"
    }
   ],
   "source": [
    "# How many nonsubwords start with each letter?\n",
    "Counter(w[0] for w in words).most_common() "
   ]
  },
  {
   "cell_type": "code",
   "execution_count": 26,
   "metadata": {},
   "outputs": [
    {
     "data": {
      "text/plain": [
       "[('s', 29056),\n",
       " ('y', 8086),\n",
       " ('d', 7520),\n",
       " ('g', 6343),\n",
       " ('e', 3215),\n",
       " ('t', 2107),\n",
       " ('r', 1994),\n",
       " ('n', 1860),\n",
       " ('l', 1182),\n",
       " ('c', 908),\n",
       " ('m', 657),\n",
       " ('a', 384),\n",
       " ('h', 351),\n",
       " ('k', 157),\n",
       " ('i', 128),\n",
       " ('p', 123),\n",
       " ('o', 113),\n",
       " ('x', 68),\n",
       " ('f', 51),\n",
       " ('w', 42),\n",
       " ('z', 21),\n",
       " ('u', 11),\n",
       " ('b', 6),\n",
       " ('v', 6)]"
      ]
     },
     "execution_count": 26,
     "metadata": {},
     "output_type": "execute_result"
    }
   ],
   "source": [
    "# How many nonsubwords end with each letter?\n",
    "Counter(w[-1] for w in words).most_common() "
   ]
  },
  {
   "cell_type": "markdown",
   "metadata": {},
   "source": [
    "Yes, there is a problem: there are 330 words that start with `q` and no nonsubwords that end in `q` (there are two subwords, `colloq` and `iraq`).  Here's a comparison of how many times a `q` appears in the first three letters and last three  letters  of nonsubwords:"
   ]
  },
  {
   "cell_type": "code",
   "execution_count": 27,
   "metadata": {},
   "outputs": [
    {
     "data": {
      "text/plain": [
       "710"
      ]
     },
     "execution_count": 27,
     "metadata": {},
     "output_type": "execute_result"
    }
   ],
   "source": [
    "qstart = {w for w in words if 'q' in w[:3]}\n",
    "len(qstart)"
   ]
  },
  {
   "cell_type": "code",
   "execution_count": 28,
   "metadata": {},
   "outputs": [
    {
     "data": {
      "text/plain": [
       "23"
      ]
     },
     "execution_count": 28,
     "metadata": {},
     "output_type": "execute_result"
    }
   ],
   "source": [
    "qend = {w for w in words if 'q' in w[-3:]}\n",
    "len(qend)"
   ]
  },
  {
   "cell_type": "code",
   "execution_count": 29,
   "metadata": {
    "scrolled": false
   },
   "outputs": [
    {
     "data": {
      "text/plain": [
       "'albuquerque statuesque diplomatique semiopaque mozambique romanesque odalisque colloquy cliquy risque maqui picaresque perique manque prosequi iraqis bezique soliloquy obloquy ventriloquy placque obsequy hdqrs'"
      ]
     },
     "execution_count": 29,
     "metadata": {},
     "output_type": "execute_result"
    }
   ],
   "source": [
    "' '.join(qend)"
   ]
  },
  {
   "cell_type": "markdown",
   "metadata": {},
   "source": [
    "There is also a problem with 29,056 nonsubwords ending in `s` and only 7,388 starting with `s`. But many words start with combinations like `as` or `es` or `ps`, so the overall ratio is not as bad:"
   ]
  },
  {
   "cell_type": "code",
   "execution_count": 30,
   "metadata": {},
   "outputs": [
    {
     "data": {
      "text/plain": [
       "12247"
      ]
     },
     "execution_count": 30,
     "metadata": {},
     "output_type": "execute_result"
    }
   ],
   "source": [
    "sstart = {w for w in words if 's' in w[:3]}\n",
    "len(sstart)"
   ]
  },
  {
   "cell_type": "code",
   "execution_count": 31,
   "metadata": {},
   "outputs": [
    {
     "data": {
      "text/plain": [
       "32394"
      ]
     },
     "execution_count": 31,
     "metadata": {},
     "output_type": "execute_result"
    }
   ],
   "source": [
    "send = {w for w in words if 's' in w[-3:]}\n",
    "len(send)"
   ]
  },
  {
   "cell_type": "markdown",
   "metadata": {},
   "source": [
    "**Question**: what are the most common steps in $P$? \n",
    "\n",
    "These will be bridge words, which can be repeated any number of times. What do they have in common?"
   ]
  },
  {
   "cell_type": "code",
   "execution_count": 32,
   "metadata": {},
   "outputs": [
    {
     "data": {
      "text/plain": [
       "[(Step(overlap=1, word='sac'), 3170),\n",
       " (Step(overlap=1, word='so'), 2079),\n",
       " (Step(overlap=2, word='lyre'), 1649),\n",
       " (Step(overlap=1, word='dab'), 1628),\n",
       " (Step(overlap=1, word='of'), 1591),\n",
       " (Step(overlap=1, word='sun'), 1487),\n",
       " (Step(overlap=1, word='gab'), 1483),\n",
       " (Step(overlap=1, word='sin'), 1407),\n",
       " (Step(overlap=1, word='sip'), 1062),\n",
       " (Step(overlap=1, word='sam'), 971),\n",
       " (Step(overlap=1, word='yam'), 958),\n",
       " (Step(overlap=1, word='sew'), 789),\n",
       " (Step(overlap=2, word='lye'), 707),\n",
       " (Step(overlap=1, word='spa'), 612),\n",
       " (Step(overlap=1, word='gun'), 503),\n",
       " (Step(overlap=3, word='erst'), 489),\n",
       " (Step(overlap=1, word='yen'), 466),\n",
       " (Step(overlap=2, word='type'), 450),\n",
       " (Step(overlap=1, word='gip'), 437),\n",
       " (Step(overlap=1, word='econ'), 423),\n",
       " (Step(overlap=1, word='she'), 392),\n",
       " (Step(overlap=1, word='go'), 389),\n",
       " (Step(overlap=1, word='sex'), 356),\n",
       " (Step(overlap=1, word='yep'), 323),\n",
       " (Step(overlap=1, word='you'), 321)]"
      ]
     },
     "execution_count": 32,
     "metadata": {},
     "output_type": "execute_result"
    }
   ],
   "source": [
    "Counter(P).most_common(25)"
   ]
  },
  {
   "cell_type": "markdown",
   "metadata": {},
   "source": [
    "Even though `iraq` dominated the last 50 steps, that's not true of `P` overall. Instead, it looks like bridging away from `s` is a big concern (as expected by the letter counts). (Also, `lyre` and `lye` bridge from an adverb ending.) The following says that about 30% of all steps in `P` bridge from a suffix that contains `s`:"
   ]
  },
  {
   "cell_type": "code",
   "execution_count": 33,
   "metadata": {},
   "outputs": [
    {
     "data": {
      "text/plain": [
       "0.2984246469036163"
      ]
     },
     "execution_count": 33,
     "metadata": {},
     "output_type": "execute_result"
    }
   ],
   "source": [
    "sum('s' in w[:o] for o, w in P) / len(P)"
   ]
  },
  {
   "cell_type": "markdown",
   "metadata": {},
   "source": [
    "**Question:** What is the distribution of word lengths? "
   ]
  },
  {
   "cell_type": "code",
   "execution_count": 34,
   "metadata": {},
   "outputs": [
    {
     "data": {
      "text/plain": [
       "Counter({3: 2,\n",
       "         4: 186,\n",
       "         5: 1796,\n",
       "         6: 4364,\n",
       "         7: 8672,\n",
       "         8: 11964,\n",
       "         9: 11950,\n",
       "         10: 8443,\n",
       "         11: 6093,\n",
       "         12: 4423,\n",
       "         13: 2885,\n",
       "         14: 1765,\n",
       "         15: 1017,\n",
       "         16: 469,\n",
       "         17: 198,\n",
       "         18: 91,\n",
       "         19: 33,\n",
       "         20: 22,\n",
       "         21: 9,\n",
       "         22: 4,\n",
       "         23: 2,\n",
       "         28: 1})"
      ]
     },
     "execution_count": 34,
     "metadata": {},
     "output_type": "execute_result"
    }
   ],
   "source": [
    "Counter(sorted(map(len, words))) # Counter of word lengths"
   ]
  },
  {
   "cell_type": "markdown",
   "metadata": {},
   "source": [
    "**Question:** What is the longest nonsubword? The shortest?"
   ]
  },
  {
   "cell_type": "code",
   "execution_count": 35,
   "metadata": {},
   "outputs": [
    {
     "data": {
      "text/plain": [
       "'antidisestablishmentarianism'"
      ]
     },
     "execution_count": 35,
     "metadata": {},
     "output_type": "execute_result"
    }
   ],
   "source": [
    "max(words, key=len)"
   ]
  },
  {
   "cell_type": "code",
   "execution_count": 36,
   "metadata": {},
   "outputs": [
    {
     "data": {
      "text/plain": [
       "{'fbi', 'ibm'}"
      ]
     },
     "execution_count": 36,
     "metadata": {},
     "output_type": "execute_result"
    }
   ],
   "source": [
    "{w for w in words if len(w) <= 3}"
   ]
  },
  {
   "cell_type": "markdown",
   "metadata": {},
   "source": [
    "**Question**: What is the distribution of letters?"
   ]
  },
  {
   "cell_type": "code",
   "execution_count": 37,
   "metadata": {},
   "outputs": [
    {
     "data": {
      "text/plain": [
       "[('e', 68038),\n",
       " ('s', 60080),\n",
       " ('i', 53340),\n",
       " ('a', 43177),\n",
       " ('n', 42145),\n",
       " ('r', 41794),\n",
       " ('t', 38093),\n",
       " ('o', 35027),\n",
       " ('l', 32356),\n",
       " ('c', 23100),\n",
       " ('d', 22448),\n",
       " ('u', 19898),\n",
       " ('g', 17815),\n",
       " ('p', 16128),\n",
       " ('m', 16062),\n",
       " ('h', 12673),\n",
       " ('y', 11889),\n",
       " ('b', 11581),\n",
       " ('f', 7885),\n",
       " ('v', 5982),\n",
       " ('k', 4892),\n",
       " ('w', 4880),\n",
       " ('z', 2703),\n",
       " ('x', 1677),\n",
       " ('j', 1076),\n",
       " ('q', 1066)]"
      ]
     },
     "execution_count": 37,
     "metadata": {},
     "output_type": "execute_result"
    }
   ],
   "source": [
    "Counter(L for w in words for L in w).most_common() # Counter of letters"
   ]
  },
  {
   "cell_type": "markdown",
   "metadata": {},
   "source": [
    "**Question**: How many bridges are there? How many excess letters do they have? How many steps?\n",
    "\n",
    "Note this is across all the bridges that exist, without regard for whether (or how often) they are used in `P`."
   ]
  },
  {
   "cell_type": "code",
   "execution_count": 38,
   "metadata": {},
   "outputs": [
    {
     "data": {
      "text/plain": [
       "56430"
      ]
     },
     "execution_count": 38,
     "metadata": {},
     "output_type": "execute_result"
    }
   ],
   "source": [
    "# A list of all bridges\n",
    "B = sorted((W.bridges[suf][pre], pre, suf) \n",
    "           for suf in W.bridges for pre in W.bridges[suf])\n",
    "len(B)"
   ]
  },
  {
   "cell_type": "code",
   "execution_count": 39,
   "metadata": {},
   "outputs": [
    {
     "data": {
      "text/plain": [
       "Counter({0: 37172, 1: 16689, 2: 2417, 3: 92, 4: 32, 5: 21, 6: 6, 8: 1})"
      ]
     },
     "execution_count": 39,
     "metadata": {},
     "output_type": "execute_result"
    }
   ],
   "source": [
    "# Counter of bridge excess letters\n",
    "Counter(b.excess for (b, *_) in B)"
   ]
  },
  {
   "cell_type": "code",
   "execution_count": 40,
   "metadata": {},
   "outputs": [
    {
     "data": {
      "text/plain": [
       "0.39121034910508595"
      ]
     },
     "execution_count": 40,
     "metadata": {},
     "output_type": "execute_result"
    }
   ],
   "source": [
    "# Average excess\n",
    "mean(_.elements())"
   ]
  },
  {
   "cell_type": "code",
   "execution_count": 41,
   "metadata": {},
   "outputs": [
    {
     "data": {
      "text/plain": [
       "Counter({1: 56280, 2: 150})"
      ]
     },
     "execution_count": 41,
     "metadata": {},
     "output_type": "execute_result"
    }
   ],
   "source": [
    "# Number of steps\n",
    "Counter(len(b.steps) for (b, *_) in B)"
   ]
  },
  {
   "cell_type": "markdown",
   "metadata": {},
   "source": [
    "I'm surprised there are only 150 two-step bridges.\n",
    "\n",
    "**Question**: What do some bridges look like?"
   ]
  },
  {
   "cell_type": "code",
   "execution_count": 42,
   "metadata": {},
   "outputs": [
    {
     "data": {
      "text/plain": [
       "[(Bridge(excess=0, steps=[Step(overlap=1, word='aahed')]), 'ahed', 'a'),\n",
       " (Bridge(excess=0, steps=[Step(overlap=1, word='bra')]), 'ra', 'b'),\n",
       " (Bridge(excess=0, steps=[Step(overlap=1, word='darn')]), 'arn', 'd'),\n",
       " (Bridge(excess=0, steps=[Step(overlap=1, word='fines')]), 'ines', 'f'),\n",
       " (Bridge(excess=0, steps=[Step(overlap=1, word='heman')]), 'eman', 'h'),\n",
       " (Bridge(excess=0, steps=[Step(overlap=1, word='left')]), 'eft', 'l'),\n",
       " (Bridge(excess=0, steps=[Step(overlap=1, word='newel')]), 'ewel', 'n'),\n",
       " (Bridge(excess=0, steps=[Step(overlap=1, word='puffy')]), 'uffy', 'p'),\n",
       " (Bridge(excess=0, steps=[Step(overlap=1, word='shoes')]), 'hoes', 's'),\n",
       " (Bridge(excess=0, steps=[Step(overlap=1, word='thug')]), 'hug', 't'),\n",
       " (Bridge(excess=0, steps=[Step(overlap=1, word='winy')]), 'iny', 'w'),\n",
       " (Bridge(excess=0, steps=[Step(overlap=2, word='bests')]), 'sts', 'be'),\n",
       " (Bridge(excess=0, steps=[Step(overlap=2, word='cored')]), 'red', 'co'),\n",
       " (Bridge(excess=0, steps=[Step(overlap=2, word='etc')]), 'c', 'et'),\n",
       " (Bridge(excess=0, steps=[Step(overlap=2, word='grimy')]), 'imy', 'gr'),\n",
       " (Bridge(excess=0, steps=[Step(overlap=2, word='kilns')]), 'lns', 'ki'),\n",
       " (Bridge(excess=0, steps=[Step(overlap=2, word='molto')]), 'lto', 'mo'),\n",
       " (Bridge(excess=0, steps=[Step(overlap=2, word='plaid')]), 'aid', 'pl'),\n",
       " (Bridge(excess=0, steps=[Step(overlap=2, word='scabs')]), 'abs', 'sc'),\n",
       " (Bridge(excess=0, steps=[Step(overlap=2, word='swop')]), 'op', 'sw'),\n",
       " (Bridge(excess=0, steps=[Step(overlap=2, word='waits')]), 'its', 'wa'),\n",
       " (Bridge(excess=0, steps=[Step(overlap=3, word='baby')]), 'y', 'bab'),\n",
       " (Bridge(excess=0, steps=[Step(overlap=3, word='clink')]), 'nk', 'cli'),\n",
       " (Bridge(excess=0, steps=[Step(overlap=3, word='educt')]), 'ct', 'edu'),\n",
       " (Bridge(excess=0, steps=[Step(overlap=3, word='gooky')]), 'ky', 'goo'),\n",
       " (Bridge(excess=0, steps=[Step(overlap=3, word='khaki')]), 'ki', 'kha'),\n",
       " (Bridge(excess=0, steps=[Step(overlap=3, word='moods')]), 'ds', 'moo'),\n",
       " (Bridge(excess=0, steps=[Step(overlap=3, word='polis')]), 'is', 'pol'),\n",
       " (Bridge(excess=0, steps=[Step(overlap=3, word='sepoy')]), 'oy', 'sep'),\n",
       " (Bridge(excess=0, steps=[Step(overlap=3, word='tempi')]), 'pi', 'tem'),\n",
       " (Bridge(excess=0, steps=[Step(overlap=3, word='widow')]), 'ow', 'wid'),\n",
       " (Bridge(excess=0, steps=[Step(overlap=4, word='bored')]), 'd', 'bore'),\n",
       " (Bridge(excess=0, steps=[Step(overlap=4, word='dregs')]), 's', 'dreg'),\n",
       " (Bridge(excess=0, steps=[Step(overlap=4, word='haste')]), 'e', 'hast'),\n",
       " (Bridge(excess=0, steps=[Step(overlap=4, word='meaty')]), 'y', 'meat'),\n",
       " (Bridge(excess=0, steps=[Step(overlap=4, word='quick')]), 'k', 'quic'),\n",
       " (Bridge(excess=0, steps=[Step(overlap=4, word='stave')]), 'e', 'stav'),\n",
       " (Bridge(excess=0, steps=[Step(overlap=4, word='woken')]), 'n', 'woke'),\n",
       " (Bridge(excess=1, steps=[Step(overlap=1, word='cappy')]), 'ppy', 'c'),\n",
       " (Bridge(excess=1, steps=[Step(overlap=1, word='fauve')]), 'uve', 'f'),\n",
       " (Bridge(excess=1, steps=[Step(overlap=1, word='inked')]), 'ked', 'i'),\n",
       " (Bridge(excess=1, steps=[Step(overlap=1, word='mopes')]), 'pes', 'm'),\n",
       " (Bridge(excess=1, steps=[Step(overlap=1, word='reeks')]), 'eks', 'r'),\n",
       " (Bridge(excess=1, steps=[Step(overlap=1, word='town')]), 'wn', 't'),\n",
       " (Bridge(excess=1, steps=[Step(overlap=2, word='angel')]), 'el', 'an'),\n",
       " (Bridge(excess=1, steps=[Step(overlap=2, word='diary')]), 'ry', 'di'),\n",
       " (Bridge(excess=1, steps=[Step(overlap=2, word='henry')]), 'ry', 'he'),\n",
       " (Bridge(excess=1, steps=[Step(overlap=2, word='nerd')]), 'd', 'ne'),\n",
       " (Bridge(excess=1, steps=[Step(overlap=2, word='shags')]), 'gs', 'sh'),\n",
       " (Bridge(excess=1, steps=[Step(overlap=2, word='vodka')]), 'ka', 'vo'),\n",
       " (Bridge(excess=1, steps=[Step(overlap=3, word='cered')]), 'd', 'cer'),\n",
       " (Bridge(excess=1, steps=[Step(overlap=3, word='grace')]), 'e', 'gra'),\n",
       " (Bridge(excess=1, steps=[Step(overlap=3, word='nicks')]), 's', 'nic'),\n",
       " (Bridge(excess=1, steps=[Step(overlap=3, word='sonar')]), 'r', 'son'),\n",
       " (Bridge(excess=2, steps=[Step(overlap=1, word='bulk')]), 'k', 'b'),\n",
       " (Bridge(excess=2, steps=[Step(overlap=1, word='tachs')]), 'hs', 't'),\n",
       " (Bridge(excess=2, steps=[Step(overlap=2, word='relax')]), 'x', 're')]"
      ]
     },
     "execution_count": 42,
     "metadata": {},
     "output_type": "execute_result"
    }
   ],
   "source": [
    "B[::1000] # Sample every 1000th bridge"
   ]
  },
  {
   "cell_type": "markdown",
   "metadata": {},
   "source": [
    "**Question**: What strange letter combinations are there? \n",
    "\n",
    "Let's look at two-letter suffixes or prefixes that only appear in one or two nonsubwords. "
   ]
  },
  {
   "cell_type": "code",
   "execution_count": 43,
   "metadata": {
    "scrolled": false
   },
   "outputs": [
    {
     "data": {
      "text/plain": [
       "{'aj': {'ajar'},\n",
       " 'ay': {'ayahs', 'ayatollahs'},\n",
       " 'bw': {'bwanas'},\n",
       " 'ct': {'ctrl'},\n",
       " 'dn': {'dnieper'},\n",
       " 'dv': {'dvorak'},\n",
       " 'ee': {'eelgrasses', 'eelworm'},\n",
       " 'ek': {'ekistics'},\n",
       " 'ez': {'ezekiel'},\n",
       " 'fb': {'fbi'},\n",
       " 'fj': {'fjords'},\n",
       " 'gj': {'gjetosts'},\n",
       " 'gw': {'gweducks', 'gweducs'},\n",
       " 'hd': {'hdqrs'},\n",
       " 'ie': {'ieee'},\n",
       " 'if': {'iffiness'},\n",
       " 'ik': {'ikebanas', 'ikons'},\n",
       " 'ip': {'ipecacs'},\n",
       " 'iv': {'ivories', 'ivory'},\n",
       " 'jn': {'jnanas'},\n",
       " 'kw': {'kwachas', 'kwashiorkor'},\n",
       " 'll': {'llamas', 'llanos'},\n",
       " 'mc': {'mcdonald'},\n",
       " 'oj': {'ojibwas'},\n",
       " 'pf': {'pfennigs'},\n",
       " 'qa': {'qaids', 'qatar'},\n",
       " 'qo': {'qophs'},\n",
       " 'sf': {'sforzatos'},\n",
       " 'tc': {'tchaikovsky'},\n",
       " 'uf': {'ufos'},\n",
       " 'wu': {'wurzel'},\n",
       " 'xi': {'xiphoids', 'xiphosuran'},\n",
       " 'xm': {'xmases'},\n",
       " 'yc': {'ycleped', 'yclept'},\n",
       " 'ym': {'ymca'},\n",
       " 'zl': {'zlotys'},\n",
       " 'zw': {'zwiebacks'}}"
      ]
     },
     "execution_count": 43,
     "metadata": {},
     "output_type": "execute_result"
    }
   ],
   "source": [
    "{pre: W.startswith[pre] # Rare two-letter prefixes\n",
    " for pre in sorted(W.startswith) \n",
    " if len(pre) == 2 and 1 <= len(W.startswith[pre]) <= 2}"
   ]
  },
  {
   "cell_type": "code",
   "execution_count": 44,
   "metadata": {},
   "outputs": [
    {
     "data": {
      "text/plain": [
       "{'aa': {'markkaa'},\n",
       " 'ab': {'skylab'},\n",
       " 'ai': {'bonsai'},\n",
       " 'ao': {'chiao', 'ciao'},\n",
       " 'bm': {'ibm', 'icbm'},\n",
       " 'cd': {'recd'},\n",
       " 'dn': {'haydn'},\n",
       " 'dt': {'rembrandt'},\n",
       " 'ec': {'filespec', 'quebec'},\n",
       " 'ef': {'unicef'},\n",
       " 'eh': {'mikveh', 'yahweh'},\n",
       " 'ep': {'asleep', 'shlep'},\n",
       " 'fa': {'khalifa'},\n",
       " 'gm': {'apophthegm'},\n",
       " 'gn': {'champaign'},\n",
       " 'hm': {'microhm'},\n",
       " 'hn': {'mendelssohn'},\n",
       " 'ho': {'groucho'},\n",
       " 'hr': {'kieselguhr'},\n",
       " 'hu': {'buchu'},\n",
       " 'ji': {'fiji'},\n",
       " 'ko': {'gingko', 'stinko'},\n",
       " 'ku': {'haiku'},\n",
       " 'lm': {'stockholm', 'unhelm'},\n",
       " 'ln': {'lincoln'},\n",
       " 'lu': {'honolulu'},\n",
       " 'mb': {'clomb', 'whitecomb'},\n",
       " 'mp': {'prestamp'},\n",
       " 'mt': {'daydreamt', 'undreamt'},\n",
       " 'nc': {'dezinc', 'quidnunc'},\n",
       " 'nu': {'vishnu'},\n",
       " 'nx': {'bronx', 'meninx'},\n",
       " 'nz': {'franz'},\n",
       " 'ob': {'blowjob'},\n",
       " 'oe': {'monroe'},\n",
       " 'oi': {'hanoi', 'polloi'},\n",
       " 'ou': {'thankyou'},\n",
       " 'oz': {'kolkhoz'},\n",
       " 'pa': {'tampa'},\n",
       " 'po': {'troppo'},\n",
       " 'rb': {'cowherb'},\n",
       " 'rf': {'waldorf', 'windsurf'},\n",
       " 'ru': {'nehru'},\n",
       " 'sr': {'ussr'},\n",
       " 'su': {'shiatsu'},\n",
       " 'sz': {'grosz'},\n",
       " 'td': {'retd'},\n",
       " 'tl': {'peyotl', 'shtetl'},\n",
       " 'tu': {'impromptu'},\n",
       " 'ua': {'joshua'},\n",
       " 'ub': {'beelzebub'},\n",
       " 'uc': {'caoutchouc'},\n",
       " 'ud': {'aloud', 'overproud'},\n",
       " 'ug': {'bedrug', 'sparkplug'},\n",
       " 'ui': {'maqui', 'prosequi'},\n",
       " 'vo': {'concavo'},\n",
       " 'vt': {'govt'},\n",
       " 'wa': {'kiowa', 'okinawa'},\n",
       " 'we': {'zimbabwe'},\n",
       " 'xe': {'deluxe', 'maxixe'},\n",
       " 'xo': {'convexo'},\n",
       " 'xs': {'duplexs'},\n",
       " 'yx': {'styx'},\n",
       " 'za': {'organza'},\n",
       " 'zm': {'transcendentalizm'},\n",
       " 'zo': {'diazo', 'palazzo'},\n",
       " 'zt': {'liszt'}}"
      ]
     },
     "execution_count": 44,
     "metadata": {},
     "output_type": "execute_result"
    }
   ],
   "source": [
    "endswith = multimap((w[-2:], w) for w in words)\n",
    "\n",
    "{suf: endswith[suf] # Rare two-letter suffixes\n",
    " for suf in sorted(endswith) \n",
    " if 1 <= len(endswith[suf]) <= 2}"
   ]
  },
  {
   "cell_type": "markdown",
   "metadata": {},
   "source": [
    "The two-letter prefixes definitely include some strange words.\n",
    "\n",
    "The list of two-letter suffixes is mostly pointing out flaws in the word list. For example, lots of words end in `ab`: blab, cab, dab, gab, etc. But must of them are subwords (of blabs, cabs, dabs, gabs, etc.); only `skylab` made it into the word list in singular form but not plural."
   ]
  },
  {
   "cell_type": "markdown",
   "metadata": {},
   "source": [
    "# Comparison to Tom Murphy's Program\n",
    "\n",
    "To compare my program to [Murphy's](https://sourceforge.net/p/tom7misc/svn/HEAD/tree/trunk/portmantout/): I used a greedy approach that incrementally builds up a single long portmanteau, extending it via a bridge when necessary. Murphy first built a pool of smaller portmanteaux, then joined them all together. I'm reminded of the [Traveling Salesperson Problem](TSP.ipynb) where one algorithm is to form a single path, always progressing to the nearest neighbor, and another algorithm is to maintain a pool of shorter segments and repeatedly join together the two closest segments. The two approaches are different, but it is not clear whether one is definitively better than the other (either for TSP or for portmantout). You could try it!\n",
    "\n",
    "(*English trivia:*  my program builds a single path of words, and when the path gets stuck and I need something to allow me to continue, it makes sense to call that thing a **bridge**.  Murphy's program starts by building a large pool of small portmanteaux that he calls **particles**, and when he can build no more particles, his next step is to put two particles together, so he calls it a **join**. The different metaphors for what our programs are doing lead to different terminology for the same idea.)\n",
    "\n",
    "In terms of implementation, mine is in Python and written at a high level of abstraction; Murphy's is in C++ and is at a lower level. That's one reason why his code is 10 times longer; another reason is that he does a lot of cool extra work with generating diagrams and animations. \n",
    "\n",
    "It appears Murphy didn't quite have the complete concept of **subwords**. He did mention that when he adds `'bulleting'`, he crosses `'bullet'` and `'bulletin'` off the list, but somehow  [his string](http://tom7.org/portmantout/murphy2015portmantout.pdf) contains both `'spectacular'` and `'spectaculars'` in two different places. My guess is that when he adds `'spectaculars'` he crosses off `'spectacular'`, but if he happens to add `'spectacular'` first, he will later add `'spectaculars'`. Support for this guess is that his output in `bench.txt` says \"I skipped 24319 words that were already substrs\";  there are 44,320 such subwords, and he found about half of them. I think those missing 20,001 words are the main reason why my $S$ strings are coming in at around 554,000 letters, about 57,000 letters shorter than Murphy's best case of 611,820 letters.\n",
    "\n",
    "Also, Murphy's *joins* are always between one-letter prefixes and suffixes. I do the same thing for two-word bridges, because having a `W.bridges[A][B]` for every letter `A` and `B` is  the easiest way to prove that the program will terminate. But for one-word bridges, I allow prefixes and suffixes of any length up to a total of 6 for `len(pre) + len(suf)`. I can get away with this because I limited my candidate pool to the 10,000 `shortwords`. It would have been untenable to build all bridges of all lengths for all 100,000 words, and probably would not have helped shorten $S$ appreciably.\n",
    "\n",
    "I should say that I stole a trick from Murphy. I started watching his highly-entertaining [video](https://www.youtube.com/watch?time_continue=1&v=QVn2PZGZxaI), but then I paused it because I wanted the fun of solving the problem mostly on my own. After I finished the first version of my program, I returned to the video and [paper](http://tom7.org/portmantout/murphy2015portmantout.pdf) and I noticed that I had a problem in my use of bridges. My program originally looked something like this: \n",
    "\n",
    "    step = unused_step(...) or one_word_bridge(...) or two_word_bridge(...)\n",
    "    \n",
    "That is, I only considered two-word bridges when there was no one-word bridge, on the theory that one word is shorter than two. But Murphy showed that my theory was wrong: I had `'workaholic'`, a one-word bridge, for `bridges['w']['c']`, but Murphy had the two-word bridge  `'war' + 'arc' = 'warc'`, which saves six letters. After seeing that, I shamelessly copied his approach, and now I too get a four-letter `bridges['w']['c']`:"
   ]
  },
  {
   "cell_type": "code",
   "execution_count": 45,
   "metadata": {},
   "outputs": [
    {
     "data": {
      "text/plain": [
       "Bridge(excess=2, steps=[Step(overlap=1, word='we'), Step(overlap=1, word='etc')])"
      ]
     },
     "execution_count": 45,
     "metadata": {},
     "output_type": "execute_result"
    }
   ],
   "source": [
    "W.bridges['w']['c']"
   ]
  },
  {
   "cell_type": "markdown",
   "metadata": {},
   "source": [
    "# Conclusion\n",
    "\n",
    "I'll stop here, but you should feel free to do more experimentation of your own. \n",
    "\n",
    "Here are some things you could do to make the portmantouts more interesting:\n",
    "\n",
    "- Use linguistic resources (such as [pretrained word embeddings](https://nlp.stanford.edu/projects/glove/)) to teach your program what words are related to each other. Encourage the program to place  related words next to each other.\n",
    "- Use linguistic resources (such as [NLTK](https://github.com/nltk/)) to teach your program where syllable breaks are in words, and what each syllable sounds like. Encourage the program to make overlaps match syllables. (That's why \"preferendumdums\" sounds better than \"fortyphonshore\".)\n",
    "\n",
    "Here are some things you could do to make $S$ shorter:\n",
    "\n",
    "- **Lookahead**: Unused words are chosen based on the degree of overlap, but nothing else. It might help to prefer unused words which have a suffix that matches the prefix of another unused word. A single-word lookahead or a bbeam search could be used.\n",
    "\n",
    "- **Reserving words**: It seems like `haydn` and `dnieper` are made to go together; they're the only words with `dn` as an affix. If `haydn` was selected first, `unused_step` would select `dnieper` next, but if `dnieper` as selected first, we'd lose the chance to take advantage of that overlap. Maybe there could be a system that assures `haydn` comes first, or a preprocessing step that joined together words that uniquely go together. This is getting close to what Murphy did in his program.\n",
    "\n",
    "- **Word choice ordering**: Perhaps `compute_startswith` could sort the words in each key's bucket so that the \"difficult\" words (say, the ones that end in unusual letters) are encountered earlier in the program's execution, when there are more available words for them to connect to.\n",
    "  \n",
    "Here are some things you could do to make the program more robust:\n",
    "\n",
    "- Write and run unit tests. (I have some cells that informally test things, but no formal tests.)\n",
    "\n",
    "- Find other word lists, perhaps in other languages, and try the program on them.\n",
    "\n",
    "- Consider what to do for a wordset that has missing bridges. You could try three-word bridges, you could allow the program to back up and remove a previously-placed word; you could allow the addition of words to the start as well as the end of `P`."
   ]
  }
 ],
 "metadata": {
  "kernelspec": {
   "display_name": "Python 3",
   "language": "python",
   "name": "python3"
  },
  "language_info": {
   "codemirror_mode": {
    "name": "ipython",
    "version": 3
   },
   "file_extension": ".py",
   "mimetype": "text/x-python",
   "name": "python",
   "nbconvert_exporter": "python",
   "pygments_lexer": "ipython3",
   "version": "3.7.7"
  }
 },
 "nbformat": 4,
 "nbformat_minor": 2
}
