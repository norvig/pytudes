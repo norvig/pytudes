{
 "cells": [
  {
   "cell_type": "markdown",
   "metadata": {},
   "source": [
    "<div align=\"right\" style=\"text-align: right;\"><i>Peter Norvig<br>Jotto: April 2020<br>Wordle: Jan 2022</i></div>\n",
    "\n",
    "# Jotto and Wordle: Word Guessing Games\n",
    "\n",
    "[Jotto](https://en.wikipedia.org/wiki/Jotto) is a word game in which a **guesser** tries to guess a secret **target** word, which is chosen from a **word list** of allowable words, in as few guesses as possible. Each guess must be one of the allowable words, and the **reply** to each guess is the number of letters in common between the guess word and the target word, regardless of the positions of the letters.   \n",
    "\n",
    "Here is an example Jotto game, where I show the guesses, the replies, the number of remaining consistent target words, and finally the letters that matched (the matches are an aid to you, the reader; they are not known to the guesser). A **consistent target** is a word that would give the same reply to each guess as the replies actually observed.  In this game, the guesser gets to the target word, \"wonky\", in 7 guesses. \n",
    "\n",
    "    Guess 1: \"stoma\" Reply: 1; Consistent targets: 1118    (Matched: \"o\")\n",
    "    Guess 2: \"bairn\" Reply: 1; Consistent targets: 441     (Matched: \"n\")\n",
    "    Guess 3: \"swipe\" Reply: 1; Consistent targets: 197     (Matched: \"w\")\n",
    "    Guess 4: \"lurks\" Reply: 1; Consistent targets: 87      (Matched: \"k\")\n",
    "    Guess 5: \"rowdy\" Reply: 3; Consistent targets: 14      (Matched: \"owy\")\n",
    "    Guess 6: \"roved\" Reply: 1; Consistent targets: 2       (Matched: \"o\")\n",
    "    Guess 7: \"wonky\" Reply: 5; Consistent targets: 1       (Matched: \"wonky\")\n",
    "\n",
    "\n",
    "There are several variants of Jotto; here are five key questions and my answers:\n",
    "\n",
    "- How many letters can each word have? <br>**Five**.\n",
    "- Does a guess have to be a word in the word list? <br>**Yes.**\n",
    "- Can a word have repeated letters, like the \"s\" in \"stars\"? <br>**No.** Every word must have 5 different letters.\n",
    "- What if the reply is \"5\", but the guess is not the target?<br>**Not allowed**. No two words in the word list may have the same set of five letters.<br>(For example, only one of the anagrams apers/pares/parse/pears/reaps/spare/spear is allowed.)\n",
    "- Who chooses the target word? <br>**Random chance**. Jotto is sometimes a two-person game where the chooser is an adversary, but not here.\n",
    "\n",
    "# Jotto Preliminaries\n",
    "\n",
    "First off, some Python basics: Import some modules and define the basic types `Word`, `Score`, and `Reply`:"
   ]
  },
  {
   "cell_type": "code",
   "execution_count": 1,
   "metadata": {},
   "outputs": [],
   "source": [
    "from typing      import List, Tuple, Dict, Union, Counter, Callable, Iterable\n",
    "from dataclasses import dataclass\n",
    "from statistics  import mean, median, stdev\n",
    "from collections import defaultdict\n",
    "from math        import log2\n",
    "import random \n",
    "import matplotlib.pyplot as plt\n",
    "\n",
    "Word  = str # A word is a lower-case string of five different letters\n",
    "Score = int # A score is the number of guesses it took to get the target word\n",
    "Reply = int # A reply is the number of letters in common between guess and target words\n",
    "\n",
    "random.seed(42) # For reproducibility"
   ]
  },
  {
   "cell_type": "markdown",
   "metadata": {},
   "source": [
    "We can make a Jotto word list by:\n",
    "- Starting with a file containing a list of words.\n",
    "- Discarding the ones that don't have 5 distinct letters.\n",
    "- Putting the rest into a dict of anagrams keyed by the set of letters.\n",
    "- Keeping only one word for each anagram."
   ]
  },
  {
   "cell_type": "code",
   "execution_count": 2,
   "metadata": {},
   "outputs": [],
   "source": [
    "def read_words(filename) -> List[Word]: return open(filename).read().split()\n",
    "\n",
    "def allowable(words) -> List[Word]:\n",
    "    \"\"\"Build a list of allowable Jotto words from an iterable of words.\"\"\"\n",
    "    anagrams = {frozenset(w): w for w in words if len(w) == 5 == len(set(w))}\n",
    "    return list(anagrams.values())"
   ]
  },
  {
   "cell_type": "markdown",
   "metadata": {},
   "source": [
    "The [Stanford GraphBase project](https://www-cs-faculty.stanford.edu/~knuth/sgb.html) has a nice list of five-letter words, [sgb-words.txt](sgb-words.txt):"
   ]
  },
  {
   "cell_type": "code",
   "execution_count": 3,
   "metadata": {},
   "outputs": [
    {
     "data": {
      "text/plain": [
       "2845"
      ]
     },
     "execution_count": 3,
     "metadata": {},
     "output_type": "execute_result"
    }
   ],
   "source": [
    "! [ -e sgb-words.txt ] || curl -O https://norvig.com/ngrams/sgb-words.txt\n",
    "    \n",
    "wordlist = allowable(read_words('sgb-words.txt'))\n",
    "\n",
    "len(wordlist)"
   ]
  },
  {
   "cell_type": "markdown",
   "metadata": {},
   "source": [
    "We see there are 2,845 allowable Jotto words in [sgb-words.txt](sgb-words.txt)."
   ]
  },
  {
   "cell_type": "markdown",
   "metadata": {},
   "source": [
    "# Playing Jotto\n",
    "\n",
    "The function `play` will play a game of Jotto and return the score (the number of guesses). The  arguments are:\n",
    "- `guesser`: a `callable` (e.g., a function) that should return the guess to make. The guesser is passed two arguments: \n",
    "  - The reply to the previous guess.\n",
    "  - A list of the words that are consistent with all the guesses made so far. \n",
    "<br>(If the guesser wants to keep track of all the guesses made so far, or all the words in the word list, it can.)\n",
    "- `target`: The target word. If none is given, the target word is chosen at random from the wordlist.\n",
    "- `wordlist`: The list of allowable words.\n",
    "- `verbose`: Unless false, print a message for each guess.\n",
    "\n",
    "Two corner cases: \n",
    "1. If the guesser improperly guesses a non-word, the reply is `None`. \n",
    "2. To prevent an infinite loop, the worst score you can get is the number of words in the wordlist."
   ]
  },
  {
   "cell_type": "code",
   "execution_count": 4,
   "metadata": {},
   "outputs": [],
   "source": [
    "Guesser = Callable[[Reply, List[Word]], Word]\n",
    "\n",
    "def play(guesser: Guesser, target=None, wordlist=wordlist, verbose=True) -> Score:\n",
    "    \"\"\"The number of guesses it take for `guesser` to guess the Jotto word,\n",
    "    which is given by `target` or selected from the words in `wordlist`?\"\"\"\n",
    "    target  = target or random.choice(wordlist) # Choose a random target if none was given\n",
    "    targets = wordlist      # The targets that are consistent with all replies\n",
    "    reply   = None          # For the first guess, there is no previous reply\n",
    "    N       = len(wordlist)\n",
    "    for turn in range(1, N + 1):\n",
    "        guess = guesser(reply, targets)\n",
    "        reply = reply_for(guess, target) if guess in wordlist else None\n",
    "        targets = [t for t in targets if reply_for(guess, t) == reply]\n",
    "        if verbose: \n",
    "            print(f'Guess {turn}: \"{guess}\" Reply: {reply}; Consistent targets: {len(targets)}')\n",
    "        if guess == target or turn == N:  \n",
    "            return turn\n",
    "                         \n",
    "def reply_for(guess, target) -> Reply: \n",
    "    \"The number of letters in common between the target and guess\"\n",
    "    return len(set(target).intersection(guess))"
   ]
  },
  {
   "cell_type": "markdown",
   "metadata": {},
   "source": [
    "To play a game, we will need a guesser. Here are two simple ones:\n"
   ]
  },
  {
   "cell_type": "code",
   "execution_count": 5,
   "metadata": {},
   "outputs": [],
   "source": [
    "def human_guesser(reply, targets) -> Word: \n",
    "    \"\"\"Ask a human to make a guess.\"\"\"\n",
    "    return input(f'Reply was {reply}. Your guess? ')\n",
    "\n",
    "def random_guesser(reply, targets) -> Word: \n",
    "    \"\"\"Choose a guess at random from the consistent targets.\"\"\"\n",
    "    return random.choice(targets)"
   ]
  },
  {
   "cell_type": "markdown",
   "metadata": {},
   "source": [
    "# Sample Jotto Games\n",
    "\n",
    "Here is the `random_guesser` in action:"
   ]
  },
  {
   "cell_type": "code",
   "execution_count": 6,
   "metadata": {},
   "outputs": [
    {
     "name": "stdout",
     "output_type": "stream",
     "text": [
      "Guess 1: \"strop\" Reply: 3; Consistent targets: 322\n",
      "Guess 2: \"party\" Reply: 1; Consistent targets: 112\n",
      "Guess 3: \"obits\" Reply: 3; Consistent targets: 44\n",
      "Guess 4: \"sloth\" Reply: 2; Consistent targets: 12\n",
      "Guess 5: \"brows\" Reply: 2; Consistent targets: 5\n",
      "Guess 6: \"pious\" Reply: 4; Consistent targets: 4\n",
      "Guess 7: \"pions\" Reply: 4; Consistent targets: 3\n",
      "Guess 8: \"dipso\" Reply: 5; Consistent targets: 1\n"
     ]
    },
    {
     "data": {
      "text/plain": [
       "8"
      ]
     },
     "execution_count": 6,
     "metadata": {},
     "output_type": "execute_result"
    }
   ],
   "source": [
    "play(random_guesser)"
   ]
  },
  {
   "cell_type": "code",
   "execution_count": 7,
   "metadata": {},
   "outputs": [
    {
     "name": "stdout",
     "output_type": "stream",
     "text": [
      "Guess 1: \"carpy\" Reply: 0; Consistent targets: 602\n",
      "Guess 2: \"litho\" Reply: 2; Consistent targets: 249\n",
      "Guess 3: \"loved\" Reply: 0; Consistent targets: 21\n",
      "Guess 4: \"fugit\" Reply: 2; Consistent targets: 7\n",
      "Guess 5: \"skint\" Reply: 1; Consistent targets: 1\n",
      "Guess 6: \"thumb\" Reply: 5; Consistent targets: 1\n"
     ]
    },
    {
     "data": {
      "text/plain": [
       "6"
      ]
     },
     "execution_count": 7,
     "metadata": {},
     "output_type": "execute_result"
    }
   ],
   "source": [
    "play(random_guesser)"
   ]
  },
  {
   "cell_type": "code",
   "execution_count": 8,
   "metadata": {},
   "outputs": [
    {
     "name": "stdout",
     "output_type": "stream",
     "text": [
      "Guess 1: \"thous\" Reply: 1; Consistent targets: 1141\n",
      "Guess 2: \"vocal\" Reply: 2; Consistent targets: 340\n",
      "Guess 3: \"snack\" Reply: 0; Consistent targets: 46\n",
      "Guess 4: \"vigor\" Reply: 2; Consistent targets: 19\n",
      "Guess 5: \"oxlip\" Reply: 2; Consistent targets: 10\n",
      "Guess 6: \"roble\" Reply: 3; Consistent targets: 4\n",
      "Guess 7: \"world\" Reply: 5; Consistent targets: 1\n"
     ]
    },
    {
     "data": {
      "text/plain": [
       "7"
      ]
     },
     "execution_count": 8,
     "metadata": {},
     "output_type": "execute_result"
    }
   ],
   "source": [
    "play(random_guesser, target='world')"
   ]
  },
  {
   "cell_type": "markdown",
   "metadata": {},
   "source": [
    "#  Partitioning Target Words\n",
    "\n",
    "A key idea in guessing is to reduce the number of consistent targets. When there is a single consistent target left, the game is over. We can think of a guess as **partitioning** the consistent targets into different **branches** of a tree, each branch corresponding to a different reply:"
   ]
  },
  {
   "cell_type": "code",
   "execution_count": 9,
   "metadata": {},
   "outputs": [],
   "source": [
    "def partition(guess, targets) ->  Dict[Reply, List[str]]:\n",
    "    \"\"\"A guess partition targets by the possible replies to guess: {reply: [word, ...]}.\"\"\"\n",
    "    branches = defaultdict(list)\n",
    "    for target in targets:\n",
    "        branches[reply_for(guess, target)].append(target)\n",
    "    return branches"
   ]
  },
  {
   "cell_type": "markdown",
   "metadata": {},
   "source": [
    "To get a feel for how this works, a 2,845 word list is too much to deal with; let's consider just the first 22 words in `wordlist`. Here are two partitions of those 22 words, one by the guess `'girth'` and one by `'ethos'`:"
   ]
  },
  {
   "cell_type": "code",
   "execution_count": 10,
   "metadata": {},
   "outputs": [],
   "source": [
    "words22 = wordlist[:22]\n",
    "\n",
    "assert (partition('girth', words22) ==\n",
    "       {0: ['would', 'cloud', 'place', 'sound', 'fondu'],\n",
    "        1: ['about', 'sword', 'resay', 'nuder', 'house'],\n",
    "        2: ['water', 'after', 'ethos', 'while'],\n",
    "        3: ['throe', 'write', 'rifts', 'think', 'grate'],\n",
    "        4: ['their', 'might'],\n",
    "        5: ['girth']})\n",
    "\n",
    "assert (partition('ethos', words22) ==\n",
    "       {1: ['would', 'cloud', 'place', 'fondu', 'nuder'],\n",
    "        2: ['about', 'sword', 'write', 'rifts', 'water', 'after', 'girth', 'think', 'resay', \n",
    "            'sound', 'grate', 'might', 'while'],\n",
    "        3: ['their'],\n",
    "        4: ['throe', 'house'],\n",
    "        5: ['ethos']})"
   ]
  },
  {
   "cell_type": "markdown",
   "metadata": {},
   "source": [
    "No matter what the reply to `'girth'` is,  we will be left with no more than 5 targets. \n",
    "\n",
    "But if we guess `'ethos'` then 13 of the 22 targets would get a reply of 2, and there would be 13 possible targets remaining to deal with. That  suggests that `'girth'` is a better guess and that a good strategy is: **guess a word that partitions the possible targets into small branches.**\n",
    "\n",
    "Since we only need to know the *size* of each branch, not the list of words therein, we can use `partition_counts`:"
   ]
  },
  {
   "cell_type": "code",
   "execution_count": 11,
   "metadata": {},
   "outputs": [],
   "source": [
    "def partition_counts(guess, targets) -> List[int]: \n",
    "    \"The sizes of the branches of a partition of targets by guess.\"\n",
    "    counter = Counter(reply_for(guess, target) for target in targets)\n",
    "    return list(counter.values())"
   ]
  },
  {
   "cell_type": "code",
   "execution_count": 12,
   "metadata": {},
   "outputs": [
    {
     "data": {
      "text/plain": [
       "[2, 5, 5, 5, 4, 1]"
      ]
     },
     "execution_count": 12,
     "metadata": {},
     "output_type": "execute_result"
    }
   ],
   "source": [
    "partition_counts('girth', words22)"
   ]
  },
  {
   "cell_type": "code",
   "execution_count": 13,
   "metadata": {},
   "outputs": [
    {
     "data": {
      "text/plain": [
       "[1, 13, 5, 2, 1]"
      ]
     },
     "execution_count": 13,
     "metadata": {},
     "output_type": "execute_result"
    }
   ],
   "source": [
    "partition_counts('ethos', words22)"
   ]
  },
  {
   "cell_type": "markdown",
   "metadata": {},
   "source": [
    "# Metrics for Minimizing Partitions\n",
    "\n",
    "We want partitions with **small branches**, but what exactly does that mean? Ideally, we want the partition that minimizes the average number of additional guesses it will take to finish the game. But since we don't know that, we can instead minimize one of the following proxy metrics:\n",
    "\n",
    "- **Maximum**: choose the partition that minimizes the size of the largest branch.\n",
    "\n",
    "- **Expectation**: In probability theory, the expectation (also known as expected value) is the weighted average of a random variable. Here it means the sum, over all branches, of the probability of ending up in the branch multiplied by the size of the branch. We are assuming that every target is equally likely, so the probability of a branch is proportional to the number of targets in it.\n",
    "\n",
    "- **Negative Entropy**: In information theory, entropy is the weighted average amount of \"information\" measured in bits. The calculation is the same as expectation except that we count the base 2 logarithm of the branch sizes, not the branches sizes themselves. You can think of the base 2 logarithm as the number of times that you need to cut a branch in half to get it down to one word. We want to maximize entropy, or minimize *negative* entropy.\n",
    "\n",
    "The maximum is just the builtin `max` function; here are the other two metrics:"
   ]
  },
  {
   "cell_type": "code",
   "execution_count": 14,
   "metadata": {},
   "outputs": [],
   "source": [
    "def expectation(counts: List[int]) -> float:\n",
    "    \"The expected value of the counts.\"\n",
    "    N = sum(counts)\n",
    "    def P(x): return x / N\n",
    "    return sum(P(x) * x for x in counts)\n",
    "\n",
    "def neg_entropy(counts: List[int]) -> float: \n",
    "    \"\"\"The negation of the entropy of the counts.\"\"\"\n",
    "    N = sum(counts)\n",
    "    def P(x): return x / N\n",
    "    return sum(P(x) * log2(P(x)) for x in counts)"
   ]
  },
  {
   "cell_type": "markdown",
   "metadata": {},
   "source": [
    "#  Caching Best Guesses: Guess Trees\n",
    "\n",
    "Going through every word in the wordlist to decide which one makes the best partition takes some time. I would prefer to do that computation just once and cache it, rather than have to repeat the computation in every new game. I will cache the best guesses in a structure called a **guess tree**: a tree that has branches for every possible path the game might take, with the best guess for each situation already computed. A guess tree is either:\n",
    "- An **interior node**, which has a guess and a dict of branches, `Node(guess, {reply: subtree, ...})`, where  each subtree covers all the target words that are consistent with the corresponding reply.\n",
    "- A **leaf word**,  indicating the sole remaining consistent target word. Every word in the word list should appear as a leaf in exactly one place in a guess tree."
   ]
  },
  {
   "cell_type": "code",
   "execution_count": 15,
   "metadata": {},
   "outputs": [],
   "source": [
    "@dataclass \n",
    "class Node:\n",
    "    \"\"\"A node in a guess tree. It stores the best guess, and a branch for every possible reply.\"\"\"\n",
    "    guess: Word\n",
    "    branches: Dict[Reply, 'Tree']\n",
    "        \n",
    "    def __repr__(self) -> str: return f'Node(\"{self.guess}\", {self.branches})'\n",
    "\n",
    "Tree = Union[Node, Word] # A Tree is either an interior Node or a leaf Word"
   ]
  },
  {
   "cell_type": "markdown",
   "metadata": {},
   "source": [
    "The function `minimizing_tree(metric, targets)` builds a guess tree that covers all the targets and that, at every node, guesses a word that  minimizes the `metric` applied to the `partition_counts` of the guess."
   ]
  },
  {
   "cell_type": "code",
   "execution_count": 16,
   "metadata": {},
   "outputs": [],
   "source": [
    "def minimizing_tree(metric, targets) -> Tree:\n",
    "    \"\"\"Make a tree that picks guesses that minimize metric(partition_counts(guess, targets)).\"\"\"\n",
    "    if len(targets) == 1:\n",
    "        return targets[0]\n",
    "    else:\n",
    "        guess = min(targets, key=lambda guess: metric(partition_counts(guess, targets))) \n",
    "        branches = partition(guess, targets)\n",
    "        return Node(guess, {reply: minimizing_tree(metric, branches[reply]) \n",
    "                            for reply in branches})"
   ]
  },
  {
   "cell_type": "markdown",
   "metadata": {},
   "source": [
    "Here is a minimizing tree that covers the 22 words. The tree says that the first guess is `\"girth\"`, and if the reply is `0` the next guess is `\"would\"`. If, say, the reply to `\"would\"` is 4, then there is only one other word left, the leaf word `'cloud'`. If the reply is 5, that means `\"would\"` was correct. I won't go through the other branches of the tree."
   ]
  },
  {
   "cell_type": "code",
   "execution_count": 17,
   "metadata": {},
   "outputs": [],
   "source": [
    "tree22 = minimizing_tree(max, words22)\n",
    "\n",
    "assert (tree22 ==\n",
    "        Node(\"girth\", \n",
    "             {0: Node(\"would\", \n",
    "                      {1: 'place', \n",
    "                       3: Node(\"sound\", {4: 'fondu', 5: 'sound'}), \n",
    "                       4: 'cloud', \n",
    "                       5: 'would'}), \n",
    "              1: Node(\"about\", \n",
    "                      {1: Node(\"sword\", \n",
    "                               {2: Node(\"resay\", {2: 'nuder', 5: 'resay'}), \n",
    "                                5: 'sword'}), \n",
    "                       2: 'house', \n",
    "                       5: 'about'}), \n",
    "              2: Node(\"after\", \n",
    "                      {1: 'while', \n",
    "                       2: 'ethos', \n",
    "                       4: 'water', \n",
    "                       5: 'after'}), \n",
    "              3: Node(\"throe\", \n",
    "                      {2: Node(\"rifts\", {2: 'think', 5: 'rifts'}), \n",
    "                       3: Node(\"write\", {3: 'grate', 5: 'write'}), \n",
    "                       5: 'throe'}), \n",
    "              4: Node(\"their\", \n",
    "                      {3: 'might', \n",
    "                       5: 'their'}), \n",
    "              5: 'girth'}))"
   ]
  },
  {
   "cell_type": "markdown",
   "metadata": {},
   "source": [
    "# Turning a Tree into a Guesser\n",
    "\n",
    "A tree is not a guesser, but we can easily make a guesser from a tree. A `TreeGuesser` works as follows:\n",
    "- When *initialized*, it takes a tree as input, and stores the tree under the `.root` attribute.\n",
    "- When *called*, it sets the `.tree` attribute:\n",
    "  - For the first turn in a game (when the reply is `None`), it resets `.tree`  to `.root`.\n",
    "  - On subsequent turns, it updates `.tree` to be the branch corresponding to the reply.\n",
    "- It then returns the guess for the current tree: either the `.guess` attribute  or the leaf word. "
   ]
  },
  {
   "cell_type": "code",
   "execution_count": 18,
   "metadata": {},
   "outputs": [],
   "source": [
    "class TreeGuesser:\n",
    "    \"\"\"Given a guess tree, use it to create a callable Guesser that can play Jotto.\"\"\"\n",
    "    def __init__(self, tree): self.root = tree\n",
    "        \n",
    "    def __call__(self, reply, targets) -> Word:\n",
    "        \"\"\"If reply is None, start a new game; otherwise follow the branch for the reply.\n",
    "        Then return the current leaf or interior node guess.\"\"\"\n",
    "        tree = self.tree = self.root if reply is None else self.tree.branches[reply]\n",
    "        return tree.guess if isinstance(tree, Node) else tree"
   ]
  },
  {
   "cell_type": "markdown",
   "metadata": {},
   "source": [
    "Here we build a tree that minimizes the maximum branch size (over the full wordlist) and make a guesser out of it:"
   ]
  },
  {
   "cell_type": "code",
   "execution_count": 19,
   "metadata": {},
   "outputs": [],
   "source": [
    "tree = minimizing_tree(max, wordlist)\n",
    "guesser = TreeGuesser(tree)"
   ]
  },
  {
   "cell_type": "markdown",
   "metadata": {},
   "source": [
    "# Sample Games with the Minimizing Guesser\n"
   ]
  },
  {
   "cell_type": "code",
   "execution_count": 20,
   "metadata": {},
   "outputs": [
    {
     "name": "stdout",
     "output_type": "stream",
     "text": [
      "Guess 1: \"wader\" Reply: 0; Consistent targets: 466\n",
      "Guess 2: \"tings\" Reply: 2; Consistent targets: 160\n",
      "Guess 3: \"gunky\" Reply: 1; Consistent targets: 54\n",
      "Guess 4: \"bouts\" Reply: 2; Consistent targets: 16\n",
      "Guess 5: \"clogs\" Reply: 0; Consistent targets: 1\n",
      "Guess 6: \"mufti\" Reply: 5; Consistent targets: 1\n"
     ]
    },
    {
     "data": {
      "text/plain": [
       "6"
      ]
     },
     "execution_count": 20,
     "metadata": {},
     "output_type": "execute_result"
    }
   ],
   "source": [
    "play(guesser)"
   ]
  },
  {
   "cell_type": "code",
   "execution_count": 21,
   "metadata": {},
   "outputs": [
    {
     "name": "stdout",
     "output_type": "stream",
     "text": [
      "Guess 1: \"wader\" Reply: 1; Consistent targets: 1012\n",
      "Guess 2: \"actin\" Reply: 2; Consistent targets: 355\n",
      "Guess 3: \"flats\" Reply: 2; Consistent targets: 113\n",
      "Guess 4: \"cloak\" Reply: 3; Consistent targets: 17\n",
      "Guess 5: \"backs\" Reply: 2; Consistent targets: 5\n",
      "Guess 6: \"clamp\" Reply: 3; Consistent targets: 2\n",
      "Guess 7: \"plank\" Reply: 5; Consistent targets: 1\n"
     ]
    },
    {
     "data": {
      "text/plain": [
       "7"
      ]
     },
     "execution_count": 21,
     "metadata": {},
     "output_type": "execute_result"
    }
   ],
   "source": [
    "play(guesser)"
   ]
  },
  {
   "cell_type": "code",
   "execution_count": 22,
   "metadata": {},
   "outputs": [
    {
     "name": "stdout",
     "output_type": "stream",
     "text": [
      "Guess 1: \"wader\" Reply: 3; Consistent targets: 319\n",
      "Guess 2: \"sword\" Reply: 1; Consistent targets: 131\n",
      "Guess 3: \"paled\" Reply: 4; Consistent targets: 21\n",
      "Guess 4: \"abled\" Reply: 3; Consistent targets: 8\n",
      "Guess 5: \"paved\" Reply: 4; Consistent targets: 6\n",
      "Guess 6: \"caped\" Reply: 4; Consistent targets: 5\n",
      "Guess 7: \"paged\" Reply: 4; Consistent targets: 4\n",
      "Guess 8: \"adept\" Reply: 4; Consistent targets: 3\n",
      "Guess 9: \"paned\" Reply: 4; Consistent targets: 2\n",
      "Guess 10: \"payed\" Reply: 4; Consistent targets: 1\n",
      "Guess 11: \"amped\" Reply: 5; Consistent targets: 1\n"
     ]
    },
    {
     "data": {
      "text/plain": [
       "11"
      ]
     },
     "execution_count": 22,
     "metadata": {},
     "output_type": "execute_result"
    }
   ],
   "source": [
    "play(guesser)"
   ]
  },
  {
   "cell_type": "markdown",
   "metadata": {},
   "source": [
    "# Making Inconsistent Guesses\n",
    "\n",
    "So far,  we have always guessed one of the consistent targets. That seems reasonable; why waste a guess on a word that could not possibly be the target? But it turns out that in some cases it ***is*** a good strategy to guess such a word.\n",
    "\n",
    "Consider the branch of `tree22` where the reply to the first guess is 1. There are 5 consistent words remaining, and the max-minimizing tree (which starts by guessing `\"about\"`), can take up to 4 more guesses to find the target:"
   ]
  },
  {
   "cell_type": "code",
   "execution_count": 23,
   "metadata": {},
   "outputs": [],
   "source": [
    "assert (tree22.branches[1] == \n",
    "        Node(\"about\", \n",
    "             {1: Node(\"sword\", \n",
    "                      {2: Node(\"resay\", \n",
    "                               {2: 'nuder', \n",
    "                                5: 'resay'}), \n",
    "                       5: 'sword'}), \n",
    "              2: 'house', \n",
    "              5: 'about'}))"
   ]
  },
  {
   "cell_type": "markdown",
   "metadata": {},
   "source": [
    "But now consider this tree, which covers the same five words:"
   ]
  },
  {
   "cell_type": "code",
   "execution_count": 24,
   "metadata": {},
   "outputs": [],
   "source": [
    "tree5 = Node(\"nerdy\", {0: 'about', \n",
    "                       1: 'house', \n",
    "                       2: 'sword', \n",
    "                       3: 'resay', \n",
    "                       4: 'nuder'})"
   ]
  },
  {
   "cell_type": "markdown",
   "metadata": {},
   "source": [
    "The first guess, `\"nerdy\"` is inconsistent–it is not one of the five words. This tree sacrifices the 1-in-5 chance of being right on the first guess in order to be assured that the second guess will be correct. So the min, max, mean, and median is 2 guesses. On the whole, this is better than guessing `\"about\"`, which gives a mean of 2.4 and a worst case of 4.  \n",
    "\n",
    "I will redefine `minimizing_tree` so that it is passed both the list of remaining consistent target words and the complete word list. It also takes a flag, `inconsistent`. When this flag is true, any word in the wordlist can be considered as a guess; when false, only consistent targets are considered, as before. (Note: when there are 3 or fewer target words left there is no use considering inconsistent guesses, since they cannot improve the average score over a consistent guess. Also, when there are many targets, the odds are one of them will be as good as any inconsistent guess. The value of *many* was empirically chosen as `inconsistent_max = 400`.)"
   ]
  },
  {
   "cell_type": "code",
   "execution_count": 25,
   "metadata": {},
   "outputs": [],
   "source": [
    "def minimizing_tree(metric, targets, wordlist=wordlist, inconsistent=False) -> Tree:\n",
    "    \"\"\"Make a tree that picks guesses that minimize metric(partition_counts(guess, targets)).\"\"\"\n",
    "    if len(targets) == 1:\n",
    "        return targets[0]\n",
    "    else:\n",
    "        guesses  = wordlist if (inconsistent and 3 < len(targets) <= inconsistent_max) else targets\n",
    "        guess    = min(guesses, key=lambda guess: metric(partition_counts(guess, targets))) \n",
    "        branches = partition(guess, targets)\n",
    "        return Node(guess, {reply: minimizing_tree(metric, branches[reply], wordlist, inconsistent) \n",
    "                            for reply in sorted(branches)})\n",
    "    \n",
    "inconsistent_max = 400"
   ]
  },
  {
   "cell_type": "code",
   "execution_count": 26,
   "metadata": {},
   "outputs": [],
   "source": [
    "words5 = ['about', 'house', 'sword', 'resay', 'nuder']\n",
    "\n",
    "assert minimizing_tree(max, words5, inconsistent=True) == tree5"
   ]
  },
  {
   "cell_type": "markdown",
   "metadata": {},
   "source": [
    "# Evaluating and Reporting on Guessers\n",
    "\n",
    "To properly evaluate a guesser, a sample of 3 games is not enough to be statistically reliable. I'll introduce three functions that together will evaluate a guesser and produce a report:\n",
    "\n",
    "- `report_minimizing_tree` builds a minimizing tree, gets its tree scores, and calls `report`.\n",
    "- `report` takes a list of scores and reports the following statistics:\n",
    "  - The median, mean, standard deviation, and worst case number of guesses, and total number of scores.\n",
    "  - The cumulative percentages guessed correctly (e.g., `\"≤5:11%\"` means 11% of the targets took 5 or fewer guesses).\n",
    "  - A histogram of scores.\n",
    "- `tree_scores` takes a guesser and returns a list of *all* the scores it would make for *all* its targets. For each subtree branch in the tree there are three cases:\n",
    "  - If the subtree is a leaf word that is the same as the node's guess, we're done; it took one guess.\n",
    "  - If the subtree is a leaf word that is not the guess, it took two guesses: one for the incorrect guess and one for the leaf word.\n",
    "  - If the subtree is a Node, add one to each of the scores from the subtree and yield those scores."
   ]
  },
  {
   "cell_type": "code",
   "execution_count": 27,
   "metadata": {},
   "outputs": [],
   "source": [
    "def report_minimizing_tree(metric, targets=wordlist, wordlist=wordlist, inconsistent=False) -> Tree:\n",
    "    \"\"\"Build a minimizing tree and report on its scores.\"\"\"\n",
    "    print(f\"minimizing the {metric.__name__} of partition sizes over\",\n",
    "          f\"{len(targets):,d} targets in a {len(wordlist):,d} word list,\")\n",
    "    print(f\"{'' if inconsistent else 'not '}including inconsistent words.\")\n",
    "    tree = minimizing_tree(metric, targets, wordlist, inconsistent)\n",
    "    print(f'first guess: \"{tree.guess}\"')\n",
    "    report(tree_scores(tree))\n",
    "    return tree\n",
    "\n",
    "def report(scores: Iterable[Score], label='') -> None:\n",
    "    \"\"\"Report statistics and a histogram for these scores.\"\"\"\n",
    "    scores  = list(scores)\n",
    "    ctr     = Counter(scores)\n",
    "    bins    = range(min(ctr), max(ctr) + 2)\n",
    "    scale   = 100 / len(scores)\n",
    "    weights = [scale * ctr[score] for score in ctr]\n",
    "    plt.hist(list(ctr), weights=weights, align='left', rwidth=0.9, bins=bins)\n",
    "    plt.xticks(bins[:-1])\n",
    "    plt.xlabel('Number of guesses'); plt.ylabel('% of scores')\n",
    "    def cumulative_pct(g) -> str: \n",
    "        \"\"\"What percent of games requires no more than g guesses?\"\"\"\n",
    "        percent = scale * sum(ctr[i] for i in range(1, g + 1))\n",
    "        return f'≤{g}:{percent:.{1 if 99 < percent < 100 else 0}f}%'\n",
    "    print(f'median: {median(scores):.0f} guesses, mean: {mean(scores):.2f}',\n",
    "          f'± {stdev(scores):.2f}, worst: {max(scores)}, scores: {len(scores):,d}\\n'\n",
    "          'cumulative:', ', '.join(map(cumulative_pct, range(3, 11))))\n",
    "    \n",
    "def tree_scores(node: Node) -> Iterable[Score]:\n",
    "    \"\"\"All the scores for playing all the target words in the tree under `node`.\"\"\"\n",
    "    for subtree in node.branches.values():\n",
    "        if isinstance(subtree, Word):\n",
    "            yield 1 if subtree == node.guess else 2\n",
    "        else:\n",
    "            yield from (score + 1 for score in tree_scores(subtree))"
   ]
  },
  {
   "cell_type": "markdown",
   "metadata": {},
   "source": [
    "To test these functions, and to give another example of inconsistent guessing, consider this list of 11 words:"
   ]
  },
  {
   "cell_type": "code",
   "execution_count": 28,
   "metadata": {},
   "outputs": [],
   "source": [
    "ails = 'bails fails hails jails mails nails pails rails tails vails wails'.split()"
   ]
  },
  {
   "cell_type": "markdown",
   "metadata": {},
   "source": [
    "A consistent guesser could guess them in any order, but wouldn't gain much information from the replies–every reply is either a 5 (which ends the game) or a 4, which leaves you with all the remaining words.   Here is the report:"
   ]
  },
  {
   "cell_type": "code",
   "execution_count": 29,
   "metadata": {},
   "outputs": [
    {
     "name": "stdout",
     "output_type": "stream",
     "text": [
      "minimizing the max of partition sizes over 11 targets in a 2,845 word list,\n",
      "not including inconsistent words.\n",
      "first guess: \"bails\"\n",
      "median: 6 guesses, mean: 6.00 ± 3.32, worst: 11, scores: 11\n",
      "cumulative: ≤3:27%, ≤4:36%, ≤5:45%, ≤6:55%, ≤7:64%, ≤8:73%, ≤9:82%, ≤10:91%\n"
     ]
    },
    {
     "data": {
      "image/png": "[encoded data removed]",
      "text/plain": [
       "<Figure size 432x288 with 1 Axes>"
      ]
     },
     "metadata": {
      "needs_background": "light"
     },
     "output_type": "display_data"
    }
   ],
   "source": [
    "t = report_minimizing_tree(max, ails)"
   ]
  },
  {
   "cell_type": "markdown",
   "metadata": {},
   "source": [
    "But an inconsistent guesser can make a guesses that more evenly partition the remaining words, giving an average of only 4 guesses, and a worst case of 5 guesses: "
   ]
  },
  {
   "cell_type": "code",
   "execution_count": 30,
   "metadata": {},
   "outputs": [
    {
     "name": "stdout",
     "output_type": "stream",
     "text": [
      "minimizing the max of partition sizes over 11 targets in a 2,845 word list,\n",
      "including inconsistent words.\n",
      "first guess: \"front\"\n",
      "median: 4 guesses, mean: 4.00 ± 0.77, worst: 5, scores: 11\n",
      "cumulative: ≤3:27%, ≤4:73%, ≤5:100%, ≤6:100%, ≤7:100%, ≤8:100%, ≤9:100%, ≤10:100%\n"
     ]
    },
    {
     "data": {
      "image/png": "[encoded data removed]",
      "text/plain": [
       "<Figure size 432x288 with 1 Axes>"
      ]
     },
     "metadata": {
      "needs_background": "light"
     },
     "output_type": "display_data"
    }
   ],
   "source": [
    "t = report_minimizing_tree(max, ails, inconsistent=True)"
   ]
  },
  {
   "cell_type": "markdown",
   "metadata": {},
   "source": [
    "# Reports on Consistent  Guessers\n",
    "\n",
    "Here are reports on trees made from minimizing the three metrics, with only consistent guesses allowed: "
   ]
  },
  {
   "cell_type": "code",
   "execution_count": 31,
   "metadata": {},
   "outputs": [
    {
     "name": "stdout",
     "output_type": "stream",
     "text": [
      "minimizing the max of partition sizes over 2,845 targets in a 2,845 word list,\n",
      "not including inconsistent words.\n",
      "first guess: \"wader\"\n",
      "median: 7 guesses, mean: 7.15 ± 1.81, worst: 18, scores: 2,845\n",
      "cumulative: ≤3:1%, ≤4:4%, ≤5:13%, ≤6:35%, ≤7:67%, ≤8:86%, ≤9:92%, ≤10:95%\n",
      "CPU times: user 6.73 s, sys: 11.3 ms, total: 6.74 s\n",
      "Wall time: 6.75 s\n"
     ]
    },
    {
     "data": {
      "image/png": "[encoded data removed]",
      "text/plain": [
       "<Figure size 432x288 with 1 Axes>"
      ]
     },
     "metadata": {
      "needs_background": "light"
     },
     "output_type": "display_data"
    }
   ],
   "source": [
    "%time t = report_minimizing_tree(max, inconsistent=False)"
   ]
  },
  {
   "cell_type": "code",
   "execution_count": 32,
   "metadata": {},
   "outputs": [
    {
     "name": "stdout",
     "output_type": "stream",
     "text": [
      "minimizing the expectation of partition sizes over 2,845 targets in a 2,845 word list,\n",
      "not including inconsistent words.\n",
      "first guess: \"raved\"\n",
      "median: 7 guesses, mean: 7.14 ± 1.82, worst: 17, scores: 2,845\n",
      "cumulative: ≤3:1%, ≤4:4%, ≤5:13%, ≤6:36%, ≤7:68%, ≤8:85%, ≤9:91%, ≤10:95%\n",
      "CPU times: user 6.43 s, sys: 5.51 ms, total: 6.44 s\n",
      "Wall time: 6.44 s\n"
     ]
    },
    {
     "data": {
      "image/png": "[encoded data removed]",
      "text/plain": [
       "<Figure size 432x288 with 1 Axes>"
      ]
     },
     "metadata": {
      "needs_background": "light"
     },
     "output_type": "display_data"
    }
   ],
   "source": [
    "%time t = report_minimizing_tree(expectation, inconsistent=False)"
   ]
  },
  {
   "cell_type": "code",
   "execution_count": 33,
   "metadata": {},
   "outputs": [
    {
     "name": "stdout",
     "output_type": "stream",
     "text": [
      "minimizing the neg_entropy of partition sizes over 2,845 targets in a 2,845 word list,\n",
      "not including inconsistent words.\n",
      "first guess: \"debar\"\n",
      "median: 7 guesses, mean: 7.09 ± 1.78, worst: 19, scores: 2,845\n",
      "cumulative: ≤3:1%, ≤4:4%, ≤5:13%, ≤6:36%, ≤7:69%, ≤8:86%, ≤9:92%, ≤10:96%\n",
      "CPU times: user 6.45 s, sys: 6.68 ms, total: 6.46 s\n",
      "Wall time: 6.46 s\n"
     ]
    },
    {
     "data": {
      "image/png": "[encoded data removed]",
      "text/plain": [
       "<Figure size 432x288 with 1 Axes>"
      ]
     },
     "metadata": {
      "needs_background": "light"
     },
     "output_type": "display_data"
    }
   ],
   "source": [
    "%time t = report_minimizing_tree(neg_entropy, inconsistent=False)"
   ]
  },
  {
   "cell_type": "markdown",
   "metadata": {},
   "source": [
    "The random guesser can also be classified as a consistent guesser. Here is a report on it:|"
   ]
  },
  {
   "cell_type": "code",
   "execution_count": 34,
   "metadata": {},
   "outputs": [
    {
     "name": "stdout",
     "output_type": "stream",
     "text": [
      "median: 7 guesses, mean: 7.42 ± 1.71, worst: 17, scores: 2,845\n",
      "cumulative: ≤3:1%, ≤4:3%, ≤5:11%, ≤6:28%, ≤7:55%, ≤8:77%, ≤9:91%, ≤10:96%\n",
      "CPU times: user 6.57 s, sys: 9.57 ms, total: 6.58 s\n",
      "Wall time: 6.58 s\n"
     ]
    },
    {
     "data": {
      "image/png": "[encoded data removed]",
      "text/plain": [
       "<Figure size 432x288 with 1 Axes>"
      ]
     },
     "metadata": {
      "needs_background": "light"
     },
     "output_type": "display_data"
    }
   ],
   "source": [
    "%time report(play(random_guesser, target, wordlist, verbose=False) for target in wordlist)"
   ]
  },
  {
   "cell_type": "markdown",
   "metadata": {},
   "source": [
    "The random consistent guesser strategy might have seemed hopelessly naive, but it is actually a pretty decent strategy, with mean number of guesses only 5% worse than the best minimizing tree. "
   ]
  },
  {
   "cell_type": "markdown",
   "metadata": {},
   "source": [
    "# Reports on Inconsistent  Guessers\n",
    "Now we'll report on trees with inconsistent guesses allowed. This will take longer; about 30 seconds per tree."
   ]
  },
  {
   "cell_type": "code",
   "execution_count": 35,
   "metadata": {},
   "outputs": [
    {
     "name": "stdout",
     "output_type": "stream",
     "text": [
      "minimizing the max of partition sizes over 2,845 targets in a 2,845 word list,\n",
      "including inconsistent words.\n",
      "first guess: \"wader\"\n",
      "median: 7 guesses, mean: 7.05 ± 0.98, worst: 10, scores: 2,845\n",
      "cumulative: ≤3:0%, ≤4:1%, ≤5:6%, ≤6:24%, ≤7:69%, ≤8:95%, ≤9:99.9%, ≤10:100%\n",
      "CPU times: user 25.9 s, sys: 17.6 ms, total: 25.9 s\n",
      "Wall time: 25.9 s\n"
     ]
    },
    {
     "data": {
      "image/png": "[encoded data removed]",
      "text/plain": [
       "<Figure size 432x288 with 1 Axes>"
      ]
     },
     "metadata": {
      "needs_background": "light"
     },
     "output_type": "display_data"
    }
   ],
   "source": [
    "%time t = report_minimizing_tree(max, inconsistent=True)"
   ]
  },
  {
   "cell_type": "code",
   "execution_count": 36,
   "metadata": {},
   "outputs": [
    {
     "name": "stdout",
     "output_type": "stream",
     "text": [
      "minimizing the expectation of partition sizes over 2,845 targets in a 2,845 word list,\n",
      "including inconsistent words.\n",
      "first guess: \"raved\"\n",
      "median: 7 guesses, mean: 6.84 ± 0.95, worst: 10, scores: 2,845\n",
      "cumulative: ≤3:0%, ≤4:1%, ≤5:7%, ≤6:32%, ≤7:78%, ≤8:97%, ≤9:100.0%, ≤10:100%\n",
      "CPU times: user 26.3 s, sys: 19.1 ms, total: 26.3 s\n",
      "Wall time: 26.3 s\n"
     ]
    },
    {
     "data": {
      "image/png": "[encoded data removed]",
      "text/plain": [
       "<Figure size 432x288 with 1 Axes>"
      ]
     },
     "metadata": {
      "needs_background": "light"
     },
     "output_type": "display_data"
    }
   ],
   "source": [
    "%time t = report_minimizing_tree(expectation, inconsistent=True)"
   ]
  },
  {
   "cell_type": "code",
   "execution_count": 37,
   "metadata": {},
   "outputs": [
    {
     "name": "stdout",
     "output_type": "stream",
     "text": [
      "minimizing the neg_entropy of partition sizes over 2,845 targets in a 2,845 word list,\n",
      "including inconsistent words.\n",
      "first guess: \"debar\"\n",
      "median: 7 guesses, mean: 6.82 ± 1.00, worst: 10, scores: 2,845\n",
      "cumulative: ≤3:0%, ≤4:1%, ≤5:8%, ≤6:35%, ≤7:78%, ≤8:97%, ≤9:99.6%, ≤10:100%\n",
      "CPU times: user 27.1 s, sys: 24.7 ms, total: 27.2 s\n",
      "Wall time: 27.2 s\n"
     ]
    },
    {
     "data": {
      "image/png": "[encoded data removed]",
      "text/plain": [
       "<Figure size 432x288 with 1 Axes>"
      ]
     },
     "metadata": {
      "needs_background": "light"
     },
     "output_type": "display_data"
    }
   ],
   "source": [
    "%time t = report_minimizing_tree(neg_entropy, inconsistent=True)"
   ]
  },
  {
   "cell_type": "markdown",
   "metadata": {},
   "source": [
    "# Report Summary\n",
    "\n",
    "Here's a table of the mean and maximum number of guesses for the seven approaches:\n",
    "\n",
    "|<br><u>2,845 words</u><br>Algorithm|Consistent<br><u>Only</u><br>Mean (Max)|Inconsistent<br><u>Allowed</u><br>Mean (Max)|\n",
    "|--|--|--|\n",
    "|random guesser|7.42 (17)|  |\n",
    "|minimize max|7.15 (18)|7.05 (10)|\n",
    "|minimize expectation|7.14 (17)|6.84 (10)|\n",
    "|minimize neg_entropy|7.09 (19)|6.82 (10)|\n"
   ]
  },
  {
   "cell_type": "markdown",
   "metadata": {},
   "source": [
    "# Wordle\n",
    "\n",
    "[Wordle](https://www.powerlanguage.co.uk/wordle/) is a [suddenly-popular](https://www.nytimes.com/2022/01/03/technology/wordle-word-game-creator.html) variant of Jotto (with a little Mastermind thrown in) with these differences:\n",
    "- Words with repeated letters are allowed (e.g. `'aback'`).\n",
    "- Anagrams are allowed (e.g. `'arise'` and `'raise'`).\n",
    "- The reply to a guess consists of 5 pieces ([trits](https://en.wiktionary.org/wiki/trit#English)) of information, one for each position in the guess:\n",
    "  - *Green* if the guess letter is in the correct spot.\n",
    "  - *Yellow* if the guess letter is in the word but in the wrong spot.\n",
    "  - *Miss* if the letter is not in the word in any spot.\n",
    "- Wordle uses a larger list of 12,971 allowable guess words, but only 2,315 of them can be target words. (I think the idea is to follow [Postel's law](https://en.wikipedia.org/wiki/Robustness_principle) to avoid annoying a player: be conservative in the targets (so that a player is very likely to be familiar with the target word) and be liberal in accepting guess words.)\n",
    "  \n",
    "There is an ambiguity in the rules. Assume the guess is *etude* and the target is *poems*. A strict reading of the rules would say they both *e* positions should be *yellow*, because both instances of *e* are \"in the word but in the wrong spot.\" But it seems Wordle actually reports the first *e* as yellow and the second *e* as a miss."
   ]
  },
  {
   "cell_type": "code",
   "execution_count": 38,
   "metadata": {},
   "outputs": [],
   "source": [
    "wordle_small = read_words('wordle-small.txt') #  2,315 target words\n",
    "wordle_big   = read_words('wordle-big.txt')   # 12,971 guess  words\n",
    "\n",
    "Green, Yellow, Miss = 'GY.' # A Wordle reply is 5 characters, each one of 'GY.'\n",
    "\n",
    "def wordle_reply_for(guess, target) -> str: \n",
    "    \"The five-character reply for this guess on this target in Wordle.\"\n",
    "    # We'll start by having each reply be either Green or Miss ...\n",
    "    reply = [Green if guess[i] == target[i] else Miss for i in range(5)]\n",
    "    # ... then we'll change the replies that should be yellow\n",
    "    counts = Counter(target[i] for i in range(5) if guess[i] != target[i])\n",
    "    for i in range(5):\n",
    "        if reply[i] == Miss and counts[guess[i]] > 0:\n",
    "            counts[guess[i]] -= 1\n",
    "            reply[i] = Yellow\n",
    "    return ''.join(reply)"
   ]
  },
  {
   "cell_type": "markdown",
   "metadata": {},
   "source": [
    "The right thing to do now would be to refactor the code to allow for the injection of a different `reply_for` function, so that either game could be played at any time.\n",
    "\n",
    "However, I'm going to take a shortcut: I'm going to require the programmer to call `setup` with the name of the game they want, `'jotto'` or `'wordle'`. It will set global variables accordingly. I'll also require the programmer to use the right word list and target words."
   ]
  },
  {
   "cell_type": "code",
   "execution_count": 39,
   "metadata": {},
   "outputs": [],
   "source": [
    "jotto_reply_for = reply_for"
   ]
  },
  {
   "cell_type": "code",
   "execution_count": 40,
   "metadata": {},
   "outputs": [],
   "source": [
    "def setup(game: str) -> None:\n",
    "    \"Set global variables to play either 'jotto' or 'wordle'.\"\n",
    "    global reply_for, inconsistent_max\n",
    "    if game == 'jotto':\n",
    "        reply_for = jotto_reply_for\n",
    "        inconsistent_max = 400\n",
    "    elif game == 'wordle':\n",
    "        reply_for = wordle_reply_for\n",
    "        inconsistent_max = 125\n",
    "    else:\n",
    "        raise ValueError(f'unknown game: {game}')"
   ]
  },
  {
   "cell_type": "code",
   "execution_count": 41,
   "metadata": {},
   "outputs": [],
   "source": [
    "setup('wordle')"
   ]
  },
  {
   "cell_type": "markdown",
   "metadata": {},
   "source": [
    "Note that in Jotto, `reply_for` was symmetric; `reply_for(g, t) == reply_for(t, g)`. But that is not true for Wordle.  I made some tests for `wordle_reply_for` to give me some confidence I got it right:"
   ]
  },
  {
   "cell_type": "code",
   "execution_count": 42,
   "metadata": {},
   "outputs": [],
   "source": [
    "assert reply_for('treat', 'truss') == 'GG...'  and  reply_for('truss', 'treat') == 'GG...'\n",
    "assert reply_for('stars', 'traps') == '.YGYG'  and  reply_for('traps', 'stars') == 'YYG.G'\n",
    "assert reply_for('palls', 'splat') == 'YYG.Y'  and  reply_for('splat', 'palls') == 'YYGY.'\n",
    "assert reply_for('banal', 'apple') == '.Y..Y'  and  reply_for('apple', 'banal') == 'Y..Y.'\n",
    "assert reply_for('banal', 'mania') == '.GGY.'  and  reply_for('mania', 'banal') == '.GG.Y'\n",
    "assert reply_for('epees', 'geese') == 'Y.GYY'  and  reply_for('geese', 'epees') == '.YGYY'\n",
    "assert reply_for('wheee', 'peeve') == '..GYG'  and  reply_for('peeve', 'wheee') == '.YG.G'"
   ]
  },
  {
   "cell_type": "markdown",
   "metadata": {},
   "source": [
    "We can test the new `reply_for` on a partition of `words22`:"
   ]
  },
  {
   "cell_type": "code",
   "execution_count": 43,
   "metadata": {},
   "outputs": [
    {
     "data": {
      "text/plain": [
       "defaultdict(list,\n",
       "            {'.YYYY': ['their'],\n",
       "             '...Y.': ['about'],\n",
       "             'G....': ['would'],\n",
       "             '.Y.YG': ['throe'],\n",
       "             'YY...': ['sword'],\n",
       "             '.....': ['cloud', 'sound', 'fondu'],\n",
       "             'GGGGG': ['write'],\n",
       "             '.YYG.': ['rifts', 'girth'],\n",
       "             'GY.YY': ['water'],\n",
       "             '.Y.YY': ['after'],\n",
       "             '..GY.': ['think'],\n",
       "             '.Y..Y': ['resay', 'nuder'],\n",
       "             '....G': ['place', 'house'],\n",
       "             '.G.GG': ['grate'],\n",
       "             '...YY': ['ethos'],\n",
       "             '..YY.': ['might'],\n",
       "             'G.G.G': ['while']})"
      ]
     },
     "execution_count": 43,
     "metadata": {},
     "output_type": "execute_result"
    }
   ],
   "source": [
    "partition('write', words22)"
   ]
  },
  {
   "cell_type": "markdown",
   "metadata": {},
   "source": [
    "That looks good. Notice that there are many more possible replies in Wordle than the 6 possible replies in Jotto, so the target words are partitioned into smaller branches. It should take fewer guesses to solve a Wordle than a Jotto. How many possible replies are there? There are 3 responses at each of five positions, and  3<sup>5</sup> = 243, but five of those replies are impossible: you can't have four Greens and one Yellow, because if four letters of the guess are in the right place then the fifth must be either in the right place or a miss. \n",
    "\n",
    "# Sample Wordle Games\n",
    "\n",
    "Let's see what some Wordle games look like, using a random guesser:"
   ]
  },
  {
   "cell_type": "code",
   "execution_count": 44,
   "metadata": {},
   "outputs": [
    {
     "name": "stdout",
     "output_type": "stream",
     "text": [
      "Guess 1: \"pluck\" Reply: .Y...; Consistent targets: 269\n",
      "Guess 2: \"false\" Reply: ..G.Y; Consistent targets: 9\n",
      "Guess 3: \"below\" Reply: GGGGG; Consistent targets: 1\n"
     ]
    },
    {
     "data": {
      "text/plain": [
       "3"
      ]
     },
     "execution_count": 44,
     "metadata": {},
     "output_type": "execute_result"
    }
   ],
   "source": [
    "play(random_guesser, wordlist=wordle_small)"
   ]
  },
  {
   "cell_type": "code",
   "execution_count": 45,
   "metadata": {},
   "outputs": [
    {
     "name": "stdout",
     "output_type": "stream",
     "text": [
      "Guess 1: \"caddy\" Reply: .....; Consistent targets: 729\n",
      "Guess 2: \"rupee\" Reply: Y....; Consistent targets: 62\n",
      "Guess 3: \"snort\" Reply: G.GGY; Consistent targets: 2\n",
      "Guess 4: \"stork\" Reply: GGGG.; Consistent targets: 1\n",
      "Guess 5: \"storm\" Reply: GGGGG; Consistent targets: 1\n"
     ]
    },
    {
     "data": {
      "text/plain": [
       "5"
      ]
     },
     "execution_count": 45,
     "metadata": {},
     "output_type": "execute_result"
    }
   ],
   "source": [
    "play(random_guesser, wordlist=wordle_small)"
   ]
  },
  {
   "cell_type": "code",
   "execution_count": 46,
   "metadata": {},
   "outputs": [
    {
     "name": "stdout",
     "output_type": "stream",
     "text": [
      "Guess 1: \"wiser\" Reply: .G...; Consistent targets: 73\n",
      "Guess 2: \"ninth\" Reply: .GG..; Consistent targets: 9\n",
      "Guess 3: \"final\" Reply: .GG.G; Consistent targets: 1\n",
      "Guess 4: \"vinyl\" Reply: GGGGG; Consistent targets: 1\n"
     ]
    },
    {
     "data": {
      "text/plain": [
       "4"
      ]
     },
     "execution_count": 46,
     "metadata": {},
     "output_type": "execute_result"
    }
   ],
   "source": [
    "play(random_guesser, wordlist=wordle_small)"
   ]
  },
  {
   "cell_type": "markdown",
   "metadata": {},
   "source": [
    "# Reports on Wordle Guessers\n",
    "\n",
    "Wordle has about the same number of target words as Jotto, but many more guess words, and the `wordle_reply_for` computation is more complex, so computations take longer (more so for the inconsistent guessers). Here are reports on the seven strategies:"
   ]
  },
  {
   "cell_type": "code",
   "execution_count": 47,
   "metadata": {},
   "outputs": [
    {
     "name": "stdout",
     "output_type": "stream",
     "text": [
      "median: 4 guesses, mean: 4.10 ± 1.04, worst: 8, scores: 2,315\n",
      "cumulative: ≤3:28%, ≤4:69%, ≤5:92%, ≤6:98%, ≤7:99.4%, ≤8:100%, ≤9:100%, ≤10:100%\n",
      "CPU times: user 30.1 s, sys: 29.3 ms, total: 30.1 s\n",
      "Wall time: 30.2 s\n"
     ]
    },
    {
     "data": {
      "image/png": "[encoded data removed]",
      "text/plain": [
       "<Figure size 432x288 with 1 Axes>"
      ]
     },
     "metadata": {
      "needs_background": "light"
     },
     "output_type": "display_data"
    }
   ],
   "source": [
    "%time report(play(random_guesser, target, wordle_small, verbose=False) for target in wordle_small)"
   ]
  },
  {
   "cell_type": "code",
   "execution_count": 48,
   "metadata": {},
   "outputs": [
    {
     "name": "stdout",
     "output_type": "stream",
     "text": [
      "minimizing the max of partition sizes over 2,315 targets in a 12,971 word list,\n",
      "not including inconsistent words.\n",
      "first guess: \"arise\"\n",
      "median: 4 guesses, mean: 3.68 ± 0.86, worst: 8, scores: 2,315\n",
      "cumulative: ≤3:43%, ≤4:87%, ≤5:97%, ≤6:99.4%, ≤7:99.9%, ≤8:100%, ≤9:100%, ≤10:100%\n",
      "CPU times: user 29 s, sys: 36.4 ms, total: 29 s\n",
      "Wall time: 29 s\n"
     ]
    },
    {
     "data": {
      "image/png": "[encoded data removed]",
      "text/plain": [
       "<Figure size 432x288 with 1 Axes>"
      ]
     },
     "metadata": {
      "needs_background": "light"
     },
     "output_type": "display_data"
    }
   ],
   "source": [
    "%time t = report_minimizing_tree(max, wordle_small, wordle_big, inconsistent=False)"
   ]
  },
  {
   "cell_type": "code",
   "execution_count": 49,
   "metadata": {},
   "outputs": [
    {
     "name": "stdout",
     "output_type": "stream",
     "text": [
      "minimizing the expectation of partition sizes over 2,315 targets in a 12,971 word list,\n",
      "not including inconsistent words.\n",
      "first guess: \"raise\"\n",
      "median: 4 guesses, mean: 3.62 ± 0.86, worst: 8, scores: 2,315\n",
      "cumulative: ≤3:47%, ≤4:88%, ≤5:98%, ≤6:99.4%, ≤7:99.9%, ≤8:100%, ≤9:100%, ≤10:100%\n",
      "CPU times: user 29.2 s, sys: 25.8 ms, total: 29.2 s\n",
      "Wall time: 29.2 s\n"
     ]
    },
    {
     "data": {
      "image/png": "[encoded data removed]",
      "text/plain": [
       "<Figure size 432x288 with 1 Axes>"
      ]
     },
     "metadata": {
      "needs_background": "light"
     },
     "output_type": "display_data"
    }
   ],
   "source": [
    "%time t = report_minimizing_tree(expectation, wordle_small, wordle_big, inconsistent=False)"
   ]
  },
  {
   "cell_type": "code",
   "execution_count": 50,
   "metadata": {},
   "outputs": [
    {
     "name": "stdout",
     "output_type": "stream",
     "text": [
      "minimizing the neg_entropy of partition sizes over 2,315 targets in a 12,971 word list,\n",
      "not including inconsistent words.\n",
      "first guess: \"raise\"\n",
      "median: 4 guesses, mean: 3.60 ± 0.85, worst: 8, scores: 2,315\n",
      "cumulative: ≤3:49%, ≤4:89%, ≤5:97%, ≤6:99.5%, ≤7:99.9%, ≤8:100%, ≤9:100%, ≤10:100%\n",
      "CPU times: user 29.1 s, sys: 25.4 ms, total: 29.2 s\n",
      "Wall time: 29.2 s\n"
     ]
    },
    {
     "data": {
      "image/png": "[encoded data removed]",
      "text/plain": [
       "<Figure size 432x288 with 1 Axes>"
      ]
     },
     "metadata": {
      "needs_background": "light"
     },
     "output_type": "display_data"
    }
   ],
   "source": [
    "%time t = report_minimizing_tree(neg_entropy, wordle_small, wordle_big, inconsistent=False)"
   ]
  },
  {
   "cell_type": "markdown",
   "metadata": {},
   "source": [
    "The **inconsistent guessers** will each take about 4 minutes to compute:"
   ]
  },
  {
   "cell_type": "code",
   "execution_count": 51,
   "metadata": {},
   "outputs": [
    {
     "name": "stdout",
     "output_type": "stream",
     "text": [
      "minimizing the max of partition sizes over 2,315 targets in a 12,971 word list,\n",
      "including inconsistent words.\n",
      "first guess: \"arise\"\n",
      "median: 4 guesses, mean: 3.62 ± 0.64, worst: 6, scores: 2,315\n",
      "cumulative: ≤3:42%, ≤4:94%, ≤5:99.7%, ≤6:100%, ≤7:100%, ≤8:100%, ≤9:100%, ≤10:100%\n",
      "CPU times: user 4min 3s, sys: 193 ms, total: 4min 3s\n",
      "Wall time: 4min 7s\n"
     ]
    },
    {
     "data": {
      "image/png": "[encoded data removed]",
      "text/plain": [
       "<Figure size 432x288 with 1 Axes>"
      ]
     },
     "metadata": {
      "needs_background": "light"
     },
     "output_type": "display_data"
    }
   ],
   "source": [
    "%time t = report_minimizing_tree(max, wordle_small, wordle_big, inconsistent=True)"
   ]
  },
  {
   "cell_type": "code",
   "execution_count": 52,
   "metadata": {},
   "outputs": [
    {
     "name": "stdout",
     "output_type": "stream",
     "text": [
      "minimizing the expectation of partition sizes over 2,315 targets in a 12,971 word list,\n",
      "including inconsistent words.\n",
      "first guess: \"raise\"\n",
      "median: 4 guesses, mean: 3.52 ± 0.62, worst: 6, scores: 2,315\n",
      "cumulative: ≤3:50%, ≤4:96%, ≤5:99.8%, ≤6:100%, ≤7:100%, ≤8:100%, ≤9:100%, ≤10:100%\n",
      "CPU times: user 4min 47s, sys: 144 ms, total: 4min 47s\n",
      "Wall time: 4min 58s\n"
     ]
    },
    {
     "data": {
      "image/png": "[encoded data removed]",
      "text/plain": [
       "<Figure size 432x288 with 1 Axes>"
      ]
     },
     "metadata": {
      "needs_background": "light"
     },
     "output_type": "display_data"
    }
   ],
   "source": [
    "%time t = report_minimizing_tree(expectation, wordle_small, wordle_big, inconsistent=True)"
   ]
  },
  {
   "cell_type": "code",
   "execution_count": 53,
   "metadata": {},
   "outputs": [
    {
     "name": "stdout",
     "output_type": "stream",
     "text": [
      "minimizing the neg_entropy of partition sizes over 2,315 targets in a 12,971 word list,\n",
      "including inconsistent words.\n",
      "first guess: \"raise\"\n",
      "median: 3 guesses, mean: 3.50 ± 0.62, worst: 6, scores: 2,315\n",
      "cumulative: ≤3:52%, ≤4:96%, ≤5:99.7%, ≤6:100%, ≤7:100%, ≤8:100%, ≤9:100%, ≤10:100%\n",
      "CPU times: user 4min 26s, sys: 147 ms, total: 4min 26s\n",
      "Wall time: 4min 34s\n"
     ]
    },
    {
     "data": {
      "image/png": "[encoded data removed]",
      "text/plain": [
       "<Figure size 432x288 with 1 Axes>"
      ]
     },
     "metadata": {
      "needs_background": "light"
     },
     "output_type": "display_data"
    }
   ],
   "source": [
    "%time t = report_minimizing_tree(neg_entropy, wordle_small, wordle_big, inconsistent=True)"
   ]
  },
  {
   "cell_type": "markdown",
   "metadata": {},
   "source": [
    "**Mission accomplished!** All three metrics solve every target word in 6 guesses or less. \n",
    "\n",
    "# Jotto and Wordle Evaluation Summary\n",
    "\n",
    "Here is a summary of the reports on both games:\n",
    "\n",
    "|<br><br><br>Algorithm|JOTTO<br>Consistent<br><u>Only</u><br>Mean (Max)|JOTTO<br>Inconsistent<br><u>Allowed</u><br>Mean (Max)|WORDLE<br>Consistent<br><u>Only</u><br>Mean (Max)|WORDLE<br>Inconsistent<br><u>Allowed</u><br>Mean (Max)||\n",
    "|--|--|--|--|--|--|\n",
    "|random guesser|7.34 (18)|  |4.10 (8) |   |\n",
    "|minimize max|7.15 (18)|7.05 (10)| 3.68 (8) | 3.62 (6) | \n",
    "|minimize expectation|7.14 (17)|6.84 (10)| 3.62 (8) | 3.52 (6) | \n",
    "|minimize neg_entropy|7.09 (19)|6.82 (10)| 3.60 (8) |  3.50 (6) |\n",
    "\n",
    "\n",
    "# Sample Wordle Games with Minimizing Guesser\n",
    "\n",
    "Here are some sample games with the negative-entropy minimizing, inconsistent-guessing guesser:"
   ]
  },
  {
   "cell_type": "code",
   "execution_count": 54,
   "metadata": {},
   "outputs": [
    {
     "name": "stdout",
     "output_type": "stream",
     "text": [
      "Guess 1: \"raise\" Reply: ...YY; Consistent targets: 797\n",
      "Guess 2: \"spelt\" Reply: G.GG.; Consistent targets: 11\n",
      "Guess 3: \"fehme\" Reply: .Y...; Consistent targets: 3\n",
      "Guess 4: \"swell\" Reply: GGGGG; Consistent targets: 1\n",
      "\n",
      "Guess 1: \"raise\" Reply: YY...; Consistent targets: 297\n",
      "Guess 2: \"tronc\" Reply: .G..Y; Consistent targets: 12\n",
      "Guess 3: \"calmy\" Reply: GY..G; Consistent targets: 2\n",
      "Guess 4: \"crazy\" Reply: GGGGG; Consistent targets: 1\n",
      "\n",
      "Guess 1: \"raise\" Reply: YY...; Consistent targets: 297\n",
      "Guess 2: \"tronc\" Reply: .GY..; Consistent targets: 8\n",
      "Guess 3: \"abram\" Reply: G.G..; Consistent targets: 2\n",
      "Guess 4: \"arrow\" Reply: GGGGG; Consistent targets: 1\n",
      "\n",
      "Guess 1: \"raise\" Reply: Y.G..; Consistent targets: 75\n",
      "Guess 2: \"crypt\" Reply: .G.Y.; Consistent targets: 7\n",
      "Guess 3: \"primo\" Reply: GGGGG; Consistent targets: 1\n",
      "\n",
      "Guess 1: \"raise\" Reply: ..YY.; Consistent targets: 343\n",
      "Guess 2: \"shout\" Reply: Y.Y..; Consistent targets: 46\n",
      "Guess 3: \"bison\" Reply: .GGY.; Consistent targets: 6\n",
      "Guess 4: \"disco\" Reply: GGGGG; Consistent targets: 1\n",
      "\n"
     ]
    }
   ],
   "source": [
    "for target in random.sample(wordle_small, 5):\n",
    "    play(TreeGuesser(t), target, wordle_big)\n",
    "    print()"
   ]
  },
  {
   "cell_type": "markdown",
   "metadata": {},
   "source": [
    "# Best and Worst First Guess Words\n",
    "\n",
    "Here's a function to create a table of the best and worst first guesses in a game (that is, the highest and lowest scoring words on the partition counts), according to each of the three metrics:"
   ]
  },
  {
   "cell_type": "code",
   "execution_count": 55,
   "metadata": {},
   "outputs": [],
   "source": [
    "import pandas as pd\n",
    "\n",
    "def first_guesses(targets, wordlist) -> pd.DataFrame: \n",
    "    \"\"\"A data frame of words and scores on the 3 metrics, sorted best to worst.\"\"\"\n",
    "    metrics = (max, expectation, neg_entropy)\n",
    "    data = [sorted((metric(partition_counts(g, targets)), g) for g in wordlist)\n",
    "            for metric in metrics]\n",
    "    def reformat(row):\n",
    "        (val1, word1), (val2, word2), (val3, word3) = row\n",
    "        return [word1, val1, word2, round(val2, 2), word3, round(val3, 3)]\n",
    "    return pd.DataFrame(map(reformat, zip(*data)), \n",
    "                        columns='max_word max exp_word exp ent_word ent'.split())"
   ]
  },
  {
   "cell_type": "markdown",
   "metadata": {},
   "source": [
    "The best and worst first guesses for **Jotto**:"
   ]
  },
  {
   "cell_type": "code",
   "execution_count": 56,
   "metadata": {},
   "outputs": [
    {
     "name": "stdout",
     "output_type": "stream",
     "text": [
      "CPU times: user 13.9 s, sys: 7.46 ms, total: 13.9 s\n",
      "Wall time: 13.9 s\n"
     ]
    },
    {
     "data": {
      "text/html": [
       "<div>\n",
       "<style scoped>\n",
       "    .dataframe tbody tr th:only-of-type {\n",
       "        vertical-align: middle;\n",
       "    }\n",
       "\n",
       "    .dataframe tbody tr th {\n",
       "        vertical-align: top;\n",
       "    }\n",
       "\n",
       "    .dataframe thead th {\n",
       "        text-align: right;\n",
       "    }\n",
       "</style>\n",
       "<table border=\"1\" class=\"dataframe\">\n",
       "  <thead>\n",
       "    <tr style=\"text-align: right;\">\n",
       "      <th></th>\n",
       "      <th>max_word</th>\n",
       "      <th>max</th>\n",
       "      <th>exp_word</th>\n",
       "      <th>exp</th>\n",
       "      <th>ent_word</th>\n",
       "      <th>ent</th>\n",
       "    </tr>\n",
       "  </thead>\n",
       "  <tbody>\n",
       "    <tr>\n",
       "      <th>0</th>\n",
       "      <td>wader</td>\n",
       "      <td>1012</td>\n",
       "      <td>raved</td>\n",
       "      <td>812.84</td>\n",
       "      <td>debar</td>\n",
       "      <td>-1.949</td>\n",
       "    </tr>\n",
       "    <tr>\n",
       "      <th>1</th>\n",
       "      <td>cadre</td>\n",
       "      <td>1026</td>\n",
       "      <td>debar</td>\n",
       "      <td>818.32</td>\n",
       "      <td>alder</td>\n",
       "      <td>-1.946</td>\n",
       "    </tr>\n",
       "    <tr>\n",
       "      <th>2</th>\n",
       "      <td>armed</td>\n",
       "      <td>1028</td>\n",
       "      <td>roved</td>\n",
       "      <td>826.51</td>\n",
       "      <td>raved</td>\n",
       "      <td>-1.944</td>\n",
       "    </tr>\n",
       "    <tr>\n",
       "      <th>3</th>\n",
       "      <td>diner</td>\n",
       "      <td>1029</td>\n",
       "      <td>orbed</td>\n",
       "      <td>826.71</td>\n",
       "      <td>dater</td>\n",
       "      <td>-1.943</td>\n",
       "    </tr>\n",
       "    <tr>\n",
       "      <th>4</th>\n",
       "      <td>coder</td>\n",
       "      <td>1030</td>\n",
       "      <td>wader</td>\n",
       "      <td>827.04</td>\n",
       "      <td>cadre</td>\n",
       "      <td>-1.943</td>\n",
       "    </tr>\n",
       "    <tr>\n",
       "      <th>...</th>\n",
       "      <td>...</td>\n",
       "      <td>...</td>\n",
       "      <td>...</td>\n",
       "      <td>...</td>\n",
       "      <td>...</td>\n",
       "      <td>...</td>\n",
       "    </tr>\n",
       "    <tr>\n",
       "      <th>2840</th>\n",
       "      <td>coqui</td>\n",
       "      <td>1535</td>\n",
       "      <td>okapi</td>\n",
       "      <td>1105.28</td>\n",
       "      <td>jumpy</td>\n",
       "      <td>-1.575</td>\n",
       "    </tr>\n",
       "    <tr>\n",
       "      <th>2841</th>\n",
       "      <td>quota</td>\n",
       "      <td>1548</td>\n",
       "      <td>azoic</td>\n",
       "      <td>1120.19</td>\n",
       "      <td>juicy</td>\n",
       "      <td>-1.566</td>\n",
       "    </tr>\n",
       "    <tr>\n",
       "      <th>2842</th>\n",
       "      <td>azoic</td>\n",
       "      <td>1555</td>\n",
       "      <td>axiom</td>\n",
       "      <td>1157.49</td>\n",
       "      <td>axiom</td>\n",
       "      <td>-1.563</td>\n",
       "    </tr>\n",
       "    <tr>\n",
       "      <th>2843</th>\n",
       "      <td>axiom</td>\n",
       "      <td>1615</td>\n",
       "      <td>audio</td>\n",
       "      <td>1184.28</td>\n",
       "      <td>audio</td>\n",
       "      <td>-1.494</td>\n",
       "    </tr>\n",
       "    <tr>\n",
       "      <th>2844</th>\n",
       "      <td>ouija</td>\n",
       "      <td>1848</td>\n",
       "      <td>ouija</td>\n",
       "      <td>1413.00</td>\n",
       "      <td>ouija</td>\n",
       "      <td>-1.292</td>\n",
       "    </tr>\n",
       "  </tbody>\n",
       "</table>\n",
       "<p>2845 rows × 6 columns</p>\n",
       "</div>"
      ],
      "text/plain": [
       "     max_word   max exp_word      exp ent_word    ent\n",
       "0       wader  1012    raved   812.84    debar -1.949\n",
       "1       cadre  1026    debar   818.32    alder -1.946\n",
       "2       armed  1028    roved   826.51    raved -1.944\n",
       "3       diner  1029    orbed   826.71    dater -1.943\n",
       "4       coder  1030    wader   827.04    cadre -1.943\n",
       "...       ...   ...      ...      ...      ...    ...\n",
       "2840    coqui  1535    okapi  1105.28    jumpy -1.575\n",
       "2841    quota  1548    azoic  1120.19    juicy -1.566\n",
       "2842    azoic  1555    axiom  1157.49    axiom -1.563\n",
       "2843    axiom  1615    audio  1184.28    audio -1.494\n",
       "2844    ouija  1848    ouija  1413.00    ouija -1.292\n",
       "\n",
       "[2845 rows x 6 columns]"
      ]
     },
     "execution_count": 56,
     "metadata": {},
     "output_type": "execute_result"
    }
   ],
   "source": [
    "setup('jotto')\n",
    "%time df = first_guesses(wordlist, wordlist)\n",
    "df"
   ]
  },
  {
   "cell_type": "markdown",
   "metadata": {},
   "source": [
    "The top guesses  favor the letters \"a\", \"d\", \"e\", and \"r\". \n",
    "\n",
    "The word \"ouija\" is a uniquely terrible guess; mostly what it does is confirm that a majority of the words have exactly one of the vowels \"aiou\". The output above only shows the top 5 guesses; here are the top 20:"
   ]
  },
  {
   "cell_type": "code",
   "execution_count": 57,
   "metadata": {},
   "outputs": [
    {
     "data": {
      "text/html": [
       "<div>\n",
       "<style scoped>\n",
       "    .dataframe tbody tr th:only-of-type {\n",
       "        vertical-align: middle;\n",
       "    }\n",
       "\n",
       "    .dataframe tbody tr th {\n",
       "        vertical-align: top;\n",
       "    }\n",
       "\n",
       "    .dataframe thead th {\n",
       "        text-align: right;\n",
       "    }\n",
       "</style>\n",
       "<table border=\"1\" class=\"dataframe\">\n",
       "  <thead>\n",
       "    <tr style=\"text-align: right;\">\n",
       "      <th></th>\n",
       "      <th>max_word</th>\n",
       "      <th>max</th>\n",
       "      <th>exp_word</th>\n",
       "      <th>exp</th>\n",
       "      <th>ent_word</th>\n",
       "      <th>ent</th>\n",
       "    </tr>\n",
       "  </thead>\n",
       "  <tbody>\n",
       "    <tr>\n",
       "      <th>0</th>\n",
       "      <td>wader</td>\n",
       "      <td>1012</td>\n",
       "      <td>raved</td>\n",
       "      <td>812.84</td>\n",
       "      <td>debar</td>\n",
       "      <td>-1.949</td>\n",
       "    </tr>\n",
       "    <tr>\n",
       "      <th>1</th>\n",
       "      <td>cadre</td>\n",
       "      <td>1026</td>\n",
       "      <td>debar</td>\n",
       "      <td>818.32</td>\n",
       "      <td>alder</td>\n",
       "      <td>-1.946</td>\n",
       "    </tr>\n",
       "    <tr>\n",
       "      <th>2</th>\n",
       "      <td>armed</td>\n",
       "      <td>1028</td>\n",
       "      <td>roved</td>\n",
       "      <td>826.51</td>\n",
       "      <td>raved</td>\n",
       "      <td>-1.944</td>\n",
       "    </tr>\n",
       "    <tr>\n",
       "      <th>3</th>\n",
       "      <td>diner</td>\n",
       "      <td>1029</td>\n",
       "      <td>orbed</td>\n",
       "      <td>826.71</td>\n",
       "      <td>dater</td>\n",
       "      <td>-1.943</td>\n",
       "    </tr>\n",
       "    <tr>\n",
       "      <th>4</th>\n",
       "      <td>coder</td>\n",
       "      <td>1030</td>\n",
       "      <td>wader</td>\n",
       "      <td>827.04</td>\n",
       "      <td>cadre</td>\n",
       "      <td>-1.943</td>\n",
       "    </tr>\n",
       "    <tr>\n",
       "      <th>5</th>\n",
       "      <td>padre</td>\n",
       "      <td>1035</td>\n",
       "      <td>armed</td>\n",
       "      <td>827.28</td>\n",
       "      <td>armed</td>\n",
       "      <td>-1.939</td>\n",
       "    </tr>\n",
       "    <tr>\n",
       "      <th>6</th>\n",
       "      <td>raved</td>\n",
       "      <td>1038</td>\n",
       "      <td>fader</td>\n",
       "      <td>828.28</td>\n",
       "      <td>garde</td>\n",
       "      <td>-1.938</td>\n",
       "    </tr>\n",
       "    <tr>\n",
       "      <th>7</th>\n",
       "      <td>rayed</td>\n",
       "      <td>1038</td>\n",
       "      <td>dater</td>\n",
       "      <td>829.41</td>\n",
       "      <td>wader</td>\n",
       "      <td>-1.938</td>\n",
       "    </tr>\n",
       "    <tr>\n",
       "      <th>8</th>\n",
       "      <td>delta</td>\n",
       "      <td>1039</td>\n",
       "      <td>alder</td>\n",
       "      <td>829.96</td>\n",
       "      <td>lased</td>\n",
       "      <td>-1.935</td>\n",
       "    </tr>\n",
       "    <tr>\n",
       "      <th>9</th>\n",
       "      <td>drone</td>\n",
       "      <td>1041</td>\n",
       "      <td>cadre</td>\n",
       "      <td>829.98</td>\n",
       "      <td>padre</td>\n",
       "      <td>-1.934</td>\n",
       "    </tr>\n",
       "    <tr>\n",
       "      <th>10</th>\n",
       "      <td>eland</td>\n",
       "      <td>1043</td>\n",
       "      <td>garde</td>\n",
       "      <td>830.47</td>\n",
       "      <td>fader</td>\n",
       "      <td>-1.934</td>\n",
       "    </tr>\n",
       "    <tr>\n",
       "      <th>11</th>\n",
       "      <td>garde</td>\n",
       "      <td>1043</td>\n",
       "      <td>padre</td>\n",
       "      <td>831.76</td>\n",
       "      <td>dears</td>\n",
       "      <td>-1.933</td>\n",
       "    </tr>\n",
       "    <tr>\n",
       "      <th>12</th>\n",
       "      <td>heard</td>\n",
       "      <td>1044</td>\n",
       "      <td>deign</td>\n",
       "      <td>832.29</td>\n",
       "      <td>drone</td>\n",
       "      <td>-1.931</td>\n",
       "    </tr>\n",
       "    <tr>\n",
       "      <th>13</th>\n",
       "      <td>tired</td>\n",
       "      <td>1044</td>\n",
       "      <td>gored</td>\n",
       "      <td>833.68</td>\n",
       "      <td>diner</td>\n",
       "      <td>-1.931</td>\n",
       "    </tr>\n",
       "    <tr>\n",
       "      <th>14</th>\n",
       "      <td>debar</td>\n",
       "      <td>1046</td>\n",
       "      <td>laved</td>\n",
       "      <td>834.20</td>\n",
       "      <td>rayed</td>\n",
       "      <td>-1.931</td>\n",
       "    </tr>\n",
       "    <tr>\n",
       "      <th>15</th>\n",
       "      <td>fader</td>\n",
       "      <td>1048</td>\n",
       "      <td>rayed</td>\n",
       "      <td>836.51</td>\n",
       "      <td>tired</td>\n",
       "      <td>-1.929</td>\n",
       "    </tr>\n",
       "    <tr>\n",
       "      <th>16</th>\n",
       "      <td>ailed</td>\n",
       "      <td>1050</td>\n",
       "      <td>drone</td>\n",
       "      <td>836.74</td>\n",
       "      <td>orbed</td>\n",
       "      <td>-1.927</td>\n",
       "    </tr>\n",
       "    <tr>\n",
       "      <th>17</th>\n",
       "      <td>orbed</td>\n",
       "      <td>1052</td>\n",
       "      <td>oared</td>\n",
       "      <td>836.91</td>\n",
       "      <td>roved</td>\n",
       "      <td>-1.925</td>\n",
       "    </tr>\n",
       "    <tr>\n",
       "      <th>18</th>\n",
       "      <td>blear</td>\n",
       "      <td>1054</td>\n",
       "      <td>dower</td>\n",
       "      <td>837.57</td>\n",
       "      <td>coder</td>\n",
       "      <td>-1.924</td>\n",
       "    </tr>\n",
       "    <tr>\n",
       "      <th>19</th>\n",
       "      <td>raths</td>\n",
       "      <td>1054</td>\n",
       "      <td>coder</td>\n",
       "      <td>838.35</td>\n",
       "      <td>abled</td>\n",
       "      <td>-1.924</td>\n",
       "    </tr>\n",
       "  </tbody>\n",
       "</table>\n",
       "</div>"
      ],
      "text/plain": [
       "   max_word   max exp_word     exp ent_word    ent\n",
       "0     wader  1012    raved  812.84    debar -1.949\n",
       "1     cadre  1026    debar  818.32    alder -1.946\n",
       "2     armed  1028    roved  826.51    raved -1.944\n",
       "3     diner  1029    orbed  826.71    dater -1.943\n",
       "4     coder  1030    wader  827.04    cadre -1.943\n",
       "5     padre  1035    armed  827.28    armed -1.939\n",
       "6     raved  1038    fader  828.28    garde -1.938\n",
       "7     rayed  1038    dater  829.41    wader -1.938\n",
       "8     delta  1039    alder  829.96    lased -1.935\n",
       "9     drone  1041    cadre  829.98    padre -1.934\n",
       "10    eland  1043    garde  830.47    fader -1.934\n",
       "11    garde  1043    padre  831.76    dears -1.933\n",
       "12    heard  1044    deign  832.29    drone -1.931\n",
       "13    tired  1044    gored  833.68    diner -1.931\n",
       "14    debar  1046    laved  834.20    rayed -1.931\n",
       "15    fader  1048    rayed  836.51    tired -1.929\n",
       "16    ailed  1050    drone  836.74    orbed -1.927\n",
       "17    orbed  1052    oared  836.91    roved -1.925\n",
       "18    blear  1054    dower  837.57    coder -1.924\n",
       "19    raths  1054    coder  838.35    abled -1.924"
      ]
     },
     "execution_count": 57,
     "metadata": {},
     "output_type": "execute_result"
    }
   ],
   "source": [
    "df[:20]"
   ]
  },
  {
   "cell_type": "markdown",
   "metadata": {},
   "source": [
    "The best and worst first guesses for **Wordle**:"
   ]
  },
  {
   "cell_type": "code",
   "execution_count": 58,
   "metadata": {},
   "outputs": [
    {
     "name": "stdout",
     "output_type": "stream",
     "text": [
      "CPU times: user 9min 17s, sys: 291 ms, total: 9min 17s\n",
      "Wall time: 9min 36s\n"
     ]
    },
    {
     "data": {
      "text/html": [
       "<div>\n",
       "<style scoped>\n",
       "    .dataframe tbody tr th:only-of-type {\n",
       "        vertical-align: middle;\n",
       "    }\n",
       "\n",
       "    .dataframe tbody tr th {\n",
       "        vertical-align: top;\n",
       "    }\n",
       "\n",
       "    .dataframe thead th {\n",
       "        text-align: right;\n",
       "    }\n",
       "</style>\n",
       "<table border=\"1\" class=\"dataframe\">\n",
       "  <thead>\n",
       "    <tr style=\"text-align: right;\">\n",
       "      <th></th>\n",
       "      <th>max_word</th>\n",
       "      <th>max</th>\n",
       "      <th>exp_word</th>\n",
       "      <th>exp</th>\n",
       "      <th>ent_word</th>\n",
       "      <th>ent</th>\n",
       "    </tr>\n",
       "  </thead>\n",
       "  <tbody>\n",
       "    <tr>\n",
       "      <th>0</th>\n",
       "      <td>aesir</td>\n",
       "      <td>168</td>\n",
       "      <td>roate</td>\n",
       "      <td>60.42</td>\n",
       "      <td>soare</td>\n",
       "      <td>-5.886</td>\n",
       "    </tr>\n",
       "    <tr>\n",
       "      <th>1</th>\n",
       "      <td>arise</td>\n",
       "      <td>168</td>\n",
       "      <td>raise</td>\n",
       "      <td>61.00</td>\n",
       "      <td>roate</td>\n",
       "      <td>-5.883</td>\n",
       "    </tr>\n",
       "    <tr>\n",
       "      <th>2</th>\n",
       "      <td>raise</td>\n",
       "      <td>168</td>\n",
       "      <td>raile</td>\n",
       "      <td>61.33</td>\n",
       "      <td>raise</td>\n",
       "      <td>-5.878</td>\n",
       "    </tr>\n",
       "    <tr>\n",
       "      <th>3</th>\n",
       "      <td>reais</td>\n",
       "      <td>168</td>\n",
       "      <td>soare</td>\n",
       "      <td>62.30</td>\n",
       "      <td>raile</td>\n",
       "      <td>-5.866</td>\n",
       "    </tr>\n",
       "    <tr>\n",
       "      <th>4</th>\n",
       "      <td>serai</td>\n",
       "      <td>168</td>\n",
       "      <td>arise</td>\n",
       "      <td>63.73</td>\n",
       "      <td>reast</td>\n",
       "      <td>-5.865</td>\n",
       "    </tr>\n",
       "    <tr>\n",
       "      <th>...</th>\n",
       "      <td>...</td>\n",
       "      <td>...</td>\n",
       "      <td>...</td>\n",
       "      <td>...</td>\n",
       "      <td>...</td>\n",
       "      <td>...</td>\n",
       "    </tr>\n",
       "    <tr>\n",
       "      <th>12966</th>\n",
       "      <td>susus</td>\n",
       "      <td>1369</td>\n",
       "      <td>gyppy</td>\n",
       "      <td>885.90</td>\n",
       "      <td>yukky</td>\n",
       "      <td>-2.205</td>\n",
       "    </tr>\n",
       "    <tr>\n",
       "      <th>12967</th>\n",
       "      <td>fuffy</td>\n",
       "      <td>1374</td>\n",
       "      <td>jugum</td>\n",
       "      <td>900.61</td>\n",
       "      <td>xylyl</td>\n",
       "      <td>-2.192</td>\n",
       "    </tr>\n",
       "    <tr>\n",
       "      <th>12968</th>\n",
       "      <td>gyppy</td>\n",
       "      <td>1380</td>\n",
       "      <td>jujus</td>\n",
       "      <td>903.31</td>\n",
       "      <td>immix</td>\n",
       "      <td>-2.053</td>\n",
       "    </tr>\n",
       "    <tr>\n",
       "      <th>12969</th>\n",
       "      <td>jugum</td>\n",
       "      <td>1410</td>\n",
       "      <td>qajaq</td>\n",
       "      <td>925.11</td>\n",
       "      <td>jujus</td>\n",
       "      <td>-2.038</td>\n",
       "    </tr>\n",
       "    <tr>\n",
       "      <th>12970</th>\n",
       "      <td>immix</td>\n",
       "      <td>1429</td>\n",
       "      <td>immix</td>\n",
       "      <td>967.40</td>\n",
       "      <td>qajaq</td>\n",
       "      <td>-1.892</td>\n",
       "    </tr>\n",
       "  </tbody>\n",
       "</table>\n",
       "<p>12971 rows × 6 columns</p>\n",
       "</div>"
      ],
      "text/plain": [
       "      max_word   max exp_word     exp ent_word    ent\n",
       "0        aesir   168    roate   60.42    soare -5.886\n",
       "1        arise   168    raise   61.00    roate -5.883\n",
       "2        raise   168    raile   61.33    raise -5.878\n",
       "3        reais   168    soare   62.30    raile -5.866\n",
       "4        serai   168    arise   63.73    reast -5.865\n",
       "...        ...   ...      ...     ...      ...    ...\n",
       "12966    susus  1369    gyppy  885.90    yukky -2.205\n",
       "12967    fuffy  1374    jugum  900.61    xylyl -2.192\n",
       "12968    gyppy  1380    jujus  903.31    immix -2.053\n",
       "12969    jugum  1410    qajaq  925.11    jujus -2.038\n",
       "12970    immix  1429    immix  967.40    qajaq -1.892\n",
       "\n",
       "[12971 rows x 6 columns]"
      ]
     },
     "execution_count": 58,
     "metadata": {},
     "output_type": "execute_result"
    }
   ],
   "source": [
    "setup('wordle')\n",
    "%time df2 = first_guesses(wordle_small, wordle_big)\n",
    "df2"
   ]
  },
  {
   "cell_type": "markdown",
   "metadata": {},
   "source": [
    "Again, the best words use popular letters. One difference is that in Jotto, the best guesses have two vowels, in Wordle three. The worst words have repeated unpopular letters, like \"qajaq\" and \"yukky\". Here are the top 20 guesses:"
   ]
  },
  {
   "cell_type": "code",
   "execution_count": 59,
   "metadata": {},
   "outputs": [
    {
     "data": {
      "text/html": [
       "<div>\n",
       "<style scoped>\n",
       "    .dataframe tbody tr th:only-of-type {\n",
       "        vertical-align: middle;\n",
       "    }\n",
       "\n",
       "    .dataframe tbody tr th {\n",
       "        vertical-align: top;\n",
       "    }\n",
       "\n",
       "    .dataframe thead th {\n",
       "        text-align: right;\n",
       "    }\n",
       "</style>\n",
       "<table border=\"1\" class=\"dataframe\">\n",
       "  <thead>\n",
       "    <tr style=\"text-align: right;\">\n",
       "      <th></th>\n",
       "      <th>max_word</th>\n",
       "      <th>max</th>\n",
       "      <th>exp_word</th>\n",
       "      <th>exp</th>\n",
       "      <th>ent_word</th>\n",
       "      <th>ent</th>\n",
       "    </tr>\n",
       "  </thead>\n",
       "  <tbody>\n",
       "    <tr>\n",
       "      <th>0</th>\n",
       "      <td>aesir</td>\n",
       "      <td>168</td>\n",
       "      <td>roate</td>\n",
       "      <td>60.42</td>\n",
       "      <td>soare</td>\n",
       "      <td>-5.886</td>\n",
       "    </tr>\n",
       "    <tr>\n",
       "      <th>1</th>\n",
       "      <td>arise</td>\n",
       "      <td>168</td>\n",
       "      <td>raise</td>\n",
       "      <td>61.00</td>\n",
       "      <td>roate</td>\n",
       "      <td>-5.883</td>\n",
       "    </tr>\n",
       "    <tr>\n",
       "      <th>2</th>\n",
       "      <td>raise</td>\n",
       "      <td>168</td>\n",
       "      <td>raile</td>\n",
       "      <td>61.33</td>\n",
       "      <td>raise</td>\n",
       "      <td>-5.878</td>\n",
       "    </tr>\n",
       "    <tr>\n",
       "      <th>3</th>\n",
       "      <td>reais</td>\n",
       "      <td>168</td>\n",
       "      <td>soare</td>\n",
       "      <td>62.30</td>\n",
       "      <td>raile</td>\n",
       "      <td>-5.866</td>\n",
       "    </tr>\n",
       "    <tr>\n",
       "      <th>4</th>\n",
       "      <td>serai</td>\n",
       "      <td>168</td>\n",
       "      <td>arise</td>\n",
       "      <td>63.73</td>\n",
       "      <td>reast</td>\n",
       "      <td>-5.865</td>\n",
       "    </tr>\n",
       "    <tr>\n",
       "      <th>5</th>\n",
       "      <td>aiery</td>\n",
       "      <td>171</td>\n",
       "      <td>irate</td>\n",
       "      <td>63.78</td>\n",
       "      <td>slate</td>\n",
       "      <td>-5.856</td>\n",
       "    </tr>\n",
       "    <tr>\n",
       "      <th>6</th>\n",
       "      <td>ayrie</td>\n",
       "      <td>171</td>\n",
       "      <td>orate</td>\n",
       "      <td>63.89</td>\n",
       "      <td>crate</td>\n",
       "      <td>-5.835</td>\n",
       "    </tr>\n",
       "    <tr>\n",
       "      <th>7</th>\n",
       "      <td>ariel</td>\n",
       "      <td>173</td>\n",
       "      <td>ariel</td>\n",
       "      <td>65.29</td>\n",
       "      <td>salet</td>\n",
       "      <td>-5.835</td>\n",
       "    </tr>\n",
       "    <tr>\n",
       "      <th>8</th>\n",
       "      <td>raile</td>\n",
       "      <td>173</td>\n",
       "      <td>arose</td>\n",
       "      <td>66.02</td>\n",
       "      <td>irate</td>\n",
       "      <td>-5.831</td>\n",
       "    </tr>\n",
       "    <tr>\n",
       "      <th>9</th>\n",
       "      <td>aloes</td>\n",
       "      <td>174</td>\n",
       "      <td>raine</td>\n",
       "      <td>67.06</td>\n",
       "      <td>trace</td>\n",
       "      <td>-5.831</td>\n",
       "    </tr>\n",
       "    <tr>\n",
       "      <th>10</th>\n",
       "      <td>realo</td>\n",
       "      <td>176</td>\n",
       "      <td>artel</td>\n",
       "      <td>67.50</td>\n",
       "      <td>arise</td>\n",
       "      <td>-5.821</td>\n",
       "    </tr>\n",
       "    <tr>\n",
       "      <th>11</th>\n",
       "      <td>stoae</td>\n",
       "      <td>177</td>\n",
       "      <td>taler</td>\n",
       "      <td>67.74</td>\n",
       "      <td>orate</td>\n",
       "      <td>-5.817</td>\n",
       "    </tr>\n",
       "    <tr>\n",
       "      <th>12</th>\n",
       "      <td>alone</td>\n",
       "      <td>182</td>\n",
       "      <td>ratel</td>\n",
       "      <td>69.84</td>\n",
       "      <td>stare</td>\n",
       "      <td>-5.807</td>\n",
       "    </tr>\n",
       "    <tr>\n",
       "      <th>13</th>\n",
       "      <td>anole</td>\n",
       "      <td>182</td>\n",
       "      <td>aesir</td>\n",
       "      <td>69.88</td>\n",
       "      <td>carte</td>\n",
       "      <td>-5.795</td>\n",
       "    </tr>\n",
       "    <tr>\n",
       "      <th>14</th>\n",
       "      <td>aeros</td>\n",
       "      <td>183</td>\n",
       "      <td>arles</td>\n",
       "      <td>69.89</td>\n",
       "      <td>raine</td>\n",
       "      <td>-5.787</td>\n",
       "    </tr>\n",
       "    <tr>\n",
       "      <th>15</th>\n",
       "      <td>arose</td>\n",
       "      <td>183</td>\n",
       "      <td>realo</td>\n",
       "      <td>69.95</td>\n",
       "      <td>caret</td>\n",
       "      <td>-5.777</td>\n",
       "    </tr>\n",
       "    <tr>\n",
       "      <th>16</th>\n",
       "      <td>soare</td>\n",
       "      <td>183</td>\n",
       "      <td>alter</td>\n",
       "      <td>69.99</td>\n",
       "      <td>ariel</td>\n",
       "      <td>-5.775</td>\n",
       "    </tr>\n",
       "    <tr>\n",
       "      <th>17</th>\n",
       "      <td>oiler</td>\n",
       "      <td>186</td>\n",
       "      <td>saner</td>\n",
       "      <td>70.13</td>\n",
       "      <td>taler</td>\n",
       "      <td>-5.771</td>\n",
       "    </tr>\n",
       "    <tr>\n",
       "      <th>18</th>\n",
       "      <td>oriel</td>\n",
       "      <td>186</td>\n",
       "      <td>later</td>\n",
       "      <td>70.22</td>\n",
       "      <td>carle</td>\n",
       "      <td>-5.770</td>\n",
       "    </tr>\n",
       "    <tr>\n",
       "      <th>19</th>\n",
       "      <td>reoil</td>\n",
       "      <td>186</td>\n",
       "      <td>snare</td>\n",
       "      <td>71.10</td>\n",
       "      <td>slane</td>\n",
       "      <td>-5.770</td>\n",
       "    </tr>\n",
       "  </tbody>\n",
       "</table>\n",
       "</div>"
      ],
      "text/plain": [
       "   max_word  max exp_word    exp ent_word    ent\n",
       "0     aesir  168    roate  60.42    soare -5.886\n",
       "1     arise  168    raise  61.00    roate -5.883\n",
       "2     raise  168    raile  61.33    raise -5.878\n",
       "3     reais  168    soare  62.30    raile -5.866\n",
       "4     serai  168    arise  63.73    reast -5.865\n",
       "5     aiery  171    irate  63.78    slate -5.856\n",
       "6     ayrie  171    orate  63.89    crate -5.835\n",
       "7     ariel  173    ariel  65.29    salet -5.835\n",
       "8     raile  173    arose  66.02    irate -5.831\n",
       "9     aloes  174    raine  67.06    trace -5.831\n",
       "10    realo  176    artel  67.50    arise -5.821\n",
       "11    stoae  177    taler  67.74    orate -5.817\n",
       "12    alone  182    ratel  69.84    stare -5.807\n",
       "13    anole  182    aesir  69.88    carte -5.795\n",
       "14    aeros  183    arles  69.89    raine -5.787\n",
       "15    arose  183    realo  69.95    caret -5.777\n",
       "16    soare  183    alter  69.99    ariel -5.775\n",
       "17    oiler  186    saner  70.13    taler -5.771\n",
       "18    oriel  186    later  70.22    carle -5.770\n",
       "19    reoil  186    snare  71.10    slane -5.770"
      ]
     },
     "execution_count": 59,
     "metadata": {},
     "output_type": "execute_result"
    }
   ],
   "source": [
    "df2[:20]"
   ]
  },
  {
   "cell_type": "markdown",
   "metadata": {},
   "source": [
    "# Next Steps\n",
    "\n",
    "There are many directions you could take this if you are interested:\n",
    "- **Other games:**\n",
    "  - Consider a Jotto game variant where each reply consists of two numbers: the number of letters in common with the target, and the number of letters that are in the exact correct position (as in Mastermind).\n",
    "  - Implement [Mastermind](https://en.wikipedia.org/wiki/Mastermind_%28board_game%29). The default version has 6 colors and 4 pegs. Can you go beyond that?\n",
    "  - Research what other computer scientists have done with [Jotto](https://arxiv.org/abs/1107.3342) or [Mastermind](http://serkangur.freeservers.com/).\n",
    "  - Refactor the code so it can smoothly handle multiple different games.\n",
    "- **Better strategy**:\n",
    "  - Our `minimizing_tree` function is **greedy** in that it guesses the word that minimizes some metric of the current situation without looking ahead to future branches in the tree. Can you get better performance by doing some **look-ahead**? Perhaps with a beam search?\n",
    "  - As an alternative to look-ahead, can you improve a tree by editing it? Given a tree, look for interior nodes that end up with a worse-than-expected average score, and see if the node can be replaced with something better (covering the same target words). Correcting a few bad nodes might be faster than carefully searching for good nodes in the first place.\n",
    "  - The three metrics (max, expectation, and negative entropy) are all designed as proxies to what we really want to minimize: the average number of guesses. Can we estimate that directly? For example, we know a branch of size 1 will always take 1 guess; of size 2 an average of 3/2 guesses; and of size 3 an average of 5/3 guesses if one of the words partitions the other two, otherwise an average of 2. Can we learn a function that takes a set of words as input and estimates the average number of guesses for the set? Would a deep neural net be a good way to learn this function?\n",
    "  - Is it feasible to do a complete search and find the guaranteed optimal strategy? What optimizations to the code would be necessary? How long would the search take?\n",
    "- **Chooser strategy**:\n",
    "  - Analyze the game where the chooser is not random, but rather is an adversary to the guesser–the chooser tries to choose a word that will maximize the guesser's score. What's a good strategy for the chooser? Is there a strategy equilibrium?\n",
    "  - Refactor `play` to accomodate three roles:\n",
    "    - A chooser, who decides what the target word is.\n",
    "    - A guesser, who guesses the target word.\n",
    "    - A replier, who says what the reply to the guess is."
   ]
  }
 ],
 "metadata": {
  "kernelspec": {
   "display_name": "Python 3",
   "language": "python",
   "name": "python3"
  },
  "language_info": {
   "codemirror_mode": {
    "name": "ipython",
    "version": 3
   },
   "file_extension": ".py",
   "mimetype": "text/x-python",
   "name": "python",
   "nbconvert_exporter": "python",
   "pygments_lexer": "ipython3",
   "version": "3.7.6"
  }
 },
 "nbformat": 4,
 "nbformat_minor": 4
}
