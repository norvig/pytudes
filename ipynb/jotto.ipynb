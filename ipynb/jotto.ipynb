{
 "cells": [
  {
   "cell_type": "markdown",
   "metadata": {},
   "source": [
    "<div align=\"right\" style=\"text-align: right;\"><i>Peter Norvig<br>April 2020</i></div>\n",
    "\n",
    "# Jotto\n",
    "\n",
    "[Jotto](https://en.wikipedia.org/wiki/Jotto) is a word game in which a **guesser** tries to guess a secret **target** word, which is chosen from a list of permissible words, in as few guesses as possible. Each guess must be one of the permissible words, and the **reply** to each guess is the number of letters in common between the guess word and the target word, regardless of the positions of the letters.   \n",
    "\n",
    "Here is an example Jotto game, where I show the guesses, the replies, the number of remaining targets that are **consistent** with all the replies seen so far, and finally the letters that matched (this is as an aid to you, the reader; these matching letters are not known to the guesser). In this game, the guesser gets to the target word, \"wonky\", in 7 guesses. \n",
    "\n",
    "    Guess 1: stoma, Reply: 1, Consistent targets: 1118    (Matched: \"o\")\n",
    "    Guess 2: bairn, Reply: 1, Consistent targets: 441     (Matched: \"n\")\n",
    "    Guess 3: swipe, Reply: 1, Consistent targets: 197     (Matched: \"w\")\n",
    "    Guess 4: lurks, Reply: 1, Consistent targets: 87      (Matched: \"k\")\n",
    "    Guess 5: rowdy, Reply: 3, Consistent targets: 14      (Matched: \"owy\")\n",
    "    Guess 6: roved, Reply: 1, Consistent targets: 2       (Matched: \"o\")\n",
    "    Guess 7: wonky, Reply: 5, Consistent targets: 1       (Matched: \"wonky\")\n",
    "\n",
    "\n",
    "There are several variants of the game; here are four key questions and my answers:\n",
    "\n",
    "- Q: How many letters can each word be? <br>A: **Only five-letter words are allowed in the word list**.\n",
    "- Q: Can a guess be a word that is not in the word list? <br>A: **No. (If the guesser proposes a non-word, the reply is 0.)**\n",
    "- Q: What is the reply for a word that has the same letter twice, like the `s` in `stars`? <br>A: **Only words with no repeated letters are allowed in the word list**.\n",
    "- Q: What if the reply is `5`, but the guess is not the target?<br>A: **No two words in the word list are allowed to have the same set of five letters**.<br>**For example, only one of** `{'apers', 'pares', 'parse', 'pears', 'reaps', 'spare', 'spear'}` **is allowed.**\n",
    "\n",
    "# Choosers and Guessers\n",
    "\n",
    "Typically, the **guesser** plays against a **chooser**, who chooses the target word. This introduces a game-theoretic aspect: the chooser chooses a word that should be difficult for the guesser, but knowing that, the guesser modifies their strategy, and knowing that, the chooser further modifies their choice, etc. To avoid these complications, I will instead use a scenario where every target word is equally likely, and to evaluate a guesser we have it play one game with each target word, and aggregate the scores from all those games. (This is appropriate when the guesser is a program, but would be extremely tedious for a human guesser.)\n",
    "\n",
    "First some imports and (if necessary) the download of a file of words, `sgb-words.txt`:"
   ]
  },
  {
   "cell_type": "code",
   "execution_count": 1,
   "metadata": {},
   "outputs": [],
   "source": [
    "import matplotlib.pyplot as plt\n",
    "import random\n",
    "from typing      import List, Tuple, Dict, Union\n",
    "from statistics  import mean, stdev\n",
    "from collections import defaultdict, Counter\n",
    "from math        import log\n",
    "\n",
    "! [ -e sgb-words.txt ] || curl -O https://norvig.com/ngrams/sgb-words.txt"
   ]
  },
  {
   "cell_type": "markdown",
   "metadata": {},
   "source": [
    "We can make a Jotto word list from `sgb-words.txt` by putting all the words that have five distinct letters into a dict keyed by the set of letters in each word, and then keeping only one word for each letter set:"
   ]
  },
  {
   "cell_type": "code",
   "execution_count": 2,
   "metadata": {},
   "outputs": [],
   "source": [
    "def jotto_words(words) -> List[str]:\n",
    "    \"\"\"Build a list of permissible Jotto words from an iterable of words.\"\"\"\n",
    "    lettersets = {frozenset(w): w \n",
    "                  for w in words if len(w) == 5 == len(frozenset(w))}\n",
    "    return list(lettersets.values())"
   ]
  },
  {
   "cell_type": "code",
   "execution_count": 3,
   "metadata": {},
   "outputs": [
    {
     "data": {
      "text/plain": [
       "2845"
      ]
     },
     "execution_count": 3,
     "metadata": {},
     "output_type": "execute_result"
    }
   ],
   "source": [
    "wordlist = jotto_words(open('sgb-words.txt').read().split())\n",
    "len(wordlist)"
   ]
  },
  {
   "cell_type": "markdown",
   "metadata": {},
   "source": [
    "We see there are 2,845 permissible target words."
   ]
  },
  {
   "cell_type": "markdown",
   "metadata": {},
   "source": [
    "# Playing a Game\n",
    "\n",
    "We will define the function `play_jotto` to play a game and optionally produce the output shown above in the example game (without the \"(Matched: ...)\" part), and finally return as a score the number of guesses made. To avoid a possible infinite loop with a very poor guesser, we limit the number of guesses to the number of words in the word list.\n",
    "\n",
    "The first argument to `play_jotto` is a `guesser`. I choose to implement a guesser as a `callable` (e.g., a function) that is passed the current state of the game and returns a guess word. So how do we represent the state of the game? `play_jotto` is keeping track of the `targets` that are still consistent given previous guesses and replies, so we might as well pass that in. In addition, we pass in the reply from the previous guess. Note that a guess need not be one of the consistent targets, but it must be one of the words in the word list.  The second argument is a `chooser`: a function that selects a word from a wordlist. By default, it chooses randomly."
   ]
  },
  {
   "cell_type": "code",
   "execution_count": 4,
   "metadata": {},
   "outputs": [],
   "source": [
    "def play_jotto(guesser, chooser=random.choice, wordlist=wordlist, verbose=False) -> int:\n",
    "    \"\"\"How many guesses does it take for `guesser` to guess the Jotto target word,\n",
    "    which is selected by `chooser` from the words in `wordlist`?\"\"\"\n",
    "    targets = wordlist # The targets that are consistent with all replies\n",
    "    target  = chooser(targets)\n",
    "    reply   = None\n",
    "    for i in range(1, len(wordlist) + 1):\n",
    "        guess = guesser(reply, targets)\n",
    "        reply = reply_for(target, guess) if guess in wordlist else -1\n",
    "        targets = [w for w in targets if reply_for(guess, w) == reply]\n",
    "        if verbose: \n",
    "            print(f'Guess {i}: {guess}, Reply: {reply}, Consistent targets: {len(targets)}')\n",
    "        if guess == target or i == len(wordlist):  \n",
    "            return i\n",
    "        \n",
    "Reply = int # A reply to a guess is an integer (from 0 to 5)\n",
    "                         \n",
    "def reply_for(target, guess) -> Reply: \n",
    "    \"The number of letters in common between the target and guess\"\n",
    "    return len(set(target).intersection(guess))"
   ]
  },
  {
   "cell_type": "markdown",
   "metadata": {},
   "source": [
    "# Random Guesser\n",
    "\n",
    "One simple guesser function is `random_guesser`: from the remaining consistent  targets, pick one at random. That sounds hopelessly naive, but it is actually a decent strategy:"
   ]
  },
  {
   "cell_type": "code",
   "execution_count": 5,
   "metadata": {},
   "outputs": [
    {
     "name": "stdout",
     "output_type": "stream",
     "text": [
      "Guess 1: delis, Reply: 3, Consistent targets: 410\n",
      "Guess 2: coeds, Reply: 2, Consistent targets: 210\n",
      "Guess 3: dirts, Reply: 2, Consistent targets: 97\n",
      "Guess 4: veldt, Reply: 2, Consistent targets: 44\n",
      "Guess 5: adieu, Reply: 2, Consistent targets: 17\n",
      "Guess 6: child, Reply: 5, Consistent targets: 1\n"
     ]
    },
    {
     "data": {
      "text/plain": [
       "6"
      ]
     },
     "execution_count": 5,
     "metadata": {},
     "output_type": "execute_result"
    }
   ],
   "source": [
    "def random_guesser(_, targets) -> str: return random.choice(targets)\n",
    "\n",
    "play_jotto(random_guesser, verbose=True)"
   ]
  },
  {
   "cell_type": "markdown",
   "metadata": {},
   "source": [
    "# Evaluating Guessers\n",
    "\n",
    "That was just one sample game. How well will this guesser do averaged over all target words? The function `play_jottos` plays a game against every target and collects the scores. Then, `show` displays a histogram and the mean, standard deviation, and worst case number of guesses. "
   ]
  },
  {
   "cell_type": "code",
   "execution_count": 6,
   "metadata": {},
   "outputs": [],
   "source": [
    "def play_jottos(guesser, targets=wordlist) -> List[int]:\n",
    "    \"\"\"Scores for this guesser on all targets.\"\"\"\n",
    "    return [play_jotto(guesser, lambda _: target, wordlist, verbose=False)\n",
    "            for target in targets]\n",
    "    \n",
    "def show(scores: List[int]):\n",
    "    \"\"\"Show a histogram and statistics for these scores.\"\"\"\n",
    "    bins = range(min(scores), max(scores) + 2)\n",
    "    plt.hist(scores, align='left', rwidth=0.9, bins=bins,\n",
    "             weights=[100 / len(scores) for _ in scores])\n",
    "    plt.xticks(bins[:-1])\n",
    "    plt.xlabel('Number of guesses to find target'); plt.ylabel('% of targets')\n",
    "    print(f'mean = {mean(scores):.2f} ± {stdev(scores):.2f} guesses; worst = {max(scores)}')"
   ]
  },
  {
   "cell_type": "code",
   "execution_count": 7,
   "metadata": {},
   "outputs": [
    {
     "name": "stdout",
     "output_type": "stream",
     "text": [
      "mean = 7.32 ± 1.66 guesses; worst = 16\n"
     ]
    },
    {
     "data": {
      "image/png": "[encoded data removed]",
      "text/plain": [
       "<Figure size 432x288 with 1 Axes>"
      ]
     },
     "metadata": {
      "needs_background": "light"
     },
     "output_type": "display_data"
    }
   ],
   "source": [
    "show(play_jottos(random_guesser))"
   ]
  },
  {
   "cell_type": "markdown",
   "metadata": {},
   "source": [
    "The average is a bit more than 7 guesses; 2/3 of the time it will take from 6 to 9 guesses, and the worst case is 18 guesses. Can we improve the average and/or worst case?\n",
    "\n",
    "#  Guessers that Partition Targets\n",
    "\n",
    "A key idea in guessing is to reduce the number of consistent targets. We can think of a guess as **partitioning** the consistent targets into different **branches** of a tree, each branch corresponding to a different reply:"
   ]
  },
  {
   "cell_type": "code",
   "execution_count": 8,
   "metadata": {},
   "outputs": [],
   "source": [
    "def partition(guess, targets) ->  Dict[Reply, List[str]]:\n",
    "    \"\"\"A partition of targets by the possible replies to guess: {reply: [word, ...]}.\"\"\"\n",
    "    branches = defaultdict(list)\n",
    "    for target in targets:\n",
    "        branches[reply_for(target, guess)].append(target)\n",
    "    return branches"
   ]
  },
  {
   "cell_type": "markdown",
   "metadata": {},
   "source": [
    "It would take too much space to show a partition of all 2,845 words, so here's a partition of just the first 22 words:"
   ]
  },
  {
   "cell_type": "code",
   "execution_count": 9,
   "metadata": {},
   "outputs": [
    {
     "data": {
      "text/plain": [
       "defaultdict(list,\n",
       "            {4: ['their', 'might'],\n",
       "             1: ['about', 'sword', 'resay', 'nuder', 'house'],\n",
       "             0: ['would', 'cloud', 'place', 'sound', 'fondu'],\n",
       "             3: ['throe', 'write', 'rifts', 'think', 'grate'],\n",
       "             2: ['water', 'after', 'ethos', 'while'],\n",
       "             5: ['girth']})"
      ]
     },
     "execution_count": 9,
     "metadata": {},
     "output_type": "execute_result"
    }
   ],
   "source": [
    "partition('girth', wordlist[:22])"
   ]
  },
  {
   "cell_type": "markdown",
   "metadata": {},
   "source": [
    "We see that after guesssing `'girth'` we will be left with no more than five consistent targets, no matter what the reply.\n",
    "\n",
    "To decide which guess is best, we don't need to know the identity of all the words in each branch, just the *count* of how many there are. The function `partition_counts` computes that,  returning a list of counts, one for each possible reply:"
   ]
  },
  {
   "cell_type": "code",
   "execution_count": 10,
   "metadata": {},
   "outputs": [],
   "source": [
    "def partition_counts(guess, targets) -> List[int]: \n",
    "    \"A partition: {reply: number_of_targets_with_reply, ...}.\"\n",
    "    counts = Counter(reply_for(guess, target) for target in targets)\n",
    "    return [counts[i] for i in all_possible_replies]\n",
    "\n",
    "all_possible_replies = range(6)"
   ]
  },
  {
   "cell_type": "markdown",
   "metadata": {},
   "source": [
    "Below are the partition counts for two possible first guesses, `ouija` and `coder`:"
   ]
  },
  {
   "cell_type": "code",
   "execution_count": 11,
   "metadata": {},
   "outputs": [
    {
     "data": {
      "text/plain": [
       "[175, 1848, 755, 65, 1, 1]"
      ]
     },
     "execution_count": 11,
     "metadata": {},
     "output_type": "execute_result"
    }
   ],
   "source": [
    "partition_counts('ouija', wordlist)"
   ]
  },
  {
   "cell_type": "markdown",
   "metadata": {},
   "source": [
    "We see that for the guess `'ouija'`,  1848 consistent targets (about 2/3 of the word list) are bunched into one branch, meaning that 2/3 of the time you will be left with 1848 targets after guessing `'ouija'`. (*Note:* Why is this so? Because `'ouija'` has all the vowels except `'e'`, and about 2/3 of the words have exactly one of these vowels, so the reply for those words is 1. Only one other word, `'audio'`, has these four vowels. Only 56 words have a `'j'`, so that is not a major factor.)"
   ]
  },
  {
   "cell_type": "code",
   "execution_count": 12,
   "metadata": {},
   "outputs": [
    {
     "data": {
      "text/plain": [
       "[433, 1030, 1014, 327, 40, 1]"
      ]
     },
     "execution_count": 12,
     "metadata": {},
     "output_type": "execute_result"
    }
   ],
   "source": [
    "partition_counts('coder', wordlist)"
   ]
  },
  {
   "cell_type": "markdown",
   "metadata": {},
   "source": [
    "For the guess `'coder'`, the targets are more spread out over multiple branches. After guessing `'coder'` you will never be left with more than 1030 consistent targets. That suggests that `'coder'` is a better first guess, and it suggests a general strategy: **guess the word that best partitions the consistent targets into small branches.**\n",
    "\n",
    "What's a good metric for measuring how **small** the branches are? What we really want to know is how many additional guesses it will take to handle each branch, but since we don't know that, we can use one of the following proxy metrics:\n",
    "\n",
    "- A simple metric is to **minimize the maximum number in the partition counts**. That is, we should deduce that `coder`, with its `max` partition count of 1030, is a better guess than `ouija`, with its `max` of 1848. \n",
    "\n",
    "- A more sophisticated metric is to **minimize the expected value of the partition counts**: in probability theory the expected value or **expectation** is the weighted average of a random variable. Here it means the sum, over all branches, of the size of the branch multiplied by the probability of ending up in the branch.\n",
    "\n",
    "- Information theory provides a suggestion to **maximize the entropy in the partition counts**. Entropy is similar to expectation, except that it weights each branch size by its base 2 logarithm (whereas expectation weights it by its actual size). Note that we want to minimize *negative* entropy."
   ]
  },
  {
   "cell_type": "code",
   "execution_count": 13,
   "metadata": {},
   "outputs": [],
   "source": [
    "def expectation(counts) -> float:\n",
    "    \"Given a list of counts, give the expected count.\"\n",
    "    def P(x, scale=1/sum(counts)): return scale * x\n",
    "    return sum(P(x) * x for x in counts)\n",
    "\n",
    "def entropy(counts) -> float: \n",
    "    \"\"\"Information theoretic entropy of a list of counts.\"\"\"\n",
    "    def P(x, scale=1/sum(counts)): return scale * x\n",
    "    return - sum(P(x) * log(P(x), 2) for x in counts if x)\n",
    "\n",
    "def negative_entropy(counts) -> float: return - entropy(counts)"
   ]
  },
  {
   "cell_type": "markdown",
   "metadata": {},
   "source": [
    "Here are the top 10 guesses according to each of the three metrics:"
   ]
  },
  {
   "cell_type": "code",
   "execution_count": 14,
   "metadata": {},
   "outputs": [],
   "source": [
    "def top(metric, n=10, words=wordlist) -> str: \n",
    "    \"\"\"The top n words according to metric(partition_counts(w, words)).\"\"\"\n",
    "    return ' '.join(sorted(words, key=lambda w: metric(partition_counts(w, words)))[:n])"
   ]
  },
  {
   "cell_type": "code",
   "execution_count": 15,
   "metadata": {},
   "outputs": [
    {
     "data": {
      "text/plain": [
       "'wader cadre armed diner coder padre rayed raved delta drone'"
      ]
     },
     "execution_count": 15,
     "metadata": {},
     "output_type": "execute_result"
    }
   ],
   "source": [
    "top(max) # minimize the maximum number"
   ]
  },
  {
   "cell_type": "code",
   "execution_count": 16,
   "metadata": {},
   "outputs": [
    {
     "data": {
      "text/plain": [
       "'raved debar roved orbed wader armed fader dater alder cadre'"
      ]
     },
     "execution_count": 16,
     "metadata": {},
     "output_type": "execute_result"
    }
   ],
   "source": [
    "top(expectation) # minimize the expectation"
   ]
  },
  {
   "cell_type": "code",
   "execution_count": 17,
   "metadata": {},
   "outputs": [
    {
     "data": {
      "text/plain": [
       "'debar alder raved dater cadre armed garde wader lased padre'"
      ]
     },
     "execution_count": 17,
     "metadata": {},
     "output_type": "execute_result"
    }
   ],
   "source": [
    "top(negative_entropy) # maximize the entropy (by minimizing negative entropy)"
   ]
  },
  {
   "cell_type": "markdown",
   "metadata": {},
   "source": [
    "The three metrics yield a lot of overlap; `wader`, `raved`, `armed` and `cadre` appear in the top 10 for all three. Every word has both a `'d'` and an `'e'`, and 28 out of 30 have an `'r'`. Which metric is best? We have the tools to answer that: we could use `play_jottos` to get scores for guessers that use each metric. But that would take a long time. It takes about 5 seconds to compute the `top` word for just the first guess; I don't want to repeat that computation 3 × 2,845 times (and that's just for choosing the first word)."
   ]
  },
  {
   "cell_type": "markdown",
   "metadata": {},
   "source": [
    "#  Guesser Trees \n",
    "\n",
    "I can speed up computation by precomputing a **guesser tree**: a tree that keeps partitioning target words into branches until every branch holds a single word (we call that a leaf). Think of the tree as a universal strategy that we can  apply to every target word with no need for additional computation&mdash;just branch-following in the tree.  I define a guesser tree as either:\n",
    "- A **leaf**, which is a string, such as `'coder'`, indicating that this is the sole remaining consistent target. Every word in the word list should appear as a leaf in exactly one place in the guesser tree.\n",
    "- An **interior node**, which is a tuple of a guess and a dict of branches, `(guess, {reply: subtree, ...})`, where the reply is an integer, 0 to 5, and each subtree covers all the target words that are consistent with that reply."
   ]
  },
  {
   "cell_type": "code",
   "execution_count": 18,
   "metadata": {},
   "outputs": [],
   "source": [
    "Leaf = str\n",
    "Node = Tuple[str, Dict[Reply, 'Tree']]\n",
    "Tree = Union[Leaf, Node]    # A Tree is a Node or a Leaf\n",
    "GUESS, BRANCHES = 0, 1      # Indexes into a Node tuple"
   ]
  },
  {
   "cell_type": "markdown",
   "metadata": {},
   "source": [
    "The function `make_tree(metric, targets)` builds a tree that covers all the targets and that, at every node, guesses a word that  minimizes the `metric` applied to the `partition_counts` of the guess."
   ]
  },
  {
   "cell_type": "code",
   "execution_count": 19,
   "metadata": {},
   "outputs": [],
   "source": [
    "def make_tree(metric, targets=wordlist) -> Tree:\n",
    "    \"\"\"Make a tree that guesses to minimize metric(partition_counts(guess, targets)).\"\"\"\n",
    "    if len(targets) == 1:\n",
    "        return targets[0]\n",
    "    else:\n",
    "        guess = min(targets, key=lambda guess: metric(partition_counts(guess, targets))) \n",
    "        branches = partition(guess, targets)\n",
    "        return (guess, {reply: make_tree(metric, branches[reply]) \n",
    "                        for reply in sorted(branches)})"
   ]
  },
  {
   "cell_type": "markdown",
   "metadata": {},
   "source": [
    "Here is a tree that covers five words by always making the guess that minimizes the **maximum** number in the partition counts:"
   ]
  },
  {
   "cell_type": "code",
   "execution_count": 20,
   "metadata": {},
   "outputs": [
    {
     "data": {
      "text/plain": [
       "('bites',\n",
       " {1: ('purge', {1: ('sulky', {1: 'hayed', 5: 'sulky'}), 5: 'purge'}),\n",
       "  2: 'patsy',\n",
       "  5: 'bites'})"
      ]
     },
     "execution_count": 20,
     "metadata": {},
     "output_type": "execute_result"
    }
   ],
   "source": [
    "words5 = ['purge', 'bites', 'sulky', 'patsy', 'hayed']\n",
    "tree5  = make_tree(max, words5)\n",
    "tree5"
   ]
  },
  {
   "cell_type": "markdown",
   "metadata": {},
   "source": [
    "The tree says that the first guess is `'bites'`, and if the reply is `1` there is a complex subtree to consider (starting with the guess `'purge'`), but if the reply is `2` the target can only be `'patsy'` and of course if the reply is `5` then `'bites'` was the target."
   ]
  },
  {
   "cell_type": "markdown",
   "metadata": {},
   "source": [
    "# Turning a Tree into a Callable Guesser\n",
    "\n",
    "Now that we've made a tree, we need to use it as a component of a guesser that `play_jotto` can call upon. A `TreeGuesser` is an object that stores a tree in the `self.root` and `self.tree` attributes, and while the game is being played, it follows branches in the tree, choosing the guess indicated at each node. This is done within the `__call__` method, because `play_jotto` expects a callable.  Note that on the first turn of a new game the reply will be `None`, in which case we reset `self.tree` to be the root tree. For subsequent turns, we follow the branch indicated by the reply. "
   ]
  },
  {
   "cell_type": "code",
   "execution_count": 21,
   "metadata": {},
   "outputs": [],
   "source": [
    "class TreeGuesser:\n",
    "    \"\"\"Given a guesser tree, use it to create a callable that can play_jotto.\"\"\"\n",
    "    def __init__(self, tree): self.root = self.tree = tree\n",
    "        \n",
    "    def __call__(self, reply, _) -> str:\n",
    "        self.tree = self.root if reply is None else self.tree[BRANCHES][reply]\n",
    "        return self.tree if isinstance(self.tree, str) else self.tree[GUESS]"
   ]
  },
  {
   "cell_type": "markdown",
   "metadata": {},
   "source": [
    "Here's how we play a game with the five-word list:"
   ]
  },
  {
   "cell_type": "code",
   "execution_count": 22,
   "metadata": {},
   "outputs": [
    {
     "name": "stdout",
     "output_type": "stream",
     "text": [
      "Guess 1: bites, Reply: 1, Consistent targets: 3\n",
      "Guess 2: purge, Reply: 1, Consistent targets: 2\n",
      "Guess 3: sulky, Reply: 1, Consistent targets: 1\n",
      "Guess 4: hayed, Reply: 5, Consistent targets: 1\n"
     ]
    },
    {
     "data": {
      "text/plain": [
       "4"
      ]
     },
     "execution_count": 22,
     "metadata": {},
     "output_type": "execute_result"
    }
   ],
   "source": [
    "play_jotto(TreeGuesser(tree5), wordlist=words5, verbose=True)"
   ]
  },
  {
   "cell_type": "markdown",
   "metadata": {},
   "source": [
    "And here we build a tree over the whole word list and use it to play a game:"
   ]
  },
  {
   "cell_type": "code",
   "execution_count": 23,
   "metadata": {},
   "outputs": [
    {
     "name": "stdout",
     "output_type": "stream",
     "text": [
      "Guess 1: wader, Reply: 3, Consistent targets: 319\n",
      "Guess 2: sword, Reply: 1, Consistent targets: 131\n",
      "Guess 3: paled, Reply: 3, Consistent targets: 56\n",
      "Guess 4: cadet, Reply: 4, Consistent targets: 15\n",
      "Guess 5: hated, Reply: 5, Consistent targets: 1\n"
     ]
    },
    {
     "data": {
      "text/plain": [
       "5"
      ]
     },
     "execution_count": 23,
     "metadata": {},
     "output_type": "execute_result"
    }
   ],
   "source": [
    "tree    = make_tree(max)\n",
    "guesser = TreeGuesser(tree)\n",
    "\n",
    "play_jotto(guesser, verbose=True)"
   ]
  },
  {
   "cell_type": "markdown",
   "metadata": {},
   "source": [
    "# Making Inconsistent Guesses\n",
    "\n",
    "So far,  we have always guessed one of the consistent targets. That seems reasonable; why waste a guess on a word that could not possibly be the target? But it turns out that in some cases it *is* a good strategy to guess such a word.\n",
    "\n",
    "I will redefine `make_tree` so that it is passed both the list of consistent target words and the complete word list. It also has a flag, `inconsistent`. When this flag is true, any word in the wordlist can be considered as a guess; when false, only consistent targets are considered, as before. "
   ]
  },
  {
   "cell_type": "code",
   "execution_count": 24,
   "metadata": {},
   "outputs": [],
   "source": [
    "def make_tree(metric, targets=wordlist, wordlist=wordlist, inconsistent=False) -> Tree:\n",
    "    \"\"\"Make a tree that guesses to minimize metric(partition_counts(guess, targets)).\"\"\"\n",
    "    if len(targets) == 1:\n",
    "        return targets[0]\n",
    "    else:\n",
    "        words = wordlist if (inconsistent and len(targets) > 3) else targets\n",
    "        guess = min(words, key=lambda guess: metric(partition_counts(guess, targets))) \n",
    "        branches = partition(guess, targets)\n",
    "        return (guess, {reply: make_tree(metric, branches[reply], wordlist, inconsistent) \n",
    "                        for reply in sorted(branches)})"
   ]
  },
  {
   "cell_type": "markdown",
   "metadata": {},
   "source": [
    "Here we see that by default, `make_tree` behaves just as it did before:"
   ]
  },
  {
   "cell_type": "code",
   "execution_count": 25,
   "metadata": {},
   "outputs": [
    {
     "data": {
      "text/plain": [
       "('bites',\n",
       " {1: ('purge', {1: ('sulky', {1: 'hayed', 5: 'sulky'}), 5: 'purge'}),\n",
       "  2: 'patsy',\n",
       "  5: 'bites'})"
      ]
     },
     "execution_count": 25,
     "metadata": {},
     "output_type": "execute_result"
    }
   ],
   "source": [
    "make_tree(max, words5)"
   ]
  },
  {
   "cell_type": "markdown",
   "metadata": {},
   "source": [
    "But when allowed `make_tree` to guess an inconsistent word, it comes up with a different tree:"
   ]
  },
  {
   "cell_type": "code",
   "execution_count": 26,
   "metadata": {},
   "outputs": [
    {
     "data": {
      "text/plain": [
       "('dashy', {0: 'purge', 1: 'bites', 2: 'sulky', 3: 'patsy', 4: 'hayed'})"
      ]
     },
     "execution_count": 26,
     "metadata": {},
     "output_type": "execute_result"
    }
   ],
   "source": [
    "tree5b = make_tree(max, words5, inconsistent=True)\n",
    "tree5b"
   ]
  },
  {
   "cell_type": "markdown",
   "metadata": {},
   "source": [
    "This tree guesses an inconsistent word, `dashy`, with the first guess. There is no chance that this is the target, but it sets us up so that we will always be able to get the target on the second guess. That means that both the average and the worst case number of guesses is 2 for `tree5b`:"
   ]
  },
  {
   "cell_type": "code",
   "execution_count": 27,
   "metadata": {},
   "outputs": [
    {
     "data": {
      "text/plain": [
       "[2, 2, 2, 2, 2]"
      ]
     },
     "execution_count": 27,
     "metadata": {},
     "output_type": "execute_result"
    }
   ],
   "source": [
    "play_jottos(TreeGuesser(tree5b), words5)"
   ]
  },
  {
   "cell_type": "code",
   "execution_count": 28,
   "metadata": {},
   "outputs": [
    {
     "data": {
      "text/plain": [
       "(2, 2)"
      ]
     },
     "execution_count": 28,
     "metadata": {},
     "output_type": "execute_result"
    }
   ],
   "source": [
    "mean(_), max(_)"
   ]
  },
  {
   "cell_type": "markdown",
   "metadata": {},
   "source": [
    "In contrast, `tree5`  has an average score of 2.4, and can take up to four guesses in the worst case:"
   ]
  },
  {
   "cell_type": "code",
   "execution_count": 29,
   "metadata": {},
   "outputs": [
    {
     "data": {
      "text/plain": [
       "[2, 1, 3, 2, 4]"
      ]
     },
     "execution_count": 29,
     "metadata": {},
     "output_type": "execute_result"
    }
   ],
   "source": [
    "play_jottos(TreeGuesser(tree5), words5)"
   ]
  },
  {
   "cell_type": "code",
   "execution_count": 30,
   "metadata": {},
   "outputs": [
    {
     "data": {
      "text/plain": [
       "(2.4, 4)"
      ]
     },
     "execution_count": 30,
     "metadata": {},
     "output_type": "execute_result"
    }
   ],
   "source": [
    "mean(_), max(_)"
   ]
  },
  {
   "cell_type": "markdown",
   "metadata": {},
   "source": [
    "So the tree with an inconsistent guess is better both in the average  and in the worst case.\n",
    "\n",
    "# Comparing Metrics\n",
    "\n",
    "Now we will compare six guessers derived from `make_tree`:\n",
    "- Minimizing either `max`, `expectation`, or `negative_entropy`.\n",
    "- For each of the above, guessing either consistent targets only or allowing inconsistent targets.\n",
    "\n",
    "The function `show_metric` makes the appropriate `TreeGuesser` and calls `play_jottos` and `show` to display results:"
   ]
  },
  {
   "cell_type": "code",
   "execution_count": 31,
   "metadata": {},
   "outputs": [],
   "source": [
    "def show_metric(metric, inconsistent):\n",
    "    \"\"\"Show statistics and histogram for a guesser that minimizes `metric` over partition counts.\"\"\"\n",
    "    tree = make_tree(metric, inconsistent=inconsistent)\n",
    "    guesser = TreeGuesser(tree)\n",
    "    show(play_jottos(guesser))"
   ]
  },
  {
   "cell_type": "markdown",
   "metadata": {},
   "source": [
    "# Comparing Metrics with Consistent Guesses Only"
   ]
  },
  {
   "cell_type": "code",
   "execution_count": 32,
   "metadata": {},
   "outputs": [
    {
     "name": "stdout",
     "output_type": "stream",
     "text": [
      "mean = 7.15 ± 1.81 guesses; worst = 18\n",
      "CPU times: user 12.6 s, sys: 29.5 ms, total: 12.6 s\n",
      "Wall time: 12.6 s\n"
     ]
    },
    {
     "data": {
      "image/png": "[encoded data removed]",
      "text/plain": [
       "<Figure size 432x288 with 1 Axes>"
      ]
     },
     "metadata": {
      "needs_background": "light"
     },
     "output_type": "display_data"
    }
   ],
   "source": [
    "%time show_metric(max, False)"
   ]
  },
  {
   "cell_type": "code",
   "execution_count": 33,
   "metadata": {},
   "outputs": [
    {
     "name": "stdout",
     "output_type": "stream",
     "text": [
      "mean = 7.14 ± 1.82 guesses; worst = 17\n",
      "CPU times: user 13 s, sys: 59.7 ms, total: 13.1 s\n",
      "Wall time: 13.2 s\n"
     ]
    },
    {
     "data": {
      "image/png": "[encoded data removed]",
      "text/plain": [
       "<Figure size 432x288 with 1 Axes>"
      ]
     },
     "metadata": {
      "needs_background": "light"
     },
     "output_type": "display_data"
    }
   ],
   "source": [
    "%time show_metric(expectation, False)"
   ]
  },
  {
   "cell_type": "code",
   "execution_count": 34,
   "metadata": {},
   "outputs": [
    {
     "name": "stdout",
     "output_type": "stream",
     "text": [
      "mean = 7.09 ± 1.79 guesses; worst = 19\n",
      "CPU times: user 13.6 s, sys: 87.6 ms, total: 13.6 s\n",
      "Wall time: 14.6 s\n"
     ]
    },
    {
     "data": {
      "image/png": "[encoded data removed]",
      "text/plain": [
       "<Figure size 432x288 with 1 Axes>"
      ]
     },
     "metadata": {
      "needs_background": "light"
     },
     "output_type": "display_data"
    }
   ],
   "source": [
    "%time show_metric(negative_entropy, False)"
   ]
  },
  {
   "cell_type": "markdown",
   "metadata": {},
   "source": [
    "# Comparing Metrics with Inconsistent Guesses Allowed"
   ]
  },
  {
   "cell_type": "code",
   "execution_count": 35,
   "metadata": {},
   "outputs": [
    {
     "name": "stdout",
     "output_type": "stream",
     "text": [
      "mean = 7.05 ± 0.98 guesses; worst = 10\n",
      "CPU times: user 38.2 s, sys: 134 ms, total: 38.4 s\n",
      "Wall time: 38.5 s\n"
     ]
    },
    {
     "data": {
      "image/png": "[encoded data removed]",
      "text/plain": [
       "<Figure size 432x288 with 1 Axes>"
      ]
     },
     "metadata": {
      "needs_background": "light"
     },
     "output_type": "display_data"
    }
   ],
   "source": [
    "%time show_metric(max, True)"
   ]
  },
  {
   "cell_type": "code",
   "execution_count": 36,
   "metadata": {},
   "outputs": [
    {
     "name": "stdout",
     "output_type": "stream",
     "text": [
      "mean = 6.84 ± 0.95 guesses; worst = 10\n",
      "CPU times: user 39.9 s, sys: 183 ms, total: 40.1 s\n",
      "Wall time: 40.5 s\n"
     ]
    },
    {
     "data": {
      "image/png": "[encoded data removed]",
      "text/plain": [
       "<Figure size 432x288 with 1 Axes>"
      ]
     },
     "metadata": {
      "needs_background": "light"
     },
     "output_type": "display_data"
    }
   ],
   "source": [
    "%time show_metric(expectation, True)"
   ]
  },
  {
   "cell_type": "code",
   "execution_count": 37,
   "metadata": {},
   "outputs": [
    {
     "name": "stdout",
     "output_type": "stream",
     "text": [
      "mean = 6.81 ± 1.00 guesses; worst = 10\n",
      "CPU times: user 41.2 s, sys: 242 ms, total: 41.5 s\n",
      "Wall time: 42.1 s\n"
     ]
    },
    {
     "data": {
      "image/png": "[encoded data removed]",
      "text/plain": [
       "<Figure size 432x288 with 1 Axes>"
      ]
     },
     "metadata": {
      "needs_background": "light"
     },
     "output_type": "display_data"
    }
   ],
   "source": [
    "%time show_metric(negative_entropy, True)"
   ]
  },
  {
   "cell_type": "markdown",
   "metadata": {},
   "source": [
    "# Jotto Summary\n",
    "\n",
    "Here's a table of results:\n",
    "\n",
    "|<br>Algorithm|Consistent<br>Mean (Max)|Inconsistent<br>Mean (Max)|\n",
    "|--|--|--|\n",
    "|baseline random guesser|7.38 (18)|  |\n",
    "|min(max(partition_counts))|7.15 (18)|7.05 (10)|\n",
    "|min(expectation(partition_counts))|7.14 (17)|6.84 (10)|\n",
    "|max(entropy(partition_counts))|7.09 (19)|6.81 (10)|\n",
    "\n",
    "So we started out with a mean of 7.38 and a worst score of 18 with the random guesser, and were able to improve by half a guess to a mean of 6.81 and a worst score of 10 using  maximization of entropy over partition counts, with inconsistent guesses allowed."
   ]
  },
  {
   "cell_type": "markdown",
   "metadata": {},
   "source": [
    "# Next Steps\n",
    "\n",
    "There are many directions you could take this if you are interested:\n",
    "- Try different length words.\n",
    "- Allow words with repeated letters, like `stars`.\n",
    "- Have each reply consist of two numbers: the number of letters in common with the target, and the number of letters that are in the exact correct position.\n",
    "- Apply the same techniques to related games, like Mastermind.\n",
    "- Examine the strategy that a chooser would use, and how the guesser responds to that. Is there an equilibrium?\n",
    "- Our `make_tree` function is **greedy** in that it guesses the word that minimizes some metric of the current situation without looking ahead to future branches in the tree. Can you get better performance by doing some **look-ahead**? Perhaps with a beam search?\n",
    "- Can you improve a tree by editing it? Given a tree, look for interior nodes that have a worse-than-expected average score, and see if the node can be replaced with something better (covering the same target words).\n",
    "- Research what other computer scientists have done with [Jotto](https://arxiv.org/abs/1107.3342) or [Mastermind](http://serkangur.freeservers.com/).\n",
    "- What else can you explore?"
   ]
  }
 ],
 "metadata": {
  "kernelspec": {
   "display_name": "Python 3",
   "language": "python",
   "name": "python3"
  },
  "language_info": {
   "codemirror_mode": {
    "name": "ipython",
    "version": 3
   },
   "file_extension": ".py",
   "mimetype": "text/x-python",
   "name": "python",
   "nbconvert_exporter": "python",
   "pygments_lexer": "ipython3",
   "version": "3.7.6"
  }
 },
 "nbformat": 4,
 "nbformat_minor": 4
}
