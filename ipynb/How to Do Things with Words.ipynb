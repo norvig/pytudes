{
 "cells": [
  {
   "cell_type": "markdown",
   "metadata": {},
   "source": [
    "\n",
    "<div align=\"right\" style=\"text-align: right\"><i>Peter Norvig<br>2014<br>Python 3, 2020</i></div>\n",
    "\n",
    "<center>\n",
    "<h1>How To Do Things With Words  (And Counters)\n",
    "<br><font color=blue>or</font>\n",
    "<br>Statistical Natural Language Processing in Python\n",
    "<br><font color=blue>or</font>\n",
    "    <br>Everything I Needed to Know I learned From Sesame Street</h1>\n",
    "<br>\n",
    "<br><img src='http://norvig.com/ipython/the-count.jpg'> \n",
    "<br><i>One, two, three, ah, ah, ah! &mdash; The Count</i>\n",
    "</center>\n",
    "<hr>\n",
    "    \n",
    "This notebook will look at data, models, and tasks involving stastical natural language processing.\n",
    "    \n",
    "First some boring preliminaries:"
   ]
  },
  {
   "cell_type": "code",
   "execution_count": 1,
   "metadata": {},
   "outputs": [],
   "source": [
    "import re\n",
    "import math\n",
    "import random\n",
    "import matplotlib.pyplot as plt\n",
    "from collections import Counter\n",
    "from itertools   import permutations\n",
    "from functools   import lru_cache\n",
    "from typing      import List, Tuple, Set, Dict, Callable\n",
    "\n",
    "Word = str    # We implement words as strings\n",
    "cat = ''.join # Function to concatenate strings together"
   ]
  },
  {
   "cell_type": "markdown",
   "metadata": {},
   "source": [
    "# Data: Text and Words\n",
    "\n",
    "Before we can do things with words, we need some words.  I happen to have a big text called [big.txt](big.txt).  We can read it, and see how big it is (in characters):"
   ]
  },
  {
   "cell_type": "code",
   "execution_count": 2,
   "metadata": {},
   "outputs": [
    {
     "data": {
      "text/plain": [
       "6488409"
      ]
     },
     "execution_count": 2,
     "metadata": {},
     "output_type": "execute_result"
    }
   ],
   "source": [
    "TEXT = open('big.txt').read()\n",
    "len(TEXT)"
   ]
  },
  {
   "cell_type": "markdown",
   "metadata": {},
   "source": [
    "Over six million characters.\n",
    "\n",
    "Now break the characters into words (or more formal-sounding: *tokens*).  We'll ignore capitalization and punctuation and anything but the 26 letters (other tokenizers *do* deal with such things). The function `tokens` turns text into a list of words, and `sentence` puts tokens back together into a string:"
   ]
  },
  {
   "cell_type": "code",
   "execution_count": 3,
   "metadata": {},
   "outputs": [],
   "source": [
    "def tokens(text) -> List[Word]:\n",
    "    \"\"\"List all the word tokens (consecutive letters) in a text. Normalize to lowercase.\"\"\"\n",
    "    return re.findall('[a-z]+', text.lower()) \n",
    "\n",
    "sentence = ' '.join # Function to join words with spaces"
   ]
  },
  {
   "cell_type": "code",
   "execution_count": 4,
   "metadata": {},
   "outputs": [
    {
     "data": {
      "text/plain": [
       "['this', 'is', 'a', 'test']"
      ]
     },
     "execution_count": 4,
     "metadata": {},
     "output_type": "execute_result"
    }
   ],
   "source": [
    "tokens('This is: \"A test\". 😋')"
   ]
  },
  {
   "cell_type": "code",
   "execution_count": 5,
   "metadata": {},
   "outputs": [
    {
     "data": {
      "text/plain": [
       "'this is a test'"
      ]
     },
     "execution_count": 5,
     "metadata": {},
     "output_type": "execute_result"
    }
   ],
   "source": [
    "sentence(tokens('This is: \"A test\". 😋'))"
   ]
  },
  {
   "cell_type": "markdown",
   "metadata": {},
   "source": [
    "How many words are in the text?"
   ]
  },
  {
   "cell_type": "code",
   "execution_count": 6,
   "metadata": {},
   "outputs": [
    {
     "data": {
      "text/plain": [
       "1105211"
      ]
     },
     "execution_count": 6,
     "metadata": {},
     "output_type": "execute_result"
    }
   ],
   "source": [
    "WORDS = tokens(TEXT)\n",
    "len(WORDS)"
   ]
  },
  {
   "cell_type": "markdown",
   "metadata": {},
   "source": [
    "Over a million words.  Here are the first 10:"
   ]
  },
  {
   "cell_type": "code",
   "execution_count": 7,
   "metadata": {},
   "outputs": [
    {
     "data": {
      "text/plain": [
       "'the project gutenberg ebook of the adventures of sherlock holmes'"
      ]
     },
     "execution_count": 7,
     "metadata": {},
     "output_type": "execute_result"
    }
   ],
   "source": [
    "sentence(WORDS[:10])"
   ]
  },
  {
   "cell_type": "markdown",
   "metadata": {},
   "source": [
    "# Model: The Bag of Words Model\n",
    "\n",
    "`WORDS` is a list of the words in `TEXT`, and with a little work it can also serve as a *generative model* of text. We know that language is very complicated, but we can create a simplified model of language that captures part of the complexity.  \n",
    "\n",
    "In the so-called [**bag of words** model](https://en.wikipedia.org/wiki/Bag-of-words_model), we ignore the order of words, but maintain their frequency.  Think of it this way: take all the words from the text, and throw them into a bag.  Shake the bag, and then generate a sentence by pulling words out of the bag one at a time.  Chances are the \"sentence\" won't be grammatical or sensible, but it will have words in roughly the right proportions.  Here we generate a \"sentence\" with this approach:"
   ]
  },
  {
   "cell_type": "code",
   "execution_count": 8,
   "metadata": {},
   "outputs": [],
   "source": [
    "def sample(words, n=10) -> str:\n",
    "    \"\"\"Sample n random words from a list of words.\"\"\"\n",
    "    return [random.choice(words) for _ in range(n)]"
   ]
  },
  {
   "cell_type": "code",
   "execution_count": 9,
   "metadata": {},
   "outputs": [
    {
     "data": {
      "text/plain": [
       "'sore the toes debt my after interference struggle the moment'"
      ]
     },
     "execution_count": 9,
     "metadata": {},
     "output_type": "execute_result"
    }
   ],
   "source": [
    "sentence(sample(WORDS))"
   ]
  },
  {
   "cell_type": "markdown",
   "metadata": {},
   "source": [
    "`WORDS` is a million elements list, and has a lot of repetition. For example:"
   ]
  },
  {
   "cell_type": "code",
   "execution_count": 10,
   "metadata": {},
   "outputs": [
    {
     "data": {
      "text/plain": [
       "80029"
      ]
     },
     "execution_count": 10,
     "metadata": {},
     "output_type": "execute_result"
    }
   ],
   "source": [
    "WORDS.count('the')"
   ]
  },
  {
   "cell_type": "markdown",
   "metadata": {},
   "source": [
    "A more compact representation for a bag of words is a `collections.Counter`: a dictionary of `{'word': count}` entries (with some handy extra [methods](https://docs.python.org/3/library/collections.html#collections.Counter)).  We could use `Counter` directly, but I will define `Bag` as a subclass of Counter (note that [bag](https://en.wikipedia.org/wiki/Multiset) is considered a synonym of [multiset](https://en.wikipedia.org/wiki/Multiset)):"
   ]
  },
  {
   "cell_type": "code",
   "execution_count": 11,
   "metadata": {},
   "outputs": [],
   "source": [
    "class Bag(Counter): \"\"\"A bag of words.\"\"\""
   ]
  },
  {
   "cell_type": "code",
   "execution_count": 12,
   "metadata": {},
   "outputs": [
    {
     "data": {
      "text/plain": [
       "Bag({'is': 3, 'this': 1, 'a': 3, 'test': 3, 'it': 2})"
      ]
     },
     "execution_count": 12,
     "metadata": {},
     "output_type": "execute_result"
    }
   ],
   "source": [
    "Bag(tokens('Is this a test? It is a test! A test it is!'))"
   ]
  },
  {
   "cell_type": "markdown",
   "metadata": {},
   "source": [
    "Let's make a `Bag` of `WORDS` and get a feel for what's there:"
   ]
  },
  {
   "cell_type": "code",
   "execution_count": 13,
   "metadata": {},
   "outputs": [
    {
     "data": {
      "text/plain": [
       "29152"
      ]
     },
     "execution_count": 13,
     "metadata": {},
     "output_type": "execute_result"
    }
   ],
   "source": [
    "BAG = Bag(WORDS)\n",
    "\n",
    "len(BAG) # Number of different words"
   ]
  },
  {
   "cell_type": "code",
   "execution_count": 14,
   "metadata": {},
   "outputs": [
    {
     "data": {
      "text/plain": [
       "[('the', 80029),\n",
       " ('of', 40025),\n",
       " ('and', 38312),\n",
       " ('to', 28766),\n",
       " ('in', 22047),\n",
       " ('a', 21155),\n",
       " ('that', 12512),\n",
       " ('he', 12401),\n",
       " ('was', 11410),\n",
       " ('it', 10681),\n",
       " ('his', 10034),\n",
       " ('is', 9774),\n",
       " ('with', 9740),\n",
       " ('as', 8064),\n",
       " ('i', 7682),\n",
       " ('had', 7383),\n",
       " ('for', 6938),\n",
       " ('at', 6791),\n",
       " ('by', 6738),\n",
       " ('on', 6643)]"
      ]
     },
     "execution_count": 14,
     "metadata": {},
     "output_type": "execute_result"
    }
   ],
   "source": [
    "BAG.most_common(20) # Most common words"
   ]
  },
  {
   "cell_type": "markdown",
   "metadata": {},
   "source": [
    "# Model: Zipf's Law\n",
    "\n",
    "In 1935, linguist George Zipf observed that in any big text, the *n*th most frequent word appears with a frequency of roughly 1/*n* of the most frequent word. He get's credit for [*Zipf's Law*](https://en.wikipedia.org/wiki/Zipf%27s_law), even though [Felix Auerbach](https://en.wikipedia.org/wiki/Felix_Auerbach) made a similar observation in 1913.  If we plot the frequency of words, most common first, on a log-log plot, they should come out as a straight line if Zipf's Law holds.  Here we see that it is a fairly close fit:"
   ]
  },
  {
   "cell_type": "code",
   "execution_count": 15,
   "metadata": {},
   "outputs": [
    {
     "data": {
      "image/png": "[encoded data removed]",
      "text/plain": [
       "<Figure size 432x288 with 1 Axes>"
      ]
     },
     "metadata": {
      "needs_background": "light"
     },
     "output_type": "display_data"
    }
   ],
   "source": [
    "def zipf_plot(bag):\n",
    "    M = max(bag.values()) # Count for most common word\n",
    "    X = range(1, len(bag) + 1)\n",
    "    plt.yscale('log'); plt.xscale('log'); \n",
    "    plt.title('Frequency of n-th most frequent word and 1/n line.')\n",
    "    plt.xlabel('Word Index Number'); plt.ylabel('Word Frequency')\n",
    "    plt.plot(X, [M/i for i in X], ':', label='1/n')\n",
    "    plt.plot(X, [c for (w, c) in bag.most_common()], '.', label='actual word frequency')\n",
    "    plt.grid(); plt.legend(loc=1)\n",
    "    \n",
    "zipf_plot(BAG)"
   ]
  },
  {
   "cell_type": "markdown",
   "metadata": {},
   "source": [
    "# Task: Spelling Correction\n",
    "\n",
    "Given a word *w*, find the most likely correction *c* = `correct(`*w*`)`.\n",
    "\n",
    "**Approach:** Try all candidate words *c* that are known words that are near *w*.  Choose the most likely one.\n",
    "\n",
    "How to balance *near* and *likely*?\n",
    "\n",
    "For now, in a trivial way: always prefer nearer, but when there is a tie on nearness, use the word with the highest `WORDS` count.  Measure nearness by *edit distance*: the minimum number of deletions, transpositions, insertions, or replacements of characters. By trial and error, we determine that going out to edit distance 2 will give us reasonable results.  Then we can define `correct(`*w*`)`:\n",
    "        \n",
    "        \n"
   ]
  },
  {
   "cell_type": "code",
   "execution_count": 16,
   "metadata": {},
   "outputs": [],
   "source": [
    "def correct(word) -> Word:\n",
    "    \"\"\"Find the best spelling correction for this word.\"\"\"\n",
    "    # Prefer edit distance 0, then 1, then 2; otherwise default to word itself.\n",
    "    candidates = (known({word}) or \n",
    "                  known(edits1(word)) or \n",
    "                  known(edits2(word)) or \n",
    "                  {word})\n",
    "    return max(candidates, key=BAG.get)"
   ]
  },
  {
   "cell_type": "markdown",
   "metadata": {},
   "source": [
    "The functions `known` and `edits0` are easy; and `edits2` is easy if we assume we have `edits1`:"
   ]
  },
  {
   "cell_type": "code",
   "execution_count": 17,
   "metadata": {},
   "outputs": [],
   "source": [
    "def known(words) -> Set[Word]:\n",
    "    \"\"\"Return the subset of `words` that are in the known `BAG` of words.\"\"\"\n",
    "    return words.intersection(BAG)\n",
    "\n",
    "def edits2(word) -> Set[str]:\n",
    "    \"\"\"Return all strings that are two edits away from this word.\"\"\"\n",
    "    return {e2 for e1 in edits1(word) for e2 in edits1(e1)}"
   ]
  },
  {
   "cell_type": "markdown",
   "metadata": {},
   "source": [
    "Now for `edits1(word)`: the set of candidate words that are one edit away. For example, given `\"wird\"`, this would include `\"weird\"` (inserting an `e`) and `\"word\"` (replacing a `i` with a `o`), and also `\"iwrd\"` (transposing `w` and `i`; then `known` can be used to filter this out of the set of final candidates). How could we get them?  One way is to *split* the original word in all possible places, each split forming a *pair* of words, `(a, b)`, before and after the place, and at each place, either delete, transpose, replace, or insert a letter:\n",
    "\n",
    "<table>\n",
    "  <tr><td> pairs: <td><tt> Ø, wird <td><tt> w, ird <td><tt> wi, rd <td><tt>wir, d<td><tt>wird, Ø<td><i>Notes:</i><tt> (<i>a</i>, <i>b</i>)</tt> pair</i>\n",
    "  <tr><td> deletions: <td><tt>Ø+ird<td><tt> w+rd<td><tt> wi+d<td><tt> wir+Ø<td><td><i>Delete first char of b</i>\n",
    "  <tr><td> transpositions: <td><tt>Ø+iwrd<td><tt> w+rid<td><tt> wi+dr</tt><td><td><td><i>Swap first two chars of b\n",
    "  <tr><td> replacements: <td><tt>Ø+?ird<td><tt> w+?rd<td><tt> wi+?d<td><tt> wir+?</tt><td><td><i>Replace char at start of b\n",
    "  <tr><td> insertions: <td><tt>Ø+?+wird<td><tt> w+?+ird<td><tt> wi+?+rd<td><tt> wir+?+d<td><tt> wird+?+Ø</tt><td><i>Insert char between a and b\n",
    "</table>"
   ]
  },
  {
   "cell_type": "code",
   "execution_count": 18,
   "metadata": {},
   "outputs": [],
   "source": [
    "def edits1(word) -> Set[str]:\n",
    "    \"\"\"Return all strings that are one edit away from this word.\"\"\"\n",
    "    edits = set()\n",
    "    for a, b in splits(word):\n",
    "        if b: edits.add(a+b[1:])                     # deletion\n",
    "        if len(b) >= 2: edits.add(a+b[1]+b[0]+b[2:]) # transposition\n",
    "        for c in alphabet:\n",
    "            edits.add(a+c+b[1:])                     # replacement\n",
    "            edits.add(a+c+b)                         # insertion\n",
    "    return edits      \n",
    "    return set(deletes + transposes + replaces + inserts)\n",
    "\n",
    "def splits(word) -> List[Tuple[str, str]]:\n",
    "    \"\"\"Return a list of all possible (first, rest) pairs that comprise word.\"\"\"\n",
    "    return [(word[:i], word[i:]) \n",
    "            for i in range(len(word)+1)]\n",
    "\n",
    "alphabet = 'abcdefghijklmnopqrstuvwxyz'"
   ]
  },
  {
   "cell_type": "code",
   "execution_count": 19,
   "metadata": {},
   "outputs": [
    {
     "data": {
      "text/plain": [
       "[('', 'wird'), ('w', 'ird'), ('wi', 'rd'), ('wir', 'd'), ('wird', '')]"
      ]
     },
     "execution_count": 19,
     "metadata": {},
     "output_type": "execute_result"
    }
   ],
   "source": [
    "splits('wird')"
   ]
  },
  {
   "cell_type": "code",
   "execution_count": 20,
   "metadata": {},
   "outputs": [
    {
     "data": {
      "text/plain": [
       "'aird awird bird bwird cird cwird dird dwird eird ewird fird fwird gird gwird hird hwird iird ird iwird iwrd jird jwird kird kwird lird lwird mird mwird nird nwird oird owird pird pwird qird qwird rird rwird sird swird tird twird uird uwird vird vwird waird ward wbird wbrd wcird wcrd wdird wdrd weird werd wfird wfrd wgird wgrd whird whrd wiad wiard wibd wibrd wicd wicrd wid widd widr widrd wied wierd wifd wifrd wigd wigrd wihd wihrd wiid wiird wijd wijrd wikd wikrd wild wilrd wimd wimrd wind winrd wiod wiord wipd wiprd wiqd wiqrd wir wira wirad wirb wirbd wirc wircd wird wirda wirdb wirdc wirdd wirde wirdf wirdg wirdh wirdi wirdj wirdk wirdl wirdm wirdn wirdo wirdp wirdq wirdr wirds wirdt wirdu wirdv wirdw wirdx wirdy wirdz wire wired wirf wirfd wirg wirgd wirh wirhd wiri wirid wirj wirjd wirk wirkd wirl wirld wirm wirmd wirn wirnd wiro wirod wirp wirpd wirq wirqd wirr wirrd wirs wirsd wirt wirtd wiru wirud wirv wirvd wirw wirwd wirx wirxd wiry wiryd wirz wirzd wisd wisrd witd witrd wiud wiurd wivd wivrd wiwd wiwrd wixd wixrd wiyd wiyrd wizd wizrd wjird wjrd wkird wkrd wlird wlrd wmird wmrd wnird wnrd woird word wpird wprd wqird wqrd wrd wrid wrird wrrd wsird wsrd wtird wtrd wuird wurd wvird wvrd wwird wwrd wxird wxrd wyird wyrd wzird wzrd xird xwird yird ywird zird zwird'"
      ]
     },
     "execution_count": 20,
     "metadata": {},
     "output_type": "execute_result"
    }
   ],
   "source": [
    "' '.join(sorted(edits1('wird')))"
   ]
  },
  {
   "cell_type": "code",
   "execution_count": 21,
   "metadata": {},
   "outputs": [
    {
     "data": {
      "text/plain": [
       "{'bird',\n",
       " 'gird',\n",
       " 'sird',\n",
       " 'ward',\n",
       " 'weird',\n",
       " 'wid',\n",
       " 'wild',\n",
       " 'wind',\n",
       " 'wire',\n",
       " 'wired',\n",
       " 'wirt',\n",
       " 'wiry',\n",
       " 'word'}"
      ]
     },
     "execution_count": 21,
     "metadata": {},
     "output_type": "execute_result"
    }
   ],
   "source": [
    "known(edits1('wird'))"
   ]
  },
  {
   "cell_type": "code",
   "execution_count": 22,
   "metadata": {},
   "outputs": [
    {
     "data": {
      "text/plain": [
       "24254"
      ]
     },
     "execution_count": 22,
     "metadata": {},
     "output_type": "execute_result"
    }
   ],
   "source": [
    "len(edits2('wird'))"
   ]
  },
  {
   "cell_type": "code",
   "execution_count": 23,
   "metadata": {},
   "outputs": [
    {
     "data": {
      "text/plain": [
       "{'speling': 'spelling',\n",
       " 'errurs': 'errors',\n",
       " 'in': 'in',\n",
       " 'somethink': 'something',\n",
       " 'whutever': 'whatever',\n",
       " 'unusuel': 'unusual',\n",
       " 'misteakes': 'mistakes',\n",
       " 'everyware': 'everywhere'}"
      ]
     },
     "execution_count": 23,
     "metadata": {},
     "output_type": "execute_result"
    }
   ],
   "source": [
    "s = 'Speling ERRURS in \"somethink.\" Whutever; unusuel misteakes everyware?'\n",
    "\n",
    "{w: correct(w) for w in tokens(s)}"
   ]
  },
  {
   "cell_type": "markdown",
   "metadata": {},
   "source": [
    "Can we make the output prettier than that? Can we preserve the punctuation and capitalization in a text?"
   ]
  },
  {
   "cell_type": "code",
   "execution_count": 24,
   "metadata": {},
   "outputs": [],
   "source": [
    "def correct_text(text) -> str:\n",
    "    \"Correct all the words within a text, leaving the rest untouched.\"\n",
    "    return re.sub('[a-zA-Z]+', correct_match, text)\n",
    "\n",
    "def correct_match(match: re.Match) -> Word:\n",
    "    \"Spell-correct word in match, and preserve proper upper/lower/title case.\"\n",
    "    word = match.group()\n",
    "    return case_of(word)(correct(word.lower()))\n",
    "\n",
    "def case_of(word) -> Callable:\n",
    "    \"\"\"Guess what function would give the capitalization of `word`.\"\"\"\n",
    "    return next(c for c in (str.upper, str.lower, str.capitalize, str)\n",
    "                if c(word) == word)"
   ]
  },
  {
   "cell_type": "code",
   "execution_count": 25,
   "metadata": {},
   "outputs": [
    {
     "data": {
      "text/plain": [
       "'Spelling ERRORS in \"something.\" Whatever; unusual mistakes everywhere?'"
      ]
     },
     "execution_count": 25,
     "metadata": {},
     "output_type": "execute_result"
    }
   ],
   "source": [
    "correct_text(s)"
   ]
  },
  {
   "cell_type": "code",
   "execution_count": 26,
   "metadata": {},
   "outputs": [
    {
     "data": {
      "text/plain": [
       "'Audience says: TUMBLER ...'"
      ]
     },
     "execution_count": 26,
     "metadata": {},
     "output_type": "execute_result"
    }
   ],
   "source": [
    "correct_text('Audiance sayzs: TUMBLR ...')"
   ]
  },
  {
   "cell_type": "markdown",
   "metadata": {},
   "source": [
    "So far so good.  You can probably think of ways to make this better; we'll consider some later."
   ]
  },
  {
   "cell_type": "markdown",
   "metadata": {},
   "source": [
    "# Model: Probabilities with the Bag of Words Model\n",
    "\n",
    "In the bag of words model, what's the probability of picking a particular word out of the bag? What's the probability of a sequence of words?\n",
    "\n",
    "We'll denote that probability of a single word as  `Pword(word)` in Python; the probability of a sequence of words will be  `Pwords(words)`. I'll redefine `Bag` to make bags be both a Counter and a `ProbabilityFunction`: a callable object, `P`, that will give you the probability of some outcome when invoked with `P(outcome)`."
   ]
  },
  {
   "cell_type": "code",
   "execution_count": 27,
   "metadata": {},
   "outputs": [],
   "source": [
    "class ProbabilityFunction:\n",
    "    def __call__(self, outcome):\n",
    "        \"\"\"The probability of `outcome`.\"\"\"\n",
    "        if not hasattr(self, 'total'):\n",
    "            self.total = sum(self.values())\n",
    "        return self[outcome] / self.total\n",
    "    \n",
    "class Bag(Counter, ProbabilityFunction): \"\"\"A bag of words.\"\"\""
   ]
  },
  {
   "cell_type": "markdown",
   "metadata": {},
   "source": [
    "Now the following assignment allows us to get the probability of a word with `Pword(word)`:"
   ]
  },
  {
   "cell_type": "code",
   "execution_count": 28,
   "metadata": {},
   "outputs": [],
   "source": [
    "Pword = Bag(WORDS)"
   ]
  },
  {
   "cell_type": "code",
   "execution_count": 29,
   "metadata": {},
   "outputs": [
    {
     "data": {
      "text/plain": [
       "0.07241060756724281"
      ]
     },
     "execution_count": 29,
     "metadata": {},
     "output_type": "execute_result"
    }
   ],
   "source": [
    "Pword('the')"
   ]
  },
  {
   "cell_type": "code",
   "execution_count": 30,
   "metadata": {},
   "outputs": [
    {
     "data": {
      "text/plain": [
       "80029"
      ]
     },
     "execution_count": 30,
     "metadata": {},
     "output_type": "execute_result"
    }
   ],
   "source": [
    "Pword['the']"
   ]
  },
  {
   "cell_type": "markdown",
   "metadata": {},
   "source": [
    "The above says that the probability of picking `the` randomly out of the bag of words is about 7%, and the actual count of `the` is 80,029. Below we see probabilities for more words:"
   ]
  },
  {
   "cell_type": "code",
   "execution_count": 31,
   "metadata": {},
   "outputs": [
    {
     "data": {
      "text/plain": [
       "[(9.04804602921976e-07, 'lamentations'),\n",
       " (9.04804602921976e-07, 'victuals'),\n",
       " (1.357206904382964e-05, 'fashioned'),\n",
       " (7.5098782042524e-05, 'rare'),\n",
       " (0.00019091377121653694, 'english'),\n",
       " (0.0002596789210386071, 'common'),\n",
       " (0.00026963177167074883, 'word'),\n",
       " (0.00041621011734410896, 'words'),\n",
       " (0.0008215625794531542, 'most'),\n",
       " (0.000977188971155734, 'like'),\n",
       " (0.0010676694314479317, 'old'),\n",
       " (0.0032844407086067727, 'are'),\n",
       " (0.008843560188959394, 'is'),\n",
       " (0.019948227080620804, 'in'),\n",
       " (0.03466487394714674, 'and'),\n",
       " (0.07241060756724281, 'the')]"
      ]
     },
     "execution_count": 31,
     "metadata": {},
     "output_type": "execute_result"
    }
   ],
   "source": [
    "sorted({(Pword(w), w) for w in tokens('''\"The\" is the most common word in English; \n",
    " old-fashioned words like \"victuals\" and lamentations\" are rare.''')})"
   ]
  },
  {
   "cell_type": "markdown",
   "metadata": {},
   "source": [
    "Now, what is the probability of a *sequence* of words?  In the general case, this is defined by the definition of joint probability:\n",
    "\n",
    "$P(w_1 \\ldots w_n) = P(w_1) \\times P(w_2 \\mid w_1) \\times \\ldots P(w_n \\mid w_1 \\ldots w_{n-1}) =  \\Pi_{i=1}^n P(w_i \\mid w_1 \\ldots w_{i-1})$\n",
    "\n",
    "In the bag of words model, each word is drawn from the bag *independently* of the others.  So $P(w_i \\mid w_1 \\ldots w_{i-1}) = P(w_i)$, and we have:\n",
    "    \n",
    "$P(w_1 \\ldots w_n) = P(w_1) \\times P(w_2)   \\times \\ldots P(w_n) = \\Pi_{i=1}^n P(w_i)$\n",
    "\n",
    "Now clearly this model is wrong; the probability of a sequence of words in English *does* depend on the order of the words.  But, as the statistician George Box said,  *All models are wrong, but some are useful.*  The bag of words model, wrong as it is, has many useful applications.\n",
    "\n",
    "<center>\n",
    "    <img src=\"http://upload.wikimedia.org/wikipedia/commons/thumb/a/a2/GeorgeEPBox.jpg/200px-GeorgeEPBox.jpg\"> \n",
    "<br><i>All models are wrong, but some are useful<br>&mdash;George Box (1919-2013)<i></center><p>\n",
    "\n",
    "\n",
    "Below we define `Pwords` to compute the product of the individual word probabilities:"
   ]
  },
  {
   "cell_type": "code",
   "execution_count": 32,
   "metadata": {},
   "outputs": [],
   "source": [
    "def Pwords(words: List[Word]) -> float:\n",
    "    \"Probability of a sequence of words, assuming each word is independent of others.\"\n",
    "    return Π(Pword(w) for w in words)\n",
    "\n",
    "def Π(nums) -> float:\n",
    "    \"Multiply the numbers together.  (Like `sum`, but with multiplication.)\"\n",
    "    result = 1\n",
    "    for num in nums:\n",
    "        result *= num\n",
    "    return result"
   ]
  },
  {
   "cell_type": "code",
   "execution_count": 33,
   "metadata": {},
   "outputs": [
    {
     "data": {
      "text/plain": [
       "2.1925826058314966e-20"
      ]
     },
     "execution_count": 33,
     "metadata": {},
     "output_type": "execute_result"
    }
   ],
   "source": [
    "Pwords(tokens('this is a test of the good words'))"
   ]
  },
  {
   "cell_type": "code",
   "execution_count": 34,
   "metadata": {},
   "outputs": [
    {
     "data": {
      "text/plain": [
       "2.3963205369077944e-30"
      ]
     },
     "execution_count": 34,
     "metadata": {},
     "output_type": "execute_result"
    }
   ],
   "source": [
    "Pwords(tokens('here lies another sentence with occasionally unusual terms'))"
   ]
  },
  {
   "cell_type": "markdown",
   "metadata": {},
   "source": [
    "Although both sentences have eight words, the second is judged to be 10 billion times less probable."
   ]
  },
  {
   "cell_type": "markdown",
   "metadata": {},
   "source": [
    "# Task: Word Segmentation\n",
    "\n",
    "**Task**: *given a sequence of characters with no spaces separating words, recover the sequence of words.*\n",
    "   \n",
    "Why? Some languages have no word delimiters: [不带空格的词](http://translate.google.com/#auto/en/%E4%B8%8D%E5%B8%A6%E7%A9%BA%E6%A0%BC%E7%9A%84%E8%AF%8D)\n",
    "\n",
    "In hastily-written text there might be spelling errors that include [wordsruntogether](https://www.google.com/search?q=wordsruntogether). \n",
    "\n",
    "Some specialized sub-genres have no word delimiters; an example is domain names in URLs. Sometimes this can go  [poorly](https://www.boredpanda.com/worst-domain-names/?utm_source=google&utm_medium=organic&utm_campaign=organic), as in the website `choosespain.com` which once was a tourist information site encouraging you to \"choose Spain\" for your travel, but then they noticed that the domain name could also be parsed as \"chooses pain\".\n",
    "\n",
    "To find the best segmentation, we can again take advantage of the bag-of-words assumption that words are independent of each other. If we segment the text into a first word and remaining characters, then the best segmentation with that first word is arrived at by finding the best segmentation of the remaining characters (which does not depend on the first word), where \"best\" means having maximum probability according to `Pwords`. Thus if we try all possible splits, the split with the maximum probability will be the overall best.\n",
    "    \n",
    "    segment('choosespain') ==\n",
    "       max((['c'] + segment('hoosespain'),\n",
    "            ['ch'] + segment('oosespain'),\n",
    "            ...\n",
    "            ['choose'] + segment('spain'),\n",
    "            ...\n",
    "            ['choosespain'] + segment('')),\n",
    "           key=Pwords)\n",
    "\n",
    "To make this somewhat efficient, we need to avoid re-computing the segmentations of the remaining characters.  This can be done explicitly by *dynamic programming* or implicitly with *memoization* or *caching* of function results, as is done by `functools.lru_cache`. Also, we needn't consider all possible lengths for the first word; we can impose a maximum length.  What should it be?  A little more than the longest word seen so far."
   ]
  },
  {
   "cell_type": "code",
   "execution_count": 35,
   "metadata": {},
   "outputs": [
    {
     "data": {
      "text/plain": [
       "18"
      ]
     },
     "execution_count": 35,
     "metadata": {},
     "output_type": "execute_result"
    }
   ],
   "source": [
    "max(len(w) for w in BAG)"
   ]
  },
  {
   "cell_type": "code",
   "execution_count": 36,
   "metadata": {},
   "outputs": [],
   "source": [
    "def splits(text, start=0, end=20) -> Tuple[str, str]:\n",
    "    \"\"\"Return a list of all (first, rest) pairs; start <= len(first) <= L.\"\"\"\n",
    "    return [(text[:i], text[i:]) \n",
    "            for i in range(start, min(len(text), end)+1)]"
   ]
  },
  {
   "cell_type": "code",
   "execution_count": 37,
   "metadata": {},
   "outputs": [
    {
     "data": {
      "text/plain": [
       "[('', 'word'), ('w', 'ord'), ('wo', 'rd'), ('wor', 'd'), ('word', '')]"
      ]
     },
     "execution_count": 37,
     "metadata": {},
     "output_type": "execute_result"
    }
   ],
   "source": [
    "splits('word')"
   ]
  },
  {
   "cell_type": "code",
   "execution_count": 38,
   "metadata": {},
   "outputs": [
    {
     "data": {
      "text/plain": [
       "[('c', 'hoosespain'),\n",
       " ('ch', 'oosespain'),\n",
       " ('cho', 'osespain'),\n",
       " ('choo', 'sespain'),\n",
       " ('choos', 'espain'),\n",
       " ('choose', 'spain'),\n",
       " ('chooses', 'pain')]"
      ]
     },
     "execution_count": 38,
     "metadata": {},
     "output_type": "execute_result"
    }
   ],
   "source": [
    "splits('choosespain', 1, 7)"
   ]
  },
  {
   "cell_type": "code",
   "execution_count": 39,
   "metadata": {},
   "outputs": [],
   "source": [
    "@lru_cache(None)\n",
    "def segment(text) -> List[Word]:\n",
    "    \"\"\"Return a list of words that is the most probable segmentation of text.\"\"\"\n",
    "    if not text: \n",
    "        return []\n",
    "    else:\n",
    "        candidates = ([first] + segment(rest)\n",
    "                      for (first, rest) in splits(text, 1))\n",
    "        return max(candidates, key=Pwords)"
   ]
  },
  {
   "cell_type": "code",
   "execution_count": 40,
   "metadata": {},
   "outputs": [
    {
     "data": {
      "text/plain": [
       "['choose', 'spain']"
      ]
     },
     "execution_count": 40,
     "metadata": {},
     "output_type": "execute_result"
    }
   ],
   "source": [
    "segment('choosespain')"
   ]
  },
  {
   "cell_type": "code",
   "execution_count": 41,
   "metadata": {},
   "outputs": [
    {
     "data": {
      "text/plain": [
       "['speed', 'of', 'art']"
      ]
     },
     "execution_count": 41,
     "metadata": {},
     "output_type": "execute_result"
    }
   ],
   "source": [
    "segment('speedofart')"
   ]
  },
  {
   "cell_type": "code",
   "execution_count": 42,
   "metadata": {},
   "outputs": [],
   "source": [
    "decl = ('wheninthecourseofhumaneventsitbecomesnecessaryforonepeoplet' +\n",
    "        'odissolvethepoliticalbandswhichhaveconnectedthemwithanother' +\n",
    "        'andtoassumeamongthepowersoftheearththeseparateandequalstati' +\n",
    "        'ontowhichthelawsofnatureandofnaturesgodentitlethem')"
   ]
  },
  {
   "cell_type": "code",
   "execution_count": 43,
   "metadata": {},
   "outputs": [
    {
     "data": {
      "text/plain": [
       "'when in the course of human events it becomes necessary for one people to dissolve the political bands which have connected them with another and to assume among the powers of the earth the separate and equal station to which the laws of nature and of natures god entitle them'"
      ]
     },
     "execution_count": 43,
     "metadata": {},
     "output_type": "execute_result"
    }
   ],
   "source": [
    "sentence(segment(decl))"
   ]
  },
  {
   "cell_type": "markdown",
   "metadata": {},
   "source": [
    "That looks good! It should be \"nature's\" not \"natures,\" but our approach does not allow apostrophes. Some more examples:"
   ]
  },
  {
   "cell_type": "code",
   "execution_count": 44,
   "metadata": {},
   "outputs": [
    {
     "data": {
      "text/plain": [
       "['small', 'and', 'insignificant']"
      ]
     },
     "execution_count": 44,
     "metadata": {},
     "output_type": "execute_result"
    }
   ],
   "source": [
    "segment('smallandinsignificant')"
   ]
  },
  {
   "cell_type": "markdown",
   "metadata": {},
   "source": [
    "That looks good. What about:"
   ]
  },
  {
   "cell_type": "code",
   "execution_count": 45,
   "metadata": {},
   "outputs": [
    {
     "data": {
      "text/plain": [
       "['large', 'and', 'insignificant', 'numbers']"
      ]
     },
     "execution_count": 45,
     "metadata": {},
     "output_type": "execute_result"
    }
   ],
   "source": [
    "segment('largeandinsignificantnumbers')"
   ]
  },
  {
   "cell_type": "markdown",
   "metadata": {},
   "source": [
    "That's not how I would segment it. Let's look at the probabilities:"
   ]
  },
  {
   "cell_type": "code",
   "execution_count": 46,
   "metadata": {},
   "outputs": [
    {
     "data": {
      "text/plain": [
       "(4.1121373608995186e-10, 1.0663880482050684e-11)"
      ]
     },
     "execution_count": 46,
     "metadata": {},
     "output_type": "execute_result"
    }
   ],
   "source": [
    "(Pwords(['large', 'and', 'insignificant']),\n",
    " Pwords(['large', 'and', 'in', 'significant']))"
   ]
  },
  {
   "cell_type": "markdown",
   "metadata": {},
   "source": [
    "The probabilities are close, but the segmentation with fewer words is preferred. The bag of words model does not know that \"small\" goes better with \"insignificant\" and \"large\" goes better with \"significant,\" because the model assumes all words are independent.\n",
    "\n",
    "Summary:\n",
    "    \n",
    "- Overall, looks pretty good!\n",
    "- The bag-of-words assumption is a limitation. "
   ]
  },
  {
   "cell_type": "markdown",
   "metadata": {},
   "source": [
    "# Data: Billions of Words\n",
    "\n",
    "Let's move up from millions to [*billions and billions*](https://en.wikipedia.org/wiki/Billions_and_Billions) of words.   I happen to have a word count data file available in the format `\"word \\t count\"`.  Let's arrange to read it in:"
   ]
  },
  {
   "cell_type": "code",
   "execution_count": 47,
   "metadata": {},
   "outputs": [],
   "source": [
    "def load_counts(lines, sep='\\t', fn=str.lower) -> Bag:\n",
    "    \"\"\"Return a Bag initialized from key/count pairs, one on each line.\"\"\"\n",
    "    bag = Bag()\n",
    "    for line in lines:\n",
    "        word, count = line.split(sep)\n",
    "        bag[fn(word)] += int(count)\n",
    "    return bag"
   ]
  },
  {
   "cell_type": "markdown",
   "metadata": {},
   "source": [
    "We'll make `P1w` be a bag of billions of words (and, as a `Bag`, also a probability function):"
   ]
  },
  {
   "cell_type": "code",
   "execution_count": 48,
   "metadata": {},
   "outputs": [
    {
     "data": {
      "text/plain": [
       "(333333, 588.124220187)"
      ]
     },
     "execution_count": 48,
     "metadata": {},
     "output_type": "execute_result"
    }
   ],
   "source": [
    "P1w = load_counts(open('count_1w.txt'))\n",
    "\n",
    "len(P1w), sum(P1w.values())/1e9"
   ]
  },
  {
   "cell_type": "markdown",
   "metadata": {},
   "source": [
    "A third of a million distinct words with a total count of 588 billion tokens."
   ]
  },
  {
   "cell_type": "code",
   "execution_count": 49,
   "metadata": {},
   "outputs": [
    {
     "data": {
      "text/plain": [
       "[('the', 23135851162),\n",
       " ('of', 13151942776),\n",
       " ('and', 12997637966),\n",
       " ('to', 12136980858),\n",
       " ('a', 9081174698),\n",
       " ('in', 8469404971),\n",
       " ('for', 5933321709),\n",
       " ('is', 4705743816),\n",
       " ('on', 3750423199),\n",
       " ('that', 3400031103),\n",
       " ('by', 3350048871),\n",
       " ('this', 3228469771),\n",
       " ('with', 3183110675),\n",
       " ('i', 3086225277),\n",
       " ('you', 2996181025),\n",
       " ('it', 2813163874),\n",
       " ('not', 2633487141),\n",
       " ('or', 2590739907),\n",
       " ('be', 2398724162),\n",
       " ('are', 2393614870)]"
      ]
     },
     "execution_count": 49,
     "metadata": {},
     "output_type": "execute_result"
    }
   ],
   "source": [
    "P1w.most_common(20)"
   ]
  },
  {
   "cell_type": "markdown",
   "metadata": {},
   "source": [
    "The Zipf plot for 588 billion word tokens is similar to the one for a million word tokens:"
   ]
  },
  {
   "cell_type": "code",
   "execution_count": 50,
   "metadata": {},
   "outputs": [
    {
     "data": {
      "image/png": "[encoded data removed]",
      "text/plain": [
       "<Figure size 432x288 with 1 Axes>"
      ]
     },
     "metadata": {
      "needs_background": "light"
     },
     "output_type": "display_data"
    }
   ],
   "source": [
    "zipf_plot(P1w)"
   ]
  },
  {
   "cell_type": "markdown",
   "metadata": {},
   "source": [
    "# Model: the Bigram Model\n",
    "\n",
    "Even with billions of words of data, we won't have enough information to create a full joint probability model, where\n",
    "\n",
    "$P(w_1 \\ldots w_n) =  \\Pi_{i=1}^n P(w_i \\mid w_1 \\ldots w_{i-1})$\n",
    "\n",
    "Why not? Consider a 30-word sentence. We've probably never seen those words in that exact order before, so we have no information about $P(w_{30} \\mid w_1 \\ldots w_{29})$. But we are much more likely to have seen the two-word sequences that make up the sentence. We call these two-word sequences  **bigrams**. The **bigram model** says that the probability of each word depends on the immediately previous word but is independent of the words that came before that. It is less-wrong than the bag of words model. We can write an equation for the probability of a sequence of words (making the assumption that $w_0$ is a special \"start\" or \"separator\" symbol that we denote as `<S>`):\n",
    "    \n",
    "$P(w_1 \\ldots w_n) = P(w_1 \\mid \\mbox{<S>}) \\times P(w_2 \\mid w_1) \\times  \\ldots P(w_n \\mid w_{n-1}) = \\Pi_{i=1}^{n} P(w_i \\mid w_{i-1})$\n",
    "\n",
    "The conditional probability of each word given the previous word is given by:\n",
    "\n",
    "$P(w_i \\mid w_{i-1}) = \\frac{P(w_{i-1}w_i)}{P(w_{i-1})} $\n",
    "\n",
    "That is, the bigram probability of the word and the previous word, divided by the unigram probability of the previous word. \n",
    "\n",
    "The bigram model can be thought of as a \"multiple bags of words\" model, where there are multiple bags, one for each distinct word, and a special bag marked `<S>`. (We assume that each sentence boundary in the text is also annotated with a `<S>`.) To build a model, take a text,\n",
    "cut it up into slips of paper with two words on them, put each slip into the bag labelled with the first word on the slip.  To generate language from the model, first pick a slip from the bag labeled `<S>` and output the second word on the slip. Now pick a slip from the bag labeled with that second word, and output the second word on *that* slip. Continue in this manner.\n",
    "\n",
    "\n",
    "The file `count_2w.txt` has bigram data in the form `\"word1 word2 \\t count\"`. We'll load this into the bag `P2w`."
   ]
  },
  {
   "cell_type": "code",
   "execution_count": 51,
   "metadata": {},
   "outputs": [],
   "source": [
    "P2w = load_counts(open('count_2w.txt'))"
   ]
  },
  {
   "cell_type": "code",
   "execution_count": 52,
   "metadata": {},
   "outputs": [
    {
     "data": {
      "text/plain": [
       "(258437, 225.955251755)"
      ]
     },
     "execution_count": 52,
     "metadata": {},
     "output_type": "execute_result"
    }
   ],
   "source": [
    "len(P2w), sum(P2w.values())/1e9"
   ]
  },
  {
   "cell_type": "markdown",
   "metadata": {},
   "source": [
    "Over a quarter million distinct two-word pairs, with a total count of 225 billion. Let's see the most common two-word sequences:"
   ]
  },
  {
   "cell_type": "code",
   "execution_count": 53,
   "metadata": {},
   "outputs": [
    {
     "data": {
      "text/plain": [
       "[('of the', 2772205934),\n",
       " ('in the', 1735111785),\n",
       " ('to the', 1147345124),\n",
       " ('on the', 841095584),\n",
       " ('for the', 726714015),\n",
       " ('and the', 644282998),\n",
       " ('to be', 513603140),\n",
       " ('with the', 480181610),\n",
       " ('is a', 479118206),\n",
       " ('from the', 454051070),\n",
       " ('at the', 449390032),\n",
       " ('by the', 428337874),\n",
       " ('do not', 400755693),\n",
       " ('it is', 391172862),\n",
       " ('of a', 387456600),\n",
       " ('in a', 387077847),\n",
       " ('will be', 357181303),\n",
       " ('if you', 350999373),\n",
       " ('that the', 337117243),\n",
       " ('is the', 313123377)]"
      ]
     },
     "execution_count": 53,
     "metadata": {},
     "output_type": "execute_result"
    }
   ],
   "source": [
    "P2w.most_common(20)"
   ]
  },
  {
   "cell_type": "markdown",
   "metadata": {},
   "source": [
    "We'll use `Pwords2` for the probability of a word sequence in the bigram model, and `cPword` for the conditional probability of a word given the previous word. \n",
    "\n",
    "But we run into a problem: in `cPword` it is natural to divide by the probability of the previous word, but we don't want to divide by zero in the case where we haven't seen that word before. So we will use a **backoff model** that says if we don't have counts for both words, we'll fall back to the unigram probability of the word (ignoring the previous word)."
   ]
  },
  {
   "cell_type": "code",
   "execution_count": 54,
   "metadata": {},
   "outputs": [],
   "source": [
    "def Pwords2(words, prev='<S>') -> float:\n",
    "    \"\"\"The probability of a sequence of words, using bigram data, given previous word.\"\"\"\n",
    "    return Π(cPword(w, (prev if (i == 0) else words[i-1]) )\n",
    "             for (i, w) in enumerate(words))\n",
    "\n",
    "def cPword(word, prev) -> float:\n",
    "    \"\"\"Conditional probability of word, given previous word.\"\"\"\n",
    "    bigram = prev + ' ' + word\n",
    "    if P2w(bigram) > 0 and P1w(prev) > 0:\n",
    "        return P2w(bigram) / P1w(prev)\n",
    "    else: # Average the back-off value and zero.\n",
    "        return P1w(word) "
   ]
  },
  {
   "cell_type": "code",
   "execution_count": 55,
   "metadata": {},
   "outputs": [
    {
     "data": {
      "text/plain": [
       "0.012268827179134844"
      ]
     },
     "execution_count": 55,
     "metadata": {},
     "output_type": "execute_result"
    }
   ],
   "source": [
    "P2w('of the')"
   ]
  },
  {
   "cell_type": "code",
   "execution_count": 56,
   "metadata": {},
   "outputs": [
    {
     "data": {
      "text/plain": [
       "5.575887217554441e-06"
      ]
     },
     "execution_count": 56,
     "metadata": {},
     "output_type": "execute_result"
    }
   ],
   "source": [
    "P2w('the of')"
   ]
  },
  {
   "cell_type": "markdown",
   "metadata": {},
   "source": [
    "We'll look at all 24 permutations of the words in  \"this is a test\" and compute the probability for each under the bigram model. We see that \"this is a test\" is the most probable permutation, and \"this a is test\" is the least probable, almost a million times less probable: "
   ]
  },
  {
   "cell_type": "code",
   "execution_count": 57,
   "metadata": {},
   "outputs": [
    {
     "data": {
      "text/plain": [
       "[(3.472808344777707e-07, 'this is a test'),\n",
       " (1.127597078828602e-07, 'test this is a'),\n",
       " (6.965779368966287e-08, 'this test is a'),\n",
       " (3.156249379346401e-08, 'a test this is'),\n",
       " (2.2987584450049622e-08, 'is a test this'),\n",
       " (1.5938698734133065e-08, 'is a this test'),\n",
       " (1.340683369945385e-08, 'test is a this'),\n",
       " (1.306996404175386e-08, 'a test is this'),\n",
       " (4.2119901013695514e-09, 'a this is test'),\n",
       " (4.0586505617016795e-09, 'a this test is'),\n",
       " (2.225067906668548e-09, 'test a this is'),\n",
       " (2.2250679066685475e-09, 'this is test a'),\n",
       " (1.7086438151095857e-09, 'is this test a'),\n",
       " (9.36681886482603e-10, 'this a test is'),\n",
       " (7.464591940646502e-10, 'is this a test'),\n",
       " (6.790746260498466e-10, 'test is this a'),\n",
       " (9.442288029367219e-11, 'is test a this'),\n",
       " (7.210056993667689e-11, 'a is this test'),\n",
       " (6.959024970571533e-11, 'is test this a'),\n",
       " (1.0936134003445812e-11, 'this test a is'),\n",
       " (7.330795983439265e-12, 'test a is this'),\n",
       " (6.215026001209826e-12, 'a is test this'),\n",
       " (1.551284601334948e-12, 'test this a is'),\n",
       " (9.945186564405085e-13, 'this a is test')]"
      ]
     },
     "execution_count": 57,
     "metadata": {},
     "output_type": "execute_result"
    }
   ],
   "source": [
    "sorted((Pwords2(t), sentence(t)) for t in permutations(tokens('this is a test')))[::-1]"
   ]
  },
  {
   "cell_type": "markdown",
   "metadata": {},
   "source": [
    "Under the bag of words model, all permutations have the same probability (except for roundoff error in the least-significant digit):"
   ]
  },
  {
   "cell_type": "code",
   "execution_count": 58,
   "metadata": {},
   "outputs": [
    {
     "data": {
      "text/plain": [
       "[(2.9841954327098435e-11, ('this', 'test', 'is', 'a')),\n",
       " (2.9841954327098435e-11, ('this', 'test', 'a', 'is')),\n",
       " (2.9841954327098435e-11, ('this', 'is', 'test', 'a')),\n",
       " (2.9841954327098435e-11, ('test', 'this', 'is', 'a')),\n",
       " (2.9841954327098435e-11, ('test', 'this', 'a', 'is')),\n",
       " (2.9841954327098435e-11, ('test', 'is', 'this', 'a')),\n",
       " (2.9841954327098435e-11, ('test', 'a', 'this', 'is')),\n",
       " (2.9841954327098435e-11, ('is', 'this', 'test', 'a')),\n",
       " (2.9841954327098435e-11, ('is', 'test', 'this', 'a')),\n",
       " (2.9841954327098435e-11, ('a', 'test', 'this', 'is')),\n",
       " (2.984195432709843e-11, ('this', 'is', 'a', 'test')),\n",
       " (2.984195432709843e-11, ('this', 'a', 'test', 'is')),\n",
       " (2.984195432709843e-11, ('this', 'a', 'is', 'test')),\n",
       " (2.984195432709843e-11, ('test', 'is', 'a', 'this')),\n",
       " (2.984195432709843e-11, ('test', 'a', 'is', 'this')),\n",
       " (2.984195432709843e-11, ('is', 'this', 'a', 'test')),\n",
       " (2.984195432709843e-11, ('is', 'test', 'a', 'this')),\n",
       " (2.984195432709843e-11, ('is', 'a', 'this', 'test')),\n",
       " (2.984195432709843e-11, ('is', 'a', 'test', 'this')),\n",
       " (2.984195432709843e-11, ('a', 'this', 'test', 'is')),\n",
       " (2.984195432709843e-11, ('a', 'this', 'is', 'test')),\n",
       " (2.984195432709843e-11, ('a', 'test', 'is', 'this')),\n",
       " (2.984195432709843e-11, ('a', 'is', 'this', 'test')),\n",
       " (2.984195432709843e-11, ('a', 'is', 'test', 'this'))]"
      ]
     },
     "execution_count": 58,
     "metadata": {},
     "output_type": "execute_result"
    }
   ],
   "source": [
    "sorted((Pwords(t), t) for t in permutations(tokens('this is a test')))[::-1]"
   ]
  },
  {
   "cell_type": "markdown",
   "metadata": {},
   "source": [
    "# Task: Segmentation with a Bigram Model"
   ]
  },
  {
   "cell_type": "markdown",
   "metadata": {},
   "source": [
    "Now let's re-do segmentation using a bigram model. To make `segment2`, we copy `segment`, and make sure to pass around the previous token, and to evaluate probabilities with `Pwords2` instead of `Pwords`."
   ]
  },
  {
   "cell_type": "code",
   "execution_count": 59,
   "metadata": {},
   "outputs": [],
   "source": [
    "@lru_cache(None)\n",
    "def segment2(text, prev='<S>'): \n",
    "    \"Return best segmentation of text; use bigram data.\" \n",
    "    if not text: \n",
    "        return []\n",
    "    else:\n",
    "        candidates = ([first] + segment2(rest, first) \n",
    "                      for (first, rest) in splits(text, 1))\n",
    "        return max(candidates, key=lambda words: Pwords2(words, prev))\n",
    "    \n",
    "def splits(text, start=0, end=20) -> Tuple[str, str]:\n",
    "    \"\"\"Return a list of all (first, rest) pairs; start <= len(first) <= L.\"\"\"\n",
    "    return [(text[:i], text[i:]) \n",
    "            for i in range(start, min(len(text), end)+1)]"
   ]
  },
  {
   "cell_type": "code",
   "execution_count": 60,
   "metadata": {},
   "outputs": [
    {
     "data": {
      "text/plain": [
       "['choose', 'spain']"
      ]
     },
     "execution_count": 60,
     "metadata": {},
     "output_type": "execute_result"
    }
   ],
   "source": [
    "segment2('choosespain')"
   ]
  },
  {
   "cell_type": "code",
   "execution_count": 61,
   "metadata": {},
   "outputs": [
    {
     "data": {
      "text/plain": [
       "['speed', 'of', 'art']"
      ]
     },
     "execution_count": 61,
     "metadata": {},
     "output_type": "execute_result"
    }
   ],
   "source": [
    "segment2('speedofart')"
   ]
  },
  {
   "cell_type": "markdown",
   "metadata": {},
   "source": [
    "For the following example, both `segment` and `segment2` perform perfectly:"
   ]
  },
  {
   "cell_type": "code",
   "execution_count": 62,
   "metadata": {},
   "outputs": [
    {
     "data": {
      "text/plain": [
       "('a dry bare sandy hole with nothing in it to sit down on or to eat',\n",
       " 'a dry bare sandy hole with nothing in it to sit down on or to eat')"
      ]
     },
     "execution_count": 62,
     "metadata": {},
     "output_type": "execute_result"
    }
   ],
   "source": [
    "tolkein = 'adrybaresandyholewithnothinginittositdownonortoeat'\n",
    "sentence(segment(tolkein)), sentence(segment2(tolkein))"
   ]
  },
  {
   "cell_type": "markdown",
   "metadata": {},
   "source": [
    "But for the next example, `segment` gets three words wrong, while `segment2` only misses one word, `unregarded`, which is not in `P1w`."
   ]
  },
  {
   "cell_type": "code",
   "execution_count": 63,
   "metadata": {},
   "outputs": [
    {
     "data": {
      "text/plain": [
       "'far out in the un chart ed back waters of the un fashionable end of the western spiral arm of the galaxy lies a small un regarded yellow sun'"
      ]
     },
     "execution_count": 63,
     "metadata": {},
     "output_type": "execute_result"
    }
   ],
   "source": [
    "adams = ('faroutintheunchartedbackwatersoftheunfashionableendofthewesternspiral' +\n",
    "         'armofthegalaxyliesasmallunregardedyellowsun')\n",
    "sentence(segment(adams))"
   ]
  },
  {
   "cell_type": "code",
   "execution_count": 64,
   "metadata": {},
   "outputs": [
    {
     "data": {
      "text/plain": [
       "'far out in the uncharted backwaters of the unfashionable end of the western spiral arm of the galaxy lies a small un regarded yellow sun'"
      ]
     },
     "execution_count": 64,
     "metadata": {},
     "output_type": "execute_result"
    }
   ],
   "source": [
    "sentence(segment2(adams))"
   ]
  },
  {
   "cell_type": "code",
   "execution_count": 65,
   "metadata": {},
   "outputs": [
    {
     "data": {
      "text/plain": [
       "False"
      ]
     },
     "execution_count": 65,
     "metadata": {},
     "output_type": "execute_result"
    }
   ],
   "source": [
    "'unregarded' in P1w"
   ]
  },
  {
   "cell_type": "markdown",
   "metadata": {},
   "source": [
    "Conclusion? The bigram model is a little better, but these examples haven't demonstrated a large difference.  Even with hundreds of billions of words as data, we still don't have a complete model of English words."
   ]
  },
  {
   "cell_type": "markdown",
   "metadata": {},
   "source": [
    "# Theory: Evaluation\n",
    "\n",
    "So far, we've got an intuitive feel for how this all works.  But we don't have any solid metrics that quantify the results.  Without metrics, we can't say if we are doing well, nor if a change is an improvement. In general,\n",
    "when developing a program that relies on data to help make\n",
    "predictions, it is good practice to divide your data into three sets:\n",
    "<ol>\n",
    "  <li> <b>Training set:</b> the data used to create our spelling\n",
    "  model; this was the <tt>big.txt</tt> file.\n",
    "  <li> <b>Development set:</b> a set of input/output pairs that we can\n",
    "  use to rank the performance of our program as we are developing it.\n",
    "  <li> <b>Test set:</b> another set of input/output pairs that we use\n",
    "  to rank our program <i>after</i> we are done developing it.  The\n",
    "  development set can't be used for this purpose&mdash;once the\n",
    "  programmer has looked at the development test it is tainted, because\n",
    "  the programmer might modify the program just to pass the development\n",
    "  test.  That's why we need a separate test set that is only looked at\n",
    "  after development is done.\n",
    "</ol>\n",
    "\n",
    "For this program, the training data is the word frequency BAG, the development set is the examples like `\"choosespain\"` that we have been playing with, and now we need a test set."
   ]
  },
  {
   "cell_type": "code",
   "execution_count": 66,
   "metadata": {},
   "outputs": [],
   "source": [
    "def test_segmenter(segmenter, tests):\n",
    "    \"Try segmenter on tests; report failures; return fraction correct.\"\n",
    "    return sum([test_one_segment(segmenter, test) \n",
    "               for test in tests]), len(tests)\n",
    "\n",
    "def test_one_segment(segmenter, test):\n",
    "    words = tokens(test)\n",
    "    result = segmenter(cat(words))\n",
    "    correct = (result == words)\n",
    "    if not correct:\n",
    "        print('expected:', sentence(words))\n",
    "        print('     got:', sentence(result))\n",
    "    return correct\n",
    "\n",
    "cat = ''.join\n",
    "\n",
    "proverbs = (\"\"\"A little knowledge is a dangerous thing\n",
    "  A man who is his own lawyer has a fool for his client\n",
    "  All work and no play makes Jack a dull boy\n",
    "  Better to remain silent and be thought a fool that to speak and remove all doubt;\n",
    "  Do unto others as you would have them do to you\n",
    "  Early to bed and early to rise, makes a man healthy, wealthy and wise\n",
    "  Fools rush in where angels fear to tread\n",
    "  Genius is one percent inspiration, ninety-nine percent perspiration\n",
    "  If you lie down with dogs, you will get up with fleas\n",
    "  Lightning never strikes twice in the same place\n",
    "  Power corrupts; absolute power corrupts absolutely\n",
    "  Here today, gone tomorrow\n",
    "  See no evil, hear no evil, speak no evil\n",
    "  Sticks and stones may break my bones, but words will never hurt me\n",
    "  Take care of the pence and the pounds will take care of themselves\n",
    "  Take care of the sense and the sounds will take care of themselves\n",
    "  The bigger they are, the harder they fall\n",
    "  The grass is always greener on the other side of the fence\n",
    "  The more things change, the more they stay the same\n",
    "  Those who do not learn from history are doomed to repeat it\"\"\"\n",
    "  .splitlines())"
   ]
  },
  {
   "cell_type": "code",
   "execution_count": 67,
   "metadata": {},
   "outputs": [
    {
     "name": "stdout",
     "output_type": "stream",
     "text": [
      "expected: power corrupts absolute power corrupts absolutely\n",
      "     got: power corrupt s absolute power corrupt s absolutely\n",
      "expected: the grass is always greener on the other side of the fence\n",
      "     got: the grass is always green er on the other side of the fence\n"
     ]
    },
    {
     "data": {
      "text/plain": [
       "(18, 20)"
      ]
     },
     "execution_count": 67,
     "metadata": {},
     "output_type": "execute_result"
    }
   ],
   "source": [
    "test_segmenter(segment, proverbs)"
   ]
  },
  {
   "cell_type": "code",
   "execution_count": 68,
   "metadata": {},
   "outputs": [
    {
     "data": {
      "text/plain": [
       "(20, 20)"
      ]
     },
     "execution_count": 68,
     "metadata": {},
     "output_type": "execute_result"
    }
   ],
   "source": [
    "test_segmenter(segment2, proverbs)"
   ]
  },
  {
   "cell_type": "markdown",
   "metadata": {},
   "source": [
    "This confirms that both segmenters are  good, and that `segment2` is slightly better, getting 20 out of 20 examples right, compared to 18 out of 20 for `segment`. There is much more that can be done in terms of the variety of tests, and in measuring statistical significance."
   ]
  },
  {
   "cell_type": "markdown",
   "metadata": {},
   "source": [
    "# Theory and Practice: Smoothing\n",
    "\n",
    "Here are some more test cases:\n"
   ]
  },
  {
   "cell_type": "code",
   "execution_count": 69,
   "metadata": {},
   "outputs": [
    {
     "data": {
      "text/plain": [
       "{'this is the oligonucleotide test': 4.287506893716667e-14,\n",
       " 'this is the neverbeforeseen test': 0.0,\n",
       " 'this is the zqbhjhsyefvvjqc test': 0.0}"
      ]
     },
     "execution_count": 69,
     "metadata": {},
     "output_type": "execute_result"
    }
   ],
   "source": [
    "tests = ['this is the oligonucleotide test',\n",
    "         'this is the neverbeforeseen test',\n",
    "         'this is the zqbhjhsyefvvjqc test']\n",
    "\n",
    "{test: Pwords2(tokens(test)) for test in tests}"
   ]
  },
  {
   "cell_type": "markdown",
   "metadata": {},
   "source": [
    "The issue here is the finality of a probability of zero.  Out of the three 15-letter words, it turns out that \"oligonucleotide\" is in the dictionary, but if it hadn't been, if somehow our corpus of words had missed it, then the probability of that whole phrase would have been zero.  It seems that is too strict; there must be some \"real\" words that are not in our dictionary, so we shouldn't give them probability zero.  There is also a question of likelyhood of being a \"real\" word.  It does seem that \"neverbeforeseen\" is more English-like than \"zqbhjhsyefvvjqc\", and so perhaps should have a higher probability.\n",
    "\n",
    "We can address this by assigning a non-zero probability to words that are not in the dictionary.  This is even more important when it comes to multi-word phrases (such as bigrams), because many legitimate bigrams will not appear in the training data.\n",
    "\n",
    "We can think of our probability model as being overly spiky; it has a spike of probability mass wherever a word or phrase occurs in the corpus.  What we would like to do is *smooth* over those spikes so that we get a model that does not depend so much on the details of our corpus. \n",
    "\n",
    "For example, Laplace was asked for an estimate of the probability of the sun rising tomorrow.  From past data, he knows that the sun has risen $n/n$ times for the last *n* days (with some uncertainty about the value of *n*), so the maximum liklihood estimator is probability 1.  But Laplace wanted to balance the observed data with the possibility that tomorrow, either the sun will rise or it won't, so he came up with an estimate of $(n + 1) / (n + 2)$.\n",
    "\n",
    "<center>\n",
    "    <img src=\"http://upload.wikimedia.org/wikipedia/commons/thumb/e/e3/Pierre-Simon_Laplace.jpg/220px-Pierre-Simon_Laplace.jpg\" height=150 width=110> \n",
    "<br><i>What we know is little, and what we are ignorant of is immense.<i><br>&mdash; Pierre Simon Laplace (1749-1827)</i>\n",
    "</center><p>\n",
    "    \n",
    "\n",
    "A generalization of Laplace's approach is called [additive smoothing](https://en.wikipedia.org/wiki/Additive_smoothing): we add a **pseudocount** (which does not have to be 1) to each of the outcomes we have seen so far, plus one more for the unseen outcomes. We will redefine `Bag` and `P1w` to use additive smoothing. This time, I can't have the `ProbabilityFunction` as a mixin, because I need to supply the psuedocount as an argument when the bag is constructed, and then use it within the probability function. Thus, I will redefine `Bag` as follows:\n"
   ]
  },
  {
   "cell_type": "code",
   "execution_count": 70,
   "metadata": {},
   "outputs": [],
   "source": [
    "class Bag(Counter): \n",
    "    \"\"\"A bag of words with a probability function using additive smoothing.\"\"\"\n",
    "    def __init__(self, elements=(), pseudocount=1):\n",
    "        self.update(elements)\n",
    "        self.pseudocount = pseudocount\n",
    "\n",
    "    def __call__(self, outcome):\n",
    "        \"\"\"The probability of `outcome`, smoothed by adding pseudocount to each outcome.\"\"\"\n",
    "        if not hasattr(self, 'denominator'):\n",
    "            self.denominator = sum(self.values()) +  self.pseudocount * (len(self) + 1)\n",
    "        return (self[outcome] + self.pseudocount) / self.denominator"
   ]
  },
  {
   "cell_type": "code",
   "execution_count": 71,
   "metadata": {},
   "outputs": [],
   "source": [
    "P1w = Bag(P1w)"
   ]
  },
  {
   "cell_type": "markdown",
   "metadata": {},
   "source": [
    "Now an unknown word has a non-zero probability, as do sequences that contain unknown words, but known words still have higher probabilities:"
   ]
  },
  {
   "cell_type": "code",
   "execution_count": 72,
   "metadata": {},
   "outputs": [
    {
     "data": {
      "text/plain": [
       "1.7003201005861308e-12"
      ]
     },
     "execution_count": 72,
     "metadata": {},
     "output_type": "execute_result"
    }
   ],
   "source": [
    "P1w('neverbeforeseen')"
   ]
  },
  {
   "cell_type": "code",
   "execution_count": 73,
   "metadata": {},
   "outputs": [
    {
     "data": {
      "text/plain": [
       "{'this is the oligonucleotide test': 4.287512523438411e-14,\n",
       " 'this is the neverbeforeseen test': 8.033021050553851e-20,\n",
       " 'this is the zqbhjhsyefvvjqc test': 8.033021050553851e-20}"
      ]
     },
     "execution_count": 73,
     "metadata": {},
     "output_type": "execute_result"
    }
   ],
   "source": [
    "{test: Pwords2(tokens(test)) for test in tests}"
   ]
  },
  {
   "cell_type": "markdown",
   "metadata": {},
   "source": [
    "There are many more advanced ways to do smoothing, but we won't cover them here.\n",
    "\n",
    "There is one more issue to contend with that we will mention but not fix: the smallest positive 64-bit floating point number is about $10^{-323}$. That means that if we are trying to compute the probability of a long sequence of words, we will eventually reach a point where we get **floating point underflow** and the probability is incorrectly reported as zero. We see that this happens somewhere around a 100 word sequence, depending on the exact words:"
   ]
  },
  {
   "cell_type": "code",
   "execution_count": 74,
   "metadata": {},
   "outputs": [
    {
     "data": {
      "text/plain": [
       "{70: 1.1733110491887828e-219,\n",
       " 80: 2.279383032662303e-258,\n",
       " 90: 1.5643367062438602e-271,\n",
       " 100: 7.120951572374323e-301,\n",
       " 110: 1.67177e-319,\n",
       " 120: 0.0,\n",
       " 130: 0.0,\n",
       " 140: 0.0,\n",
       " 150: 0.0}"
      ]
     },
     "execution_count": 74,
     "metadata": {},
     "output_type": "execute_result"
    }
   ],
   "source": [
    "{n: Pwords(sample(WORDS, n)) for n in range(70, 151, 10)}"
   ]
  },
  {
   "cell_type": "markdown",
   "metadata": {},
   "source": [
    "This problem can be addressed by adding logarithms rather than multiplying probabilities, or by re-scaling numbers when they get too small."
   ]
  },
  {
   "cell_type": "markdown",
   "metadata": {},
   "source": [
    "# Task: Secret Codes\n",
    "\n",
    "Let's tackle one more task: decoding secret messages.  We'll start with the simplest of codes, a rotation cipher, sometimes called a shift cipher or a Caesar cipher (because this was state-of-the-art crypotgraphy in 100 BC).  First, a method to encode:"
   ]
  },
  {
   "cell_type": "code",
   "execution_count": 75,
   "metadata": {},
   "outputs": [],
   "source": [
    "def rot(msg, n=13): \n",
    "    \"Encode a message with a rotation (Caesar) cipher.\" \n",
    "    return encode(msg, alphabet[n:]+alphabet[:n])\n",
    "\n",
    "def encode(msg, key): \n",
    "    \"Encode a message with a substitution cipher.\" \n",
    "    table = str.maketrans(upperlower(alphabet), upperlower(key))\n",
    "    return msg.translate(table) \n",
    "\n",
    "def upperlower(text): return text.upper() + text.lower()  "
   ]
  },
  {
   "cell_type": "code",
   "execution_count": 76,
   "metadata": {},
   "outputs": [
    {
     "data": {
      "text/plain": [
       "'Uijt jt b tfdsfu nfttbhf.'"
      ]
     },
     "execution_count": 76,
     "metadata": {},
     "output_type": "execute_result"
    }
   ],
   "source": [
    "msg = 'This is a secret message.'\n",
    "\n",
    "rot(msg, 1)"
   ]
  },
  {
   "cell_type": "code",
   "execution_count": 77,
   "metadata": {},
   "outputs": [
    {
     "data": {
      "text/plain": [
       "'Guvf vf n frperg zrffntr.'"
      ]
     },
     "execution_count": 77,
     "metadata": {},
     "output_type": "execute_result"
    }
   ],
   "source": [
    "rot(msg, 13)"
   ]
  },
  {
   "cell_type": "code",
   "execution_count": 78,
   "metadata": {},
   "outputs": [
    {
     "data": {
      "text/plain": [
       "'This is a secret message.'"
      ]
     },
     "execution_count": 78,
     "metadata": {},
     "output_type": "execute_result"
    }
   ],
   "source": [
    "rot(rot(msg, 13), 13)"
   ]
  },
  {
   "cell_type": "markdown",
   "metadata": {},
   "source": [
    "Decoding a Caesar cipher message is easy: try all 26 candidates, and find the one with the maximum `Pwords`:"
   ]
  },
  {
   "cell_type": "code",
   "execution_count": 79,
   "metadata": {},
   "outputs": [],
   "source": [
    "def decode_rot(secret):\n",
    "    \"Decode a secret message that has been encoded with a rotation cipher.\"\n",
    "    candidates = [tokens(rot(secret, i)) for i in range(26)]\n",
    "    return sentence(max(candidates, key=Pwords))"
   ]
  },
  {
   "cell_type": "code",
   "execution_count": 80,
   "metadata": {},
   "outputs": [
    {
     "data": {
      "text/plain": [
       "'this is a secret message'"
      ]
     },
     "execution_count": 80,
     "metadata": {},
     "output_type": "execute_result"
    }
   ],
   "source": [
    "secret = rot(msg, 17)\n",
    "\n",
    "decode_rot(secret)"
   ]
  },
  {
   "cell_type": "markdown",
   "metadata": {},
   "source": [
    "Let's make it a bit harder.  When the secret message contains separate words, it is too easy to decode by guessing that the one-letter words are most likely \"I\" or \"a\".  So what if the encode routine squished all the letters together:"
   ]
  },
  {
   "cell_type": "code",
   "execution_count": 81,
   "metadata": {},
   "outputs": [],
   "source": [
    "def squish_rot(msg, n=13):\n",
    "    \"Encode a message with a rotation (Caesar) cipher, keeping letters only.\" \n",
    "    return encode(cat(tokens(msg)), alphabet[n:]+alphabet[:n])"
   ]
  },
  {
   "cell_type": "code",
   "execution_count": 82,
   "metadata": {},
   "outputs": [
    {
     "data": {
      "text/plain": [
       "'pahdghplmaxtglpxkmablmbfxtgrhgxtgrhgxunxeexk'"
      ]
     },
     "execution_count": 82,
     "metadata": {},
     "output_type": "execute_result"
    }
   ],
   "source": [
    "secret = squish_rot('Who knows the answer this time? Anyone? Anyone? Bueller?', 19)\n",
    "secret"
   ]
  },
  {
   "cell_type": "markdown",
   "metadata": {},
   "source": [
    "That looks harder to decode. A decoder will have to try all rotations, then segment each rotation, and find the candidate with the best `Pwords`:"
   ]
  },
  {
   "cell_type": "code",
   "execution_count": 83,
   "metadata": {},
   "outputs": [],
   "source": [
    "def decode_rot(secret):\n",
    "    \"\"\"Decode a secret message that has been encoded with a rotation cipher,\n",
    "    and which has had all the non-letters squeezed out.\"\"\"\n",
    "    candidates = [segment(rot(secret, i)) for i in range(26)]\n",
    "    return max(candidates, key=lambda msg: Pwords(msg))"
   ]
  },
  {
   "cell_type": "code",
   "execution_count": 84,
   "metadata": {},
   "outputs": [
    {
     "data": {
      "text/plain": [
       "'who knows the answer this time anyone anyone bu e ll er'"
      ]
     },
     "execution_count": 84,
     "metadata": {},
     "output_type": "execute_result"
    }
   ],
   "source": [
    "sentence(decode_rot(secret))"
   ]
  },
  {
   "cell_type": "markdown",
   "metadata": {},
   "source": [
    "Almost right, but didn't quite get the proper name.\n",
    "\n",
    "What about a general substitution cipher?  The problem is that there are $26! \\approx 10^{26}$ substitution ciphers, and we can't enumerate all of them.  We would need to search through the space:  initially make some guess at a substitution, then swap two letters; if that looks better keep going, if not try something else.  This approach solves most substitution cipher problems, although it can take a few minutes on a message of length 100 words or so.\n",
    "\n",
    "# What's Next?\n",
    "\n",
    "What to do next?  Here are some options:\n",
    "    \n",
    "- **Spelling correction**: Use bigram or trigram context; make a model of spelling errors/edit distance; go beyond edit distance 2; make it more efficient\n",
    "- **Evaluation**: Make a serious test suite; search for best parameters (e.g. $c_1, c_2, c_3$)\n",
    "- **Smoothing**: Implement Kneser-Ney and/or Interpolation; do letter *n*-gram-based smoothing\n",
    "- **Secret Codes**: Implement a search over substitution ciphers\n",
    "- **Classification**: Given a corpus of texts, each with a classification label, write a classifier that will take a new text and return a label.  Examples: spam/no-spam; favorable/unfavorable; what author am I most like; reading level.\n",
    "- **Clustering**: Group data by similarity.  Find synonyms/related words.\n",
    "- **Parsing**: Representing nested structures rather than linear sequences of words.  relations between parts of the structure.  Implicit missing bits.  Inducing a grammar.\n",
    "- **Meaning**: What semantic relations are meant by the syntactic relations?\n",
    "- **Translation**: Using examples to transform one language into another.\n",
    "- **Question Answering**: Using examples to transfer a question into an answer, either by retrieving a passage, or by synthesizing one.\n",
    "- **Speech**: Dealing with analog audio signals rather than discrete sequences of characters."
   ]
  }
 ],
 "metadata": {
  "kernelspec": {
   "display_name": "Python 3",
   "language": "python",
   "name": "python3"
  },
  "language_info": {
   "codemirror_mode": {
    "name": "ipython",
    "version": 3
   },
   "file_extension": ".py",
   "mimetype": "text/x-python",
   "name": "python",
   "nbconvert_exporter": "python",
   "pygments_lexer": "ipython3",
   "version": "3.7.6"
  }
 },
 "nbformat": 4,
 "nbformat_minor": 4
}
