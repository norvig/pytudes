{
 "cells": [
  {
   "cell_type": "markdown",
   "metadata": {},
   "source": [
    "<div align=\"right\" style=\"text-align: right;\"><i>Peter Norvig<br>Jotto: April 2020<br>Wordle: Jan 2022<br>Evil/Anti: Nov 2022</i></div>\n",
    "\n",
    "# Wordle, Evil Wordle, Antiwordle, and Jotto\n",
    "\n",
    "[**Wordle**](https://www.nytimes.com/games/wordle/index.html) is Josh Wardle's [tremendously popular](https://www.nytimes.com/2022/01/03/technology/wordle-word-game-creator.html) word game in which a **guesser** tries to guess a secret **target** word (chosen from a **word list** of allowable words) in as few guesses as possible. Each guess must be one of the words on the list, and the **reply** to each guess consists of 5 bits (actually [trits](https://en.wiktionary.org/wiki/trit#English)) of information, one for each of the 5 word spots:\n",
    "  - *Green* if the guess letter is in the word and in the correct spot.\n",
    "  - *Yellow* if the guess letter is in the word but in the wrong spot.\n",
    "  - *Miss* if the letter is not in the word in any spot.\n",
    "\n",
    "Wordle uses a list of 12,971 allowable guess words, but only 2,309 of them can be target words. (I think the idea is to follow [Postel's law](https://en.wikipedia.org/wiki/Robustness_principle): \"be conservative in what you send, be liberal in what you accept\".) In this notebook, we'll assume we're only dealing with the 2,309 target words. Historically, Wordle is a refinement of **Jotto**, and has in turn inspired variants inclusding **Evil Wordle** and **Antiwordle**, all of which we will cover in this notebook.\n",
    "\n",
    "First off, import some modules and define the basic types `Word`, `Score`, and `Reply`, and the colors that make up the reply:"
   ]
  },
  {
   "cell_type": "code",
   "execution_count": 1,
   "metadata": {},
   "outputs": [],
   "source": [
    "from typing      import List, Tuple, Dict, Union, Counter, Callable, Iterable\n",
    "from dataclasses import dataclass\n",
    "from statistics  import mean, median, stdev\n",
    "from collections import defaultdict\n",
    "from functools   import lru_cache\n",
    "from pathlib     import Path\n",
    "from math        import log2\n",
    "import random \n",
    "import matplotlib.pyplot as plt\n",
    "\n",
    "Word  = str # A word is a string of five different letters\n",
    "Score = int # A score is the number of guesses it took to get the target word\n",
    "Reply = str # A reply is a str of 5 characters from Green, Yellow, Miss; e.g. 'G...Y'\n",
    "\n",
    "Green, Yellow, Miss = 'GY.'\n",
    "Correct = 5 * Green # The reply for the correct guess\n",
    "\n",
    "random.seed('for reproducibility')"
   ]
  },
  {
   "cell_type": "markdown",
   "metadata": {},
   "source": [
    "Now read in the word list:"
   ]
  },
  {
   "cell_type": "code",
   "execution_count": 2,
   "metadata": {},
   "outputs": [],
   "source": [
    "! [ -e wordle-small.txt ] || curl -O https://norvig.com/ngrams/wordle-small.txt\n",
    "\n",
    "wordlist = Path('wordle-small.txt').read_text().split()\n",
    "\n",
    "assert len(wordlist) == 2309"
   ]
  },
  {
   "cell_type": "markdown",
   "metadata": {},
   "source": [
    "# Replies\n",
    "\n",
    "The rules for Wordle replies, outlined above, contain an ambiguity. Let's clear things up.\n",
    "\n",
    "Assume the guess is `'NINNY'` and the target is `'ANNEX'`. A strict reading of the rules would say that the reply should be `'Y.GY.'`–one of the three `'N'`s is in the right spot and thus is green, and the other two should be yellow  because they are  \"in the word but in the wrong spot.\" But the actual (unstated) rules are that Wordle matches the greens first, and then goes left-to-right with the yellows, and only gives you as many non-misses as there are letters in the target to support them. In this example, there are two `'N'`s in the target, so after the one green, there will only be one more yellow `'N'`, and it will be in the leftmost available spot. The actual reply is `'Y.G..'`.\n",
    "\n",
    "In general, how many possible replies are there? There are 3 responses at each of five positions, and  3<sup>5</sup> = 243, but five of those replies are impossible: you can't have four Greens and one Yellow, because if four letters of the guess are in the right place then the fifth must be either in the right place or a miss. \n",
    "\n",
    "Below is the definition of `reply_for` and some tests. Note that `reply_for` is not symmetric; `reply_for(A, B)` is always a permutation of `reply_for(B, A)`, but they are usually not equal. Since the computation of a reply is somewhat complex, we cache the results.\n"
   ]
  },
  {
   "cell_type": "code",
   "execution_count": 3,
   "metadata": {},
   "outputs": [],
   "source": [
    "@lru_cache(None)\n",
    "def reply_for(guess: Word, target: Word) -> Reply: \n",
    "    \"The five-character reply for this guess on this target.\"\n",
    "    # We'll start by having each element of the reply be either Green or Miss ...\n",
    "    reply = [Green if guess[i] == target[i] else Miss for i in range(5)]\n",
    "    # ... then we'll change the elements that should be yellow\n",
    "    counts = Counter(target[i] for i in range(5) if guess[i] != target[i])\n",
    "    for i in range(5):\n",
    "        if reply[i] == Miss and counts[guess[i]] > 0:\n",
    "            counts[guess[i]] -= 1\n",
    "            reply[i] = Yellow\n",
    "    return ''.join(reply)"
   ]
  },
  {
   "cell_type": "code",
   "execution_count": 4,
   "metadata": {},
   "outputs": [],
   "source": [
    "assert reply_for('NINNY', 'ANNEX') == 'Y.G..'; assert  reply_for('ANNEX', 'NINNY') == '.YG..'\n",
    "assert reply_for('HELLO', 'WORLD') == '...GY'; assert  reply_for('WORLD', 'HELLO') == '.Y.G.'\n",
    "assert reply_for('HELLO', 'ABYSS') == '.....'; assert  reply_for('ABYSS', 'HELLO') == '.....'\n",
    "assert reply_for('EPEES', 'GEESE') == 'Y.GYY'; assert  reply_for('GEESE', 'EPEES') == '.YGYY'\n",
    "assert reply_for('WHEEE', 'PEEVE') == '..GYG'; assert  reply_for('PEEVE', 'WHEEE') == '.YG.G'"
   ]
  },
  {
   "cell_type": "markdown",
   "metadata": {},
   "source": [
    "# Consistent Target Words\n",
    "\n",
    "A key concept in Wordle is the idea of **consistent target words**. If I guess `'NINNY'` and the reply is `'Y.G..'`, then the target word could be `'ANNEX'`, but it could also be `'ANNUL'` or `'CANON'`. We say these three words are **consistent** with the guess/reply pair.  If we next guess `'ENNUI'` and get the reply `'YGG..'`, then `'ANNEX'` is the only consistent target. When there is a single consistent target left, the guesser can always get it on the next guess. In general, given a word list, I can always determine the list of consistent targets from a sequence of guess/reply pairs. Once I know the consistent words, the guess/reply pairs themselves provide no additional useful information.  "
   ]
  },
  {
   "cell_type": "code",
   "execution_count": 5,
   "metadata": {},
   "outputs": [],
   "source": [
    "def consistent_targets(targets, guess, reply) -> List[Word]: \n",
    "    \"\"\"All the words in `targets` that give this `reply` to this `guess`.\"\"\"\n",
    "    return [target for target in targets if reply_for(guess, target) == reply]\n",
    "\n",
    "targets = consistent_targets(wordlist, 'NINNY', 'Y.G..')\n",
    "assert  targets == ['ANNEX', 'ANNUL', 'CANON']\n",
    "assert  consistent_targets(targets, 'ENNUI', 'YGG..') == ['ANNEX']"
   ]
  },
  {
   "cell_type": "markdown",
   "metadata": {},
   "source": [
    "# Playing Wordle\n",
    "\n",
    "The function `play` will play a game of Wordle and return the score (the number of guesses). The  arguments are:\n",
    "- `guesser`: a `callable` (e.g., a function) that should return the guess to make. The guesser is passed two arguments: \n",
    "  - The **reply** to the previous guess.\n",
    "  - A list of **consistent target words**.\n",
    "- `wordlist`: The list of allowable words.\n",
    "- `target`: The target word. If none is given, the target word is chosen at random from the wordlist.\n",
    "- `verbose`: Unless false, print a message for each guess.\n",
    "\n",
    "Two corner cases: \n",
    "1. If the guesser improperly guesses a non-word, the reply is `'unknown'`. \n",
    "2. To prevent an infinite loop with a bad guesser, the worst score you can get is the number of words in the wordlist plus 1."
   ]
  },
  {
   "cell_type": "code",
   "execution_count": 6,
   "metadata": {},
   "outputs": [],
   "source": [
    "def play(guesser, wordlist=wordlist, target=None, verbose=True) -> Score:\n",
    "    \"\"\"The number of guesses it take for `guesser` to guess the Jotto word,\n",
    "    which is given by `target` or selected from the words in `wordlist`?\"\"\"\n",
    "    target  = target or random.choice(wordlist) # Choose a random target if none was given\n",
    "    targets = wordlist      # The targets that are consistent with all guess/reply pairs\n",
    "    reply   = None          # For the first guess, there is no previous reply\n",
    "    N       = len(wordlist)\n",
    "    for turn in range(1, N + 1):\n",
    "        guess   = guesser(reply, targets)\n",
    "        reply   = reply_for(guess, target) if guess in wordlist else 'unknown'\n",
    "        targets = consistent_targets(targets, guess, reply)\n",
    "        if verbose: \n",
    "            print(f'Guess {turn}: {guess}, Reply: {reply}; Remaining targets: {len(targets)}')\n",
    "        if reply == Correct:  \n",
    "            return turn\n",
    "    return N + 1"
   ]
  },
  {
   "cell_type": "markdown",
   "metadata": {},
   "source": [
    "To play a game, we will need a guesser. Here are two simple ones:\n"
   ]
  },
  {
   "cell_type": "code",
   "execution_count": 7,
   "metadata": {},
   "outputs": [],
   "source": [
    "def human_guesser(reply, targets) -> Word: \n",
    "    \"\"\"Ask a human to make a guess.\"\"\"\n",
    "    return input(f'Reply was {reply}. Your guess? ')\n",
    "\n",
    "def random_guesser(reply, targets) -> Word: \n",
    "    \"\"\"Choose a guess at random from the consistent targets.\"\"\"\n",
    "    return random.choice(targets)"
   ]
  },
  {
   "cell_type": "markdown",
   "metadata": {},
   "source": [
    "# Sample Wordle Games\n",
    "\n",
    "Here is the `random_guesser` in action:"
   ]
  },
  {
   "cell_type": "code",
   "execution_count": 8,
   "metadata": {},
   "outputs": [
    {
     "name": "stdout",
     "output_type": "stream",
     "text": [
      "Guess 1: VALUE, Reply: .....; Remaining targets: 313\n",
      "Guess 2: NOTCH, Reply: .Y...; Remaining targets: 21\n",
      "Guess 3: PROXY, Reply: YGG..; Remaining targets: 1\n",
      "Guess 4: DROOP, Reply: GGGGG; Remaining targets: 1\n"
     ]
    },
    {
     "data": {
      "text/plain": [
       "4"
      ]
     },
     "execution_count": 8,
     "metadata": {},
     "output_type": "execute_result"
    }
   ],
   "source": [
    "play(random_guesser)"
   ]
  },
  {
   "cell_type": "code",
   "execution_count": 9,
   "metadata": {},
   "outputs": [
    {
     "name": "stdout",
     "output_type": "stream",
     "text": [
      "Guess 1: SLAIN, Reply: ....G; Remaining targets: 25\n",
      "Guess 2: TOKEN, Reply: ....G; Remaining targets: 1\n",
      "Guess 3: CHURN, Reply: GGGGG; Remaining targets: 1\n"
     ]
    },
    {
     "data": {
      "text/plain": [
       "3"
      ]
     },
     "execution_count": 9,
     "metadata": {},
     "output_type": "execute_result"
    }
   ],
   "source": [
    "play(random_guesser)"
   ]
  },
  {
   "cell_type": "code",
   "execution_count": 10,
   "metadata": {},
   "outputs": [
    {
     "name": "stdout",
     "output_type": "stream",
     "text": [
      "Guess 1: SMOKE, Reply: ..Y.Y; Remaining targets: 64\n",
      "Guess 2: VOWEL, Reply: .Y.YY; Remaining targets: 3\n",
      "Guess 3: FELON, Reply: .GGY.; Remaining targets: 2\n",
      "Guess 4: CELLO, Reply: .GGGG; Remaining targets: 1\n",
      "Guess 5: HELLO, Reply: GGGGG; Remaining targets: 1\n"
     ]
    },
    {
     "data": {
      "text/plain": [
       "5"
      ]
     },
     "execution_count": 10,
     "metadata": {},
     "output_type": "execute_result"
    }
   ],
   "source": [
    "play(random_guesser, target='HELLO')"
   ]
  },
  {
   "cell_type": "markdown",
   "metadata": {},
   "source": [
    "#  Partitioning Target Words\n",
    "\n",
    "We can think of a guess as **partitioning** the consistent targets into different **branches** of a tree, each branch corresponding to a different reply:"
   ]
  },
  {
   "cell_type": "code",
   "execution_count": 11,
   "metadata": {},
   "outputs": [],
   "source": [
    "Partition = Dict[Reply, List[str]]\n",
    "\n",
    "def partition(guess, targets) ->  Partition:\n",
    "    \"\"\"A guess partition targets by the possible replies to guess: {reply: [word, ...]}.\"\"\"\n",
    "    branches = defaultdict(list)\n",
    "    for target in targets:\n",
    "        branches[reply_for(guess, target)].append(target)\n",
    "    return branches"
   ]
  },
  {
   "cell_type": "markdown",
   "metadata": {},
   "source": [
    "A partition for the full wordlist would be too big to look at, so let's pick out a few words (every 100th one, so that's 24 words), and partition them by two different guesses. First, the few words partitioned by `'ROAST'`:"
   ]
  },
  {
   "cell_type": "code",
   "execution_count": 12,
   "metadata": {},
   "outputs": [
    {
     "data": {
      "text/plain": [
       "defaultdict(list,\n",
       "            {'..G..': ['ABACK', 'QUACK'],\n",
       "             'YYY..': ['ARBOR'],\n",
       "             'Y...Y': ['BIRTH', 'TREND'],\n",
       "             '.....': ['BULLY', 'CUMIN'],\n",
       "             '..GG.': ['CLASP', 'PHASE'],\n",
       "             'YY...': ['DROOL', 'HUMOR'],\n",
       "             '..Y..': ['FANCY', 'NINJA'],\n",
       "             'Y.G..': ['FRANK'],\n",
       "             'Y.G.Y': ['GRATE'],\n",
       "             'Y.Y.Y': ['LATER'],\n",
       "             '.YYY.': ['MASON'],\n",
       "             'GGGGG': ['ROAST'],\n",
       "             '..GY.': ['SHALE'],\n",
       "             '...Y.': ['SMELL'],\n",
       "             '..GYY': ['STAMP'],\n",
       "             '..Y.Y': ['TAKEN'],\n",
       "             'Y.Y..': ['VIRAL'],\n",
       "             '..Y.G': ['YACHT']})"
      ]
     },
     "execution_count": 12,
     "metadata": {},
     "output_type": "execute_result"
    }
   ],
   "source": [
    "few = wordlist[::100]\n",
    "\n",
    "partition('ROAST', few)"
   ]
  },
  {
   "cell_type": "markdown",
   "metadata": {},
   "source": [
    "No matter what the reply to `'ROAST'` is,  we will be left with no more than 2 remaining possible targets, so we will always be able to win in no more than 3 total guesses. Now, partition by  `'NINJA'`:\n",
    "\n"
   ]
  },
  {
   "cell_type": "code",
   "execution_count": 13,
   "metadata": {},
   "outputs": [
    {
     "data": {
      "text/plain": [
       "defaultdict(list,\n",
       "            {'....Y': ['ABACK',\n",
       "              'ARBOR',\n",
       "              'CLASP',\n",
       "              'GRATE',\n",
       "              'LATER',\n",
       "              'PHASE',\n",
       "              'QUACK',\n",
       "              'ROAST',\n",
       "              'SHALE',\n",
       "              'STAMP',\n",
       "              'YACHT'],\n",
       "             '.G...': ['BIRTH'],\n",
       "             '.....': ['BULLY', 'DROOL', 'HUMOR', 'SMELL'],\n",
       "             'YY...': ['CUMIN'],\n",
       "             '..G.Y': ['FANCY'],\n",
       "             'Y...Y': ['FRANK', 'MASON', 'TAKEN'],\n",
       "             'GGGGG': ['NINJA'],\n",
       "             'Y....': ['TREND'],\n",
       "             '.G..Y': ['VIRAL']})"
      ]
     },
     "execution_count": 13,
     "metadata": {},
     "output_type": "execute_result"
    }
   ],
   "source": [
    "partition('NINJA', few)"
   ]
  },
  {
   "cell_type": "markdown",
   "metadata": {},
   "source": [
    "Almost half the time we get a reply of `'....Y'`, and there are 11 possible target words remaining. That  suggests that `'ROAST'` is a better guess and that a good strategy is: **guess a word that partitions the possible remaining targets into small branches.**\n",
    "\n",
    "To do this we only need to know the *size* of each branch, not the list of words therein, so we could use `partition_counts`:"
   ]
  },
  {
   "cell_type": "code",
   "execution_count": 14,
   "metadata": {},
   "outputs": [],
   "source": [
    "def partition_counts(guess, targets) -> List[int]: \n",
    "    \"The sizes of the branches of a partition of targets by guess.\"\n",
    "    counter = Counter(reply_for(guess, target) for target in targets)\n",
    "    return sorted(counter.values())"
   ]
  },
  {
   "cell_type": "code",
   "execution_count": 15,
   "metadata": {},
   "outputs": [],
   "source": [
    "assert partition_counts('ROAST', few) == [1, 1, 1, 1, 1, 1, 1, 1, 1, 1, 1, 1, 2, 2, 2, 2, 2, 2]\n",
    "assert partition_counts('NINJA', few) == [1, 1, 1, 1, 1, 1, 3, 4, 11]"
   ]
  },
  {
   "cell_type": "markdown",
   "metadata": {},
   "source": [
    "# Metrics for Minimizing Partitions\n",
    "\n",
    "We want partitions with **small branches**, but what exactly does that mean? An ideal goal would be to minimize the average number of additional guesses it will take to finish the game, and to eliminate the possibility of losing the game (needing more than 6 guesses). However, just looking at a single partition (without looking ahead further) can't tell us that, so instead we can minimize one of the following proxy metrics:\n",
    "\n",
    "- **Maximum**: choose the partition that minimizes the size of the largest branch.\n",
    "\n",
    "- **Expectation**: In probability theory, the expectation (also known as expected value) is the weighted average of a random variable. Here it means the sum, over all branches, of the probability of ending up in the branch multiplied by the size of the branch. We are assuming that every target is equally likely, so the probability of a branch is proportional to the number of targets in it.\n",
    "\n",
    "- **Negative Entropy**: In information theory, entropy is the weighted average amount of \"information\" measured in bits. The calculation is the same as expectation except that we count the base 2 logarithm of the branch sizes, not the branches sizes themselves. You can think of the base 2 logarithm as the number of times that you need to cut a branch in half to get it down to one word. We want to maximize entropy, or minimize *negative* entropy.\n",
    "\n",
    "The maximum is just the builtin `max` function; here are the other two metrics:"
   ]
  },
  {
   "cell_type": "code",
   "execution_count": 16,
   "metadata": {},
   "outputs": [],
   "source": [
    "def expectation(counts: List[int]) -> float:\n",
    "    \"The expected value of the counts.\"\n",
    "    N = sum(counts)\n",
    "    def P(x): return x / N\n",
    "    return sum(P(x) * x for x in counts)\n",
    "\n",
    "def neg_entropy(counts: List[int]) -> float: \n",
    "    \"\"\"The negation of the entropy of the counts.\"\"\"\n",
    "    N = sum(counts)\n",
    "    def P(x): return x / N\n",
    "    return sum(P(x) * log2(P(x)) for x in counts)"
   ]
  },
  {
   "cell_type": "markdown",
   "metadata": {},
   "source": [
    "#  Caching Best Guesses: Guess Trees\n",
    "\n",
    "Going through every word in the wordlist to decide which one makes the best partition takes some time. I would prefer to do that computation just once and cache it, rather than have to repeat the computation in every new game. I will cache the best guesses in a structure called a **guess tree**: a tree that has branches for every possible path the game might take, with the best guess for each situation precomputed. Some people call this a **policy**: a guideline that tells you what to do in any situation. A guess tree is either:\n",
    "- An **interior node**, which has a guess and a dict of branches, `Node(guess, {reply: subtree, ...})`, where  each subtree covers all the target words that are consistent with the corresponding reply.\n",
    "- A **leaf word**,  indicating the sole remaining consistent target word. Every word in the word list appears as a leaf in exactly one place in the tree."
   ]
  },
  {
   "cell_type": "code",
   "execution_count": 17,
   "metadata": {},
   "outputs": [],
   "source": [
    "@dataclass \n",
    "class Node:\n",
    "    \"\"\"A node in a guess tree stores the best guess, the number of targets covered, and a branch for every reply.\"\"\"\n",
    "    guess: Word\n",
    "    size: int\n",
    "    branches: Dict[Reply, 'Tree']\n",
    "\n",
    "Tree = Union[Node, Word] # A Tree is either an interior Node or a leaf Word"
   ]
  },
  {
   "cell_type": "markdown",
   "metadata": {},
   "source": [
    "The function `minimizing_tree(metric, targets)` builds a guess tree that covers all the targets and that, at every node, guesses a word that  minimizes the `metric` applied to the `partition_counts` of the guess."
   ]
  },
  {
   "cell_type": "code",
   "execution_count": 18,
   "metadata": {},
   "outputs": [],
   "source": [
    "def minimizing_tree(metric, targets) -> Tree:\n",
    "    \"\"\"Make a tree that picks guesses that minimize metric(partition_counts(guess, targets)).\"\"\"\n",
    "    if len(targets) == 1:\n",
    "        return targets[0]\n",
    "    else:\n",
    "        guess = min(targets, key=lambda guess: metric(partition_counts(guess, targets))) \n",
    "        branches = partition(guess, targets)\n",
    "        return Node(guess, len(targets), \n",
    "                    {reply: minimizing_tree(metric, branches[reply]) \n",
    "                     for reply in branches})"
   ]
  },
  {
   "cell_type": "markdown",
   "metadata": {},
   "source": [
    "Here is a minimizing tree that covers the 24 `few` words. The tree says that the first guess, `\"ROAST\"`, covers 24 target words, and for 12 replies there is only one word left, but for the first 6 replies a second guess is required (e.g., if the reply is `'..G..` then the second guess is `\"ABACK\"`). Either that second guess will be right, or we will need a third guess (in this example, `'QUACK'`)."
   ]
  },
  {
   "cell_type": "code",
   "execution_count": 19,
   "metadata": {},
   "outputs": [],
   "source": [
    "assert (minimizing_tree(max, few) == \n",
    "    Node(\"ROAST\", 24,\n",
    "         {'..G..': Node(\"ABACK\", 2, {'GGGGG': 'ABACK', '..GGG': 'QUACK'}), \n",
    "          'Y...Y': Node(\"BIRTH\", 2, {'GGGGG': 'BIRTH', '..YY.': 'TREND'}), \n",
    "          '.....': Node(\"BULLY\", 2, {'GGGGG': 'BULLY', '.G...': 'CUMIN'}), \n",
    "          '..GG.': Node(\"CLASP\", 2, {'GGGGG': 'CLASP', '..GGY': 'PHASE'}), \n",
    "          'YY...': Node(\"DROOL\", 2, {'GGGGG': 'DROOL', '.Y.G.': 'HUMOR'}), \n",
    "          '..Y..': Node(\"FANCY\", 2, {'GGGGG': 'FANCY', '.YG..': 'NINJA'}), \n",
    "          'YYY..': 'ARBOR', \n",
    "          'Y.G..': 'FRANK', \n",
    "          'Y.G.Y': 'GRATE', \n",
    "          'Y.Y.Y': 'LATER', \n",
    "          '.YYY.': 'MASON', \n",
    "          'GGGGG': 'ROAST', \n",
    "          '..GY.': 'SHALE', \n",
    "          '...Y.': 'SMELL', \n",
    "          '..GYY': 'STAMP', \n",
    "          '..Y.Y': 'TAKEN', \n",
    "          'Y.Y..': 'VIRAL', \n",
    "          '..Y.G': 'YACHT'}))"
   ]
  },
  {
   "cell_type": "markdown",
   "metadata": {},
   "source": [
    "# Turning a Tree into a Guesser\n",
    "\n",
    "A tree is not a guesser, but we can easily make a guesser from a tree. A `TreeGuesser` works as follows:\n",
    "- When *initialized*, it takes a tree as input, and stores the tree under the `.root` attribute.\n",
    "- When *called*, it first sets the `.tree` attribute as follows:\n",
    "  - For the first turn in a game (when the reply is `None`), it resets `.tree`  to `.root`.\n",
    "  - On subsequent turns, it updates `.tree` to be the branch corresponding to the reply.\n",
    "  - After setting `.tree`, it returns the guess for the current tree: either the `.guess` attribute  or the leaf word. "
   ]
  },
  {
   "cell_type": "code",
   "execution_count": 20,
   "metadata": {},
   "outputs": [],
   "source": [
    "class TreeGuesser:\n",
    "    \"\"\"Given a guess tree, use it to create a callable Guesser that can play Wordle.\"\"\"\n",
    "    def __init__(self, tree): self.root = tree\n",
    "        \n",
    "    def __call__(self, reply, targets) -> Word:\n",
    "        \"\"\"If reply is `None`, start a new game; otherwise follow the branch for the `reply`.\n",
    "        Then return the current leaf or interior node guess. (Ignore `targets`.)\"\"\"\n",
    "        self.tree = self.root if reply is None else self.tree.branches[reply]\n",
    "        return self.tree.guess if isinstance(self.tree, Node) else self.tree"
   ]
  },
  {
   "cell_type": "markdown",
   "metadata": {},
   "source": [
    "Here we build a tree that minimizes the maximum branch size (over the full wordlist) and make a guesser out of it:"
   ]
  },
  {
   "cell_type": "code",
   "execution_count": 21,
   "metadata": {},
   "outputs": [
    {
     "name": "stdout",
     "output_type": "stream",
     "text": [
      "CPU times: user 23 s, sys: 284 ms, total: 23.3 s\n",
      "Wall time: 23.3 s\n"
     ]
    }
   ],
   "source": [
    "%time guesser = TreeGuesser(minimizing_tree(max, wordlist))"
   ]
  },
  {
   "cell_type": "markdown",
   "metadata": {},
   "source": [
    "# Sample Games with the Minimizing Guesser\n"
   ]
  },
  {
   "cell_type": "code",
   "execution_count": 22,
   "metadata": {},
   "outputs": [
    {
     "name": "stdout",
     "output_type": "stream",
     "text": [
      "Guess 1: ARISE, Reply: ..Y..; Remaining targets: 107\n",
      "Guess 2: UNTIL, Reply: ..GY.; Remaining targets: 10\n",
      "Guess 3: DITCH, Reply: .GG.Y; Remaining targets: 1\n",
      "Guess 4: PITHY, Reply: GGGGG; Remaining targets: 1\n"
     ]
    },
    {
     "data": {
      "text/plain": [
       "4"
      ]
     },
     "execution_count": 22,
     "metadata": {},
     "output_type": "execute_result"
    }
   ],
   "source": [
    "play(guesser)"
   ]
  },
  {
   "cell_type": "code",
   "execution_count": 23,
   "metadata": {},
   "outputs": [
    {
     "name": "stdout",
     "output_type": "stream",
     "text": [
      "Guess 1: ARISE, Reply: ....Y; Remaining targets: 120\n",
      "Guess 2: TOWEL, Reply: .GYG.; Remaining targets: 3\n",
      "Guess 3: WOKEN, Reply: GGGGG; Remaining targets: 1\n"
     ]
    },
    {
     "data": {
      "text/plain": [
       "3"
      ]
     },
     "execution_count": 23,
     "metadata": {},
     "output_type": "execute_result"
    }
   ],
   "source": [
    "play(guesser)"
   ]
  },
  {
   "cell_type": "code",
   "execution_count": 24,
   "metadata": {},
   "outputs": [
    {
     "name": "stdout",
     "output_type": "stream",
     "text": [
      "Guess 1: ARISE, Reply: ....Y; Remaining targets: 120\n",
      "Guess 2: TOWEL, Reply: .Y.YY; Remaining targets: 5\n",
      "Guess 3: CELLO, Reply: .GGGG; Remaining targets: 1\n",
      "Guess 4: HELLO, Reply: GGGGG; Remaining targets: 1\n"
     ]
    },
    {
     "data": {
      "text/plain": [
       "4"
      ]
     },
     "execution_count": 24,
     "metadata": {},
     "output_type": "execute_result"
    }
   ],
   "source": [
    "play(guesser, target='HELLO')"
   ]
  },
  {
   "cell_type": "markdown",
   "metadata": {},
   "source": [
    "#  Inconsistent Guesses and \"Hard Mode\"\n",
    "\n",
    "So far,  we have always guessed a **consistent** word. That seems reasonable; why waste a guess on a word that could not possibly be the target? But it turns out that in some cases it ***is*** a good strategy to guess such a word.\n",
    "\n",
    "Suppose the entire word list consisted of these nine words:"
   ]
  },
  {
   "cell_type": "code",
   "execution_count": 25,
   "metadata": {},
   "outputs": [],
   "source": [
    "ails = ['BAILS', 'FAILS', 'HAILS', 'NAILS', 'PAILS', 'RAILS', 'SAILS', 'TAILS', 'WAILS']"
   ]
  },
  {
   "cell_type": "markdown",
   "metadata": {},
   "source": [
    "If we guessed any one of the nine words, there would be a 1/9 chance of being correct, and a 8/9 chance of getting the reply `'.GGGG'`, which adds no new information, and leaves us with 8 similar words to choose from. Overall, we'd expect to take 5 guesses on average, with 9 in the worst case. Not a good performance. \n",
    "\n",
    "On the other hand, we could make an inconsistent guess. This sacrifices the 1/9 chance of being correct on the first guess, but gives us more new information for subsequent guesses. For example, `'BERTH'` is a good first guess:"
   ]
  },
  {
   "cell_type": "code",
   "execution_count": 26,
   "metadata": {},
   "outputs": [
    {
     "data": {
      "text/plain": [
       "defaultdict(list,\n",
       "            {'G....': ['BAILS'],\n",
       "             '.....': ['FAILS', 'NAILS', 'PAILS', 'SAILS', 'WAILS'],\n",
       "             '....Y': ['HAILS'],\n",
       "             '..Y..': ['RAILS'],\n",
       "             '...Y.': ['TAILS']})"
      ]
     },
     "execution_count": 26,
     "metadata": {},
     "output_type": "execute_result"
    }
   ],
   "source": [
    "partition('BERTH', ails)"
   ]
  },
  {
   "cell_type": "markdown",
   "metadata": {},
   "source": [
    "After `'BERTH'`, we have a 4/9 chance of being correct on the second guess, and a 5/9 chance of having just 5 remaining words. The 5 can be handled with another inconsistent guess:"
   ]
  },
  {
   "cell_type": "code",
   "execution_count": 27,
   "metadata": {},
   "outputs": [
    {
     "data": {
      "text/plain": [
       "defaultdict(list,\n",
       "            {'Y.Y..': ['FAILS'],\n",
       "             'Y.Y.Y': ['NAILS'],\n",
       "             'YYY..': ['PAILS'],\n",
       "             'G.Y..': ['SAILS'],\n",
       "             'Y.YY.': ['WAILS']})"
      ]
     },
     "execution_count": 27,
     "metadata": {},
     "output_type": "execute_result"
    }
   ],
   "source": [
    "partition('SPAWN', ['FAILS', 'NAILS', 'PAILS', 'SAILS', 'WAILS'])"
   ]
  },
  {
   "cell_type": "markdown",
   "metadata": {},
   "source": [
    "Wordle has an option to play in **hard mode**, where only consistent guesses are allowed. Why is that called \"hard mode\"? One reason is that it can be a little bit hard for a human without access to a computer to verify that a guess is consistent. But more importantly, it is hard to win the game in hard mode if you get stuck in a situation like the `ails` list, where there are many targets remaining, but you are forced to make guesses that give no new information.\n",
    "\n",
    "To allow for inconsistent guesses, I will redefine `minimizing_tree` so that it is passed both the list of remaining consistent target words and the complete word list. It also takes a flag, `inconsistent`. When this flag is true, any word in the wordlist can be considered as a guess; when false, only consistent targets are considered, as before. (Note: when there are 3 or fewer target words left there is no use considering inconsistent guesses, since they cannot improve the average score over a consistent guess. Also, when there are many targets, the odds are one of them will be as good as any inconsistent guess. The value of *many* was empirically chosen as `inconsistent_max = 125`.)"
   ]
  },
  {
   "cell_type": "code",
   "execution_count": 28,
   "metadata": {},
   "outputs": [],
   "source": [
    "def minimizing_tree(metric, targets, wordlist=wordlist, inconsistent=False) -> Tree:\n",
    "    \"\"\"Make a tree that picks guesses that minimize metric(partition_counts(guess, targets)).\"\"\"\n",
    "    if len(targets) == 1:\n",
    "        return targets[0]\n",
    "    else:\n",
    "        guesses  = wordlist if (inconsistent and (3 < len(targets) <= inconsistent_max)) else targets\n",
    "        guess    = min(guesses, key=lambda guess: metric(partition_counts(guess, targets))) \n",
    "        branches = partition(guess, targets)\n",
    "        return Node(guess, len(targets), \n",
    "                    {reply: minimizing_tree(metric, branches[reply], wordlist, inconsistent) \n",
    "                     for reply in branches})\n",
    "    \n",
    "inconsistent_max = 125"
   ]
  },
  {
   "cell_type": "code",
   "execution_count": 29,
   "metadata": {},
   "outputs": [],
   "source": [
    "assert (minimizing_tree(max, ails, inconsistent=True) == \n",
    "        Node(\"BERTH\", 9,\n",
    "             {'.....': Node(\"SPAWN\", 5,\n",
    "                            {'G.Y..': 'SAILS', \n",
    "                             'Y.Y..': 'FAILS', \n",
    "                             'Y.Y.Y': 'NAILS', \n",
    "                             'Y.YY.': 'WAILS', \n",
    "                             'YYY..': 'PAILS'}), \n",
    "              '....Y': 'HAILS', \n",
    "              '...Y.': 'TAILS', \n",
    "              '..Y..': 'RAILS', \n",
    "              'G....': 'BAILS'}))"
   ]
  },
  {
   "cell_type": "markdown",
   "metadata": {},
   "source": [
    "# Evaluating and Reporting on Guessers\n",
    "\n",
    "I'll introduce three functions that together will evaluate a guesser and produce a report:\n",
    "\n",
    "- `report_minimizing_tree` builds a minimizing tree, gets its tree scores, and calls `report`.\n",
    "- `report` takes a list of scores and reports the following statistics:\n",
    "  - The median, mean, standard deviation, and worst case number of guesses, and total number of scores.\n",
    "  - The cumulative percentages guessed correctly (e.g., `\"≤5:11%\"` means 11% of the targets took 5 or fewer guesses).\n",
    "  - A histogram of scores.\n",
    "- `tree_scores` takes a guesser and returns a list of *all* the scores it would make for *all* its targets. For each subtree branch in the tree there are three cases:\n",
    "  - If the subtree is a leaf word that is the same as the node's guess, we're done; it took one guess.\n",
    "  - If the subtree is a leaf word that is not the guess, it took two guesses: one for the incorrect guess and one for the leaf word.\n",
    "  - If the subtree is a Node, add one to each of the scores from the subtree and yield those scores."
   ]
  },
  {
   "cell_type": "code",
   "execution_count": 30,
   "metadata": {},
   "outputs": [],
   "source": [
    "def report_minimizing_tree(metric, targets=wordlist, wordlist=wordlist, inconsistent=False):\n",
    "    \"\"\"Build a minimizing tree and report on its scores.\"\"\"\n",
    "    print(f\"minimizing the {metric.__name__} of partition sizes over {len(targets):,d}\",\n",
    "          f\"targets; inconsistent guesses\", (\"allowed\" if inconsistent else \"prohibited\"))\n",
    "    tree = minimizing_tree(metric, targets, wordlist, inconsistent)\n",
    "    print(f'first guess: \"{tree.guess}\"')\n",
    "    report(tree_scores(tree))\n",
    "\n",
    "def report(scores: Iterable[Score]) -> None:\n",
    "    \"\"\"Report statistics and a histogram for these scores.\"\"\"\n",
    "    scores  = list(scores)\n",
    "    ctr     = Counter(scores)\n",
    "    bins    = range(1, histogram_bins + 2)\n",
    "    scale   = 100 / len(scores)\n",
    "    weights = [scale * ctr[score] for score in ctr]\n",
    "    plt.hist(list(ctr), weights=weights, align='left', rwidth=0.9, bins=bins)\n",
    "    plt.xticks(bins[:-1])\n",
    "    plt.xlabel('Number of guesses'); plt.ylabel('% of scores')\n",
    "    def cumulative_pct(g) -> str: \n",
    "        \"\"\"What percent of games requires no more than g guesses?\"\"\"\n",
    "        percent = scale * sum(ctr[i] for i in range(1, g + 1))\n",
    "        return f'≤{g}:{percent:.{1 if 99 < percent < 100 else 0}f}%'\n",
    "    print(f'median: {median(scores):.0f} guesses, mean: {mean(scores):.2f}',\n",
    "          f'± {stdev(scores):.2f}, worst: {max(scores)}, best: {min(scores)}\\n'\n",
    "          'cumulative:', ', '.join(map(cumulative_pct, range(2, 11))))\n",
    "    \n",
    "def tree_scores(node: Node) -> Iterable[Score]:\n",
    "    \"\"\"All the scores for playing all the target words in the tree under `node`.\"\"\"\n",
    "    for subtree in node.branches.values():\n",
    "        if isinstance(subtree, Word):\n",
    "            yield 1 if subtree == node.guess else 2\n",
    "        else:\n",
    "            yield from (score + 1 for score in tree_scores(subtree))\n",
    "            \n",
    "histogram_bins = 10 # The number of bins in the histogram created by `report` "
   ]
  },
  {
   "cell_type": "markdown",
   "metadata": {},
   "source": [
    "Here are two reports for the 9-word `ails` list, with consistent guesses prohibited and allowed:"
   ]
  },
  {
   "cell_type": "code",
   "execution_count": 31,
   "metadata": {},
   "outputs": [
    {
     "name": "stdout",
     "output_type": "stream",
     "text": [
      "minimizing the max of partition sizes over 9 targets; inconsistent guesses prohibited\n",
      "first guess: \"BAILS\"\n",
      "median: 5 guesses, mean: 5.00 ± 2.74, worst: 9, best: 1\n",
      "cumulative: ≤2:22%, ≤3:33%, ≤4:44%, ≤5:56%, ≤6:67%, ≤7:78%, ≤8:89%, ≤9:100%, ≤10:100%\n"
     ]
    },
    {
     "data": {
      "image/png": "[encoded data removed]",
      "text/plain": [
       "<Figure size 640x480 with 1 Axes>"
      ]
     },
     "metadata": {},
     "output_type": "display_data"
    }
   ],
   "source": [
    "report_minimizing_tree(max, ails)"
   ]
  },
  {
   "cell_type": "code",
   "execution_count": 32,
   "metadata": {},
   "outputs": [
    {
     "name": "stdout",
     "output_type": "stream",
     "text": [
      "minimizing the max of partition sizes over 9 targets; inconsistent guesses allowed\n",
      "first guess: \"BERTH\"\n",
      "median: 3 guesses, mean: 2.56 ± 0.53, worst: 3, best: 2\n",
      "cumulative: ≤2:44%, ≤3:100%, ≤4:100%, ≤5:100%, ≤6:100%, ≤7:100%, ≤8:100%, ≤9:100%, ≤10:100%\n"
     ]
    },
    {
     "data": {
      "image/png": "[encoded data removed]",
      "text/plain": [
       "<Figure size 640x480 with 1 Axes>"
      ]
     },
     "metadata": {},
     "output_type": "display_data"
    }
   ],
   "source": [
    "report_minimizing_tree(max, ails, inconsistent=True)"
   ]
  },
  {
   "cell_type": "markdown",
   "metadata": {},
   "source": [
    "We see that allowing inconsistent guesses improves the mean number of guesses (across all possible targets) from 5.00 to 2.56.\n",
    "\n",
    "# Reports on Consistent Wordle Guessers\n",
    "\n",
    "Here are reports on trees made from minimizing each of the three metrics (max, expectation, and entropy), with only consistent guesses allowed: "
   ]
  },
  {
   "cell_type": "code",
   "execution_count": 33,
   "metadata": {},
   "outputs": [
    {
     "name": "stdout",
     "output_type": "stream",
     "text": [
      "minimizing the max of partition sizes over 2,309 targets; inconsistent guesses prohibited\n",
      "first guess: \"ARISE\"\n",
      "median: 4 guesses, mean: 3.68 ± 0.86, worst: 8, best: 1\n",
      "cumulative: ≤2:5%, ≤3:43%, ≤4:87%, ≤5:97%, ≤6:99.4%, ≤7:99.9%, ≤8:100%, ≤9:100%, ≤10:100%\n",
      "CPU times: user 3.17 s, sys: 176 ms, total: 3.34 s\n",
      "Wall time: 1.66 s\n"
     ]
    },
    {
     "data": {
      "image/png": "[encoded data removed]",
      "text/plain": [
       "<Figure size 640x480 with 1 Axes>"
      ]
     },
     "metadata": {},
     "output_type": "display_data"
    }
   ],
   "source": [
    "%time report_minimizing_tree(max, inconsistent=False)"
   ]
  },
  {
   "cell_type": "code",
   "execution_count": 34,
   "metadata": {},
   "outputs": [
    {
     "name": "stdout",
     "output_type": "stream",
     "text": [
      "minimizing the expectation of partition sizes over 2,309 targets; inconsistent guesses prohibited\n",
      "first guess: \"RAISE\"\n",
      "median: 4 guesses, mean: 3.62 ± 0.86, worst: 8, best: 1\n",
      "cumulative: ≤2:6%, ≤3:47%, ≤4:88%, ≤5:98%, ≤6:99.4%, ≤7:99.9%, ≤8:100%, ≤9:100%, ≤10:100%\n",
      "CPU times: user 3.2 s, sys: 277 ms, total: 3.48 s\n",
      "Wall time: 1.68 s\n"
     ]
    },
    {
     "data": {
      "image/png": "[encoded data removed]",
      "text/plain": [
       "<Figure size 640x480 with 1 Axes>"
      ]
     },
     "metadata": {},
     "output_type": "display_data"
    }
   ],
   "source": [
    "%time report_minimizing_tree(expectation, inconsistent=False)"
   ]
  },
  {
   "cell_type": "code",
   "execution_count": 35,
   "metadata": {},
   "outputs": [
    {
     "name": "stdout",
     "output_type": "stream",
     "text": [
      "minimizing the neg_entropy of partition sizes over 2,309 targets; inconsistent guesses prohibited\n",
      "first guess: \"RAISE\"\n",
      "median: 4 guesses, mean: 3.60 ± 0.85, worst: 8, best: 1\n",
      "cumulative: ≤2:6%, ≤3:49%, ≤4:89%, ≤5:97%, ≤6:99.5%, ≤7:99.9%, ≤8:100%, ≤9:100%, ≤10:100%\n",
      "CPU times: user 2.92 s, sys: 179 ms, total: 3.1 s\n",
      "Wall time: 1.88 s\n"
     ]
    },
    {
     "data": {
      "image/png": "[encoded data removed]",
      "text/plain": [
       "<Figure size 640x480 with 1 Axes>"
      ]
     },
     "metadata": {},
     "output_type": "display_data"
    }
   ],
   "source": [
    "%time report_minimizing_tree(neg_entropy, inconsistent=False)"
   ]
  },
  {
   "cell_type": "markdown",
   "metadata": {},
   "source": [
    "We see that `neg_entropy` gives the best mean number of guesses, 3.60, and the best winning percentage (99.5% in 6 guesses or less).\n",
    "\n",
    "The random guesser is also a consistent guesser. Here is a report on it (each run will give slightly different results):"
   ]
  },
  {
   "cell_type": "code",
   "execution_count": 36,
   "metadata": {},
   "outputs": [
    {
     "name": "stdout",
     "output_type": "stream",
     "text": [
      "median: 4 guesses, mean: 4.09 ± 1.04, worst: 9, best: 2\n",
      "cumulative: ≤2:4%, ≤3:29%, ≤4:69%, ≤5:92%, ≤6:98%, ≤7:99.7%, ≤8:99.9%, ≤9:100%, ≤10:100%\n",
      "CPU times: user 2.88 s, sys: 319 ms, total: 3.2 s\n",
      "Wall time: 1.6 s\n"
     ]
    },
    {
     "data": {
      "image/png": "[encoded data removed]",
      "text/plain": [
       "<Figure size 640x480 with 1 Axes>"
      ]
     },
     "metadata": {},
     "output_type": "display_data"
    }
   ],
   "source": [
    "%time report(play(random_guesser, target=target, verbose=False) for target in wordlist)"
   ]
  },
  {
   "cell_type": "markdown",
   "metadata": {},
   "source": [
    "The random guesser strategy might have seemed hopelessly naive, but it is actually a pretty decent strategy, with mean number of guesses only about 15% worse than the best minimizing tree, and the same median number of guesses, 4. However, it does lose the game (by scoring more than 6) about 2% of the time."
   ]
  },
  {
   "cell_type": "markdown",
   "metadata": {},
   "source": [
    "# Reports on Inconsistent Wordle Guessers\n",
    "Now we'll report on trees with inconsistent guesses allowed. This will take double or triple as much time for each run."
   ]
  },
  {
   "cell_type": "code",
   "execution_count": 37,
   "metadata": {},
   "outputs": [
    {
     "name": "stdout",
     "output_type": "stream",
     "text": [
      "minimizing the max of partition sizes over 2,309 targets; inconsistent guesses allowed\n",
      "first guess: \"ARISE\"\n",
      "median: 4 guesses, mean: 3.64 ± 0.66, worst: 6, best: 1\n",
      "cumulative: ≤2:2%, ≤3:42%, ≤4:93%, ≤5:99.5%, ≤6:100%, ≤7:100%, ≤8:100%, ≤9:100%, ≤10:100%\n",
      "CPU times: user 6.35 s, sys: 229 ms, total: 6.58 s\n",
      "Wall time: 5.25 s\n"
     ]
    },
    {
     "data": {
      "image/png": "[encoded data removed]",
      "text/plain": [
       "<Figure size 640x480 with 1 Axes>"
      ]
     },
     "metadata": {},
     "output_type": "display_data"
    }
   ],
   "source": [
    "%time report_minimizing_tree(max, inconsistent=True)"
   ]
  },
  {
   "cell_type": "code",
   "execution_count": 38,
   "metadata": {},
   "outputs": [
    {
     "name": "stdout",
     "output_type": "stream",
     "text": [
      "minimizing the expectation of partition sizes over 2,309 targets; inconsistent guesses allowed\n",
      "first guess: \"RAISE\"\n",
      "median: 4 guesses, mean: 3.55 ± 0.64, worst: 6, best: 1\n",
      "cumulative: ≤2:2%, ≤3:48%, ≤4:95%, ≤5:99.6%, ≤6:100%, ≤7:100%, ≤8:100%, ≤9:100%, ≤10:100%\n",
      "CPU times: user 7.14 s, sys: 223 ms, total: 7.36 s\n",
      "Wall time: 5.51 s\n"
     ]
    },
    {
     "data": {
      "image/png": "[encoded data removed]",
      "text/plain": [
       "<Figure size 640x480 with 1 Axes>"
      ]
     },
     "metadata": {},
     "output_type": "display_data"
    }
   ],
   "source": [
    "%time report_minimizing_tree(expectation, inconsistent=True)"
   ]
  },
  {
   "cell_type": "code",
   "execution_count": 39,
   "metadata": {},
   "outputs": [
    {
     "name": "stdout",
     "output_type": "stream",
     "text": [
      "minimizing the neg_entropy of partition sizes over 2,309 targets; inconsistent guesses allowed\n",
      "first guess: \"RAISE\"\n",
      "median: 3 guesses, mean: 3.52 ± 0.64, worst: 6, best: 1\n",
      "cumulative: ≤2:2%, ≤3:50%, ≤4:95%, ≤5:99.6%, ≤6:100%, ≤7:100%, ≤8:100%, ≤9:100%, ≤10:100%\n",
      "CPU times: user 6.88 s, sys: 234 ms, total: 7.11 s\n",
      "Wall time: 5.72 s\n"
     ]
    },
    {
     "data": {
      "image/png": "[encoded data removed]",
      "text/plain": [
       "<Figure size 640x480 with 1 Axes>"
      ]
     },
     "metadata": {},
     "output_type": "display_data"
    }
   ],
   "source": [
    "%time report_minimizing_tree(neg_entropy, inconsistent=True)"
   ]
  },
  {
   "cell_type": "markdown",
   "metadata": {},
   "source": [
    "**Mission accomplished!** With inconsistent guesses allowed, all three metrics  solve  100% of the target words in 6 guesses or less. Again, `neg_entropy` is the best metric by a small amount, giving a mean of 3.52 guesses.\n",
    "\n"
   ]
  },
  {
   "cell_type": "markdown",
   "metadata": {},
   "source": [
    "# Best and Worst First Guesses\n",
    "\n",
    "Below we create a table of the best and worst first guesses (that is, the guesses that score the highest and lowest  according to each of the three metrics):"
   ]
  },
  {
   "cell_type": "code",
   "execution_count": 40,
   "metadata": {},
   "outputs": [],
   "source": [
    "import pandas as pd\n",
    "\n",
    "def first_guesses(targets) -> pd.DataFrame: \n",
    "    \"\"\"A data frame of words and scores on the 3 metrics, sorted best to worst on each metric.\"\"\"\n",
    "    metrics = (max, expectation, neg_entropy)\n",
    "    data = [sorted((metric(partition_counts(g, targets)), g) for g in wordlist)\n",
    "            for metric in metrics]\n",
    "    def reformat(row):\n",
    "        (val1, word1), (val2, word2), (val3, word3) = row\n",
    "        return [word1, val1, word2, round(val2, 2), word3, round(val3, 3)]\n",
    "    return pd.DataFrame(map(reformat, zip(*data)), \n",
    "                        columns='max_word max_score exp_word exp_score ent_word ent_score'.split())"
   ]
  },
  {
   "cell_type": "markdown",
   "metadata": {},
   "source": [
    "The best and worst first guesses for Wordle:"
   ]
  },
  {
   "cell_type": "code",
   "execution_count": 41,
   "metadata": {},
   "outputs": [
    {
     "data": {
      "text/html": [
       "<div>\n",
       "<style scoped>\n",
       "    .dataframe tbody tr th:only-of-type {\n",
       "        vertical-align: middle;\n",
       "    }\n",
       "\n",
       "    .dataframe tbody tr th {\n",
       "        vertical-align: top;\n",
       "    }\n",
       "\n",
       "    .dataframe thead th {\n",
       "        text-align: right;\n",
       "    }\n",
       "</style>\n",
       "<table border=\"1\" class=\"dataframe\">\n",
       "  <thead>\n",
       "    <tr style=\"text-align: right;\">\n",
       "      <th></th>\n",
       "      <th>max_word</th>\n",
       "      <th>max_score</th>\n",
       "      <th>exp_word</th>\n",
       "      <th>exp_score</th>\n",
       "      <th>ent_word</th>\n",
       "      <th>ent_score</th>\n",
       "    </tr>\n",
       "  </thead>\n",
       "  <tbody>\n",
       "    <tr>\n",
       "      <th>0</th>\n",
       "      <td>ARISE</td>\n",
       "      <td>167</td>\n",
       "      <td>RAISE</td>\n",
       "      <td>60.74</td>\n",
       "      <td>RAISE</td>\n",
       "      <td>-5.878</td>\n",
       "    </tr>\n",
       "    <tr>\n",
       "      <th>1</th>\n",
       "      <td>RAISE</td>\n",
       "      <td>167</td>\n",
       "      <td>ARISE</td>\n",
       "      <td>63.47</td>\n",
       "      <td>SLATE</td>\n",
       "      <td>-5.856</td>\n",
       "    </tr>\n",
       "    <tr>\n",
       "      <th>2</th>\n",
       "      <td>ALONE</td>\n",
       "      <td>182</td>\n",
       "      <td>IRATE</td>\n",
       "      <td>63.49</td>\n",
       "      <td>CRATE</td>\n",
       "      <td>-5.835</td>\n",
       "    </tr>\n",
       "    <tr>\n",
       "      <th>3</th>\n",
       "      <td>AROSE</td>\n",
       "      <td>182</td>\n",
       "      <td>AROSE</td>\n",
       "      <td>65.76</td>\n",
       "      <td>IRATE</td>\n",
       "      <td>-5.833</td>\n",
       "    </tr>\n",
       "    <tr>\n",
       "      <th>4</th>\n",
       "      <td>RATIO</td>\n",
       "      <td>190</td>\n",
       "      <td>ALTER</td>\n",
       "      <td>69.83</td>\n",
       "      <td>TRACE</td>\n",
       "      <td>-5.830</td>\n",
       "    </tr>\n",
       "    <tr>\n",
       "      <th>...</th>\n",
       "      <td>...</td>\n",
       "      <td>...</td>\n",
       "      <td>...</td>\n",
       "      <td>...</td>\n",
       "      <td>...</td>\n",
       "      <td>...</td>\n",
       "    </tr>\n",
       "    <tr>\n",
       "      <th>2304</th>\n",
       "      <td>CIVIC</td>\n",
       "      <td>1247</td>\n",
       "      <td>PUPPY</td>\n",
       "      <td>775.34</td>\n",
       "      <td>FIZZY</td>\n",
       "      <td>-2.506</td>\n",
       "    </tr>\n",
       "    <tr>\n",
       "      <th>2305</th>\n",
       "      <td>PUPPY</td>\n",
       "      <td>1283</td>\n",
       "      <td>MAMMA</td>\n",
       "      <td>776.30</td>\n",
       "      <td>MUMMY</td>\n",
       "      <td>-2.480</td>\n",
       "    </tr>\n",
       "    <tr>\n",
       "      <th>2306</th>\n",
       "      <td>MUMMY</td>\n",
       "      <td>1321</td>\n",
       "      <td>VIVID</td>\n",
       "      <td>812.76</td>\n",
       "      <td>MAMMA</td>\n",
       "      <td>-2.398</td>\n",
       "    </tr>\n",
       "    <tr>\n",
       "      <th>2307</th>\n",
       "      <td>VIVID</td>\n",
       "      <td>1324</td>\n",
       "      <td>MUMMY</td>\n",
       "      <td>817.96</td>\n",
       "      <td>JAZZY</td>\n",
       "      <td>-2.309</td>\n",
       "    </tr>\n",
       "    <tr>\n",
       "      <th>2308</th>\n",
       "      <td>FUZZY</td>\n",
       "      <td>1349</td>\n",
       "      <td>FUZZY</td>\n",
       "      <td>854.18</td>\n",
       "      <td>FUZZY</td>\n",
       "      <td>-2.304</td>\n",
       "    </tr>\n",
       "  </tbody>\n",
       "</table>\n",
       "<p>2309 rows × 6 columns</p>\n",
       "</div>"
      ],
      "text/plain": [
       "     max_word  max_score exp_word  exp_score ent_word  ent_score\n",
       "0       ARISE        167    RAISE      60.74    RAISE     -5.878\n",
       "1       RAISE        167    ARISE      63.47    SLATE     -5.856\n",
       "2       ALONE        182    IRATE      63.49    CRATE     -5.835\n",
       "3       AROSE        182    AROSE      65.76    IRATE     -5.833\n",
       "4       RATIO        190    ALTER      69.83    TRACE     -5.830\n",
       "...       ...        ...      ...        ...      ...        ...\n",
       "2304    CIVIC       1247    PUPPY     775.34    FIZZY     -2.506\n",
       "2305    PUPPY       1283    MAMMA     776.30    MUMMY     -2.480\n",
       "2306    MUMMY       1321    VIVID     812.76    MAMMA     -2.398\n",
       "2307    VIVID       1324    MUMMY     817.96    JAZZY     -2.309\n",
       "2308    FUZZY       1349    FUZZY     854.18    FUZZY     -2.304\n",
       "\n",
       "[2309 rows x 6 columns]"
      ]
     },
     "execution_count": 41,
     "metadata": {},
     "output_type": "execute_result"
    }
   ],
   "source": [
    "df = first_guesses(wordlist)\n",
    "df"
   ]
  },
  {
   "cell_type": "markdown",
   "metadata": {},
   "source": [
    "The top guesses are `\"RAISE\"` and its anagram `\"ARISE\"`. The letters `'A'`, `'R'`, and `'E'` are the most common in the top guesses. The three metrics agree that `'FUZZY'` is the worst first guess.\n",
    "\n",
    "Here are the top 20 words for each metric:"
   ]
  },
  {
   "cell_type": "code",
   "execution_count": 42,
   "metadata": {},
   "outputs": [
    {
     "data": {
      "text/html": [
       "<div>\n",
       "<style scoped>\n",
       "    .dataframe tbody tr th:only-of-type {\n",
       "        vertical-align: middle;\n",
       "    }\n",
       "\n",
       "    .dataframe tbody tr th {\n",
       "        vertical-align: top;\n",
       "    }\n",
       "\n",
       "    .dataframe thead th {\n",
       "        text-align: right;\n",
       "    }\n",
       "</style>\n",
       "<table border=\"1\" class=\"dataframe\">\n",
       "  <thead>\n",
       "    <tr style=\"text-align: right;\">\n",
       "      <th></th>\n",
       "      <th>max_word</th>\n",
       "      <th>max_score</th>\n",
       "      <th>exp_word</th>\n",
       "      <th>exp_score</th>\n",
       "      <th>ent_word</th>\n",
       "      <th>ent_score</th>\n",
       "    </tr>\n",
       "  </thead>\n",
       "  <tbody>\n",
       "    <tr>\n",
       "      <th>0</th>\n",
       "      <td>ARISE</td>\n",
       "      <td>167</td>\n",
       "      <td>RAISE</td>\n",
       "      <td>60.74</td>\n",
       "      <td>RAISE</td>\n",
       "      <td>-5.878</td>\n",
       "    </tr>\n",
       "    <tr>\n",
       "      <th>1</th>\n",
       "      <td>RAISE</td>\n",
       "      <td>167</td>\n",
       "      <td>ARISE</td>\n",
       "      <td>63.47</td>\n",
       "      <td>SLATE</td>\n",
       "      <td>-5.856</td>\n",
       "    </tr>\n",
       "    <tr>\n",
       "      <th>2</th>\n",
       "      <td>ALONE</td>\n",
       "      <td>182</td>\n",
       "      <td>IRATE</td>\n",
       "      <td>63.49</td>\n",
       "      <td>CRATE</td>\n",
       "      <td>-5.835</td>\n",
       "    </tr>\n",
       "    <tr>\n",
       "      <th>3</th>\n",
       "      <td>AROSE</td>\n",
       "      <td>182</td>\n",
       "      <td>AROSE</td>\n",
       "      <td>65.76</td>\n",
       "      <td>IRATE</td>\n",
       "      <td>-5.833</td>\n",
       "    </tr>\n",
       "    <tr>\n",
       "      <th>4</th>\n",
       "      <td>RATIO</td>\n",
       "      <td>190</td>\n",
       "      <td>ALTER</td>\n",
       "      <td>69.83</td>\n",
       "      <td>TRACE</td>\n",
       "      <td>-5.830</td>\n",
       "    </tr>\n",
       "    <tr>\n",
       "      <th>5</th>\n",
       "      <td>ATONE</td>\n",
       "      <td>191</td>\n",
       "      <td>SANER</td>\n",
       "      <td>70.02</td>\n",
       "      <td>ARISE</td>\n",
       "      <td>-5.821</td>\n",
       "    </tr>\n",
       "    <tr>\n",
       "      <th>6</th>\n",
       "      <td>IRATE</td>\n",
       "      <td>193</td>\n",
       "      <td>LATER</td>\n",
       "      <td>70.03</td>\n",
       "      <td>STARE</td>\n",
       "      <td>-5.807</td>\n",
       "    </tr>\n",
       "    <tr>\n",
       "      <th>7</th>\n",
       "      <td>AISLE</td>\n",
       "      <td>196</td>\n",
       "      <td>SNARE</td>\n",
       "      <td>71.02</td>\n",
       "      <td>SNARE</td>\n",
       "      <td>-5.769</td>\n",
       "    </tr>\n",
       "    <tr>\n",
       "      <th>8</th>\n",
       "      <td>ALERT</td>\n",
       "      <td>196</td>\n",
       "      <td>STARE</td>\n",
       "      <td>71.05</td>\n",
       "      <td>AROSE</td>\n",
       "      <td>-5.768</td>\n",
       "    </tr>\n",
       "    <tr>\n",
       "      <th>9</th>\n",
       "      <td>ALTER</td>\n",
       "      <td>196</td>\n",
       "      <td>SLATE</td>\n",
       "      <td>71.28</td>\n",
       "      <td>LEAST</td>\n",
       "      <td>-5.752</td>\n",
       "    </tr>\n",
       "    <tr>\n",
       "      <th>10</th>\n",
       "      <td>LATER</td>\n",
       "      <td>196</td>\n",
       "      <td>ALERT</td>\n",
       "      <td>71.51</td>\n",
       "      <td>ALERT</td>\n",
       "      <td>-5.744</td>\n",
       "    </tr>\n",
       "    <tr>\n",
       "      <th>11</th>\n",
       "      <td>TEARY</td>\n",
       "      <td>198</td>\n",
       "      <td>CRATE</td>\n",
       "      <td>72.81</td>\n",
       "      <td>CRANE</td>\n",
       "      <td>-5.741</td>\n",
       "    </tr>\n",
       "    <tr>\n",
       "      <th>12</th>\n",
       "      <td>LEANT</td>\n",
       "      <td>207</td>\n",
       "      <td>TRACE</td>\n",
       "      <td>73.95</td>\n",
       "      <td>STALE</td>\n",
       "      <td>-5.738</td>\n",
       "    </tr>\n",
       "    <tr>\n",
       "      <th>13</th>\n",
       "      <td>LEARN</td>\n",
       "      <td>212</td>\n",
       "      <td>STALE</td>\n",
       "      <td>75.33</td>\n",
       "      <td>SANER</td>\n",
       "      <td>-5.734</td>\n",
       "    </tr>\n",
       "    <tr>\n",
       "      <th>14</th>\n",
       "      <td>RENAL</td>\n",
       "      <td>212</td>\n",
       "      <td>AISLE</td>\n",
       "      <td>76.09</td>\n",
       "      <td>ALTER</td>\n",
       "      <td>-5.713</td>\n",
       "    </tr>\n",
       "    <tr>\n",
       "      <th>15</th>\n",
       "      <td>EARLY</td>\n",
       "      <td>215</td>\n",
       "      <td>LEARN</td>\n",
       "      <td>76.72</td>\n",
       "      <td>LATER</td>\n",
       "      <td>-5.707</td>\n",
       "    </tr>\n",
       "    <tr>\n",
       "      <th>16</th>\n",
       "      <td>LAYER</td>\n",
       "      <td>215</td>\n",
       "      <td>LEANT</td>\n",
       "      <td>77.09</td>\n",
       "      <td>REACT</td>\n",
       "      <td>-5.697</td>\n",
       "    </tr>\n",
       "    <tr>\n",
       "      <th>17</th>\n",
       "      <td>LOSER</td>\n",
       "      <td>215</td>\n",
       "      <td>ALONE</td>\n",
       "      <td>77.16</td>\n",
       "      <td>TRADE</td>\n",
       "      <td>-5.684</td>\n",
       "    </tr>\n",
       "    <tr>\n",
       "      <th>18</th>\n",
       "      <td>RELAY</td>\n",
       "      <td>215</td>\n",
       "      <td>LEAST</td>\n",
       "      <td>77.97</td>\n",
       "      <td>LEANT</td>\n",
       "      <td>-5.684</td>\n",
       "    </tr>\n",
       "    <tr>\n",
       "      <th>19</th>\n",
       "      <td>CANOE</td>\n",
       "      <td>216</td>\n",
       "      <td>CRANE</td>\n",
       "      <td>78.69</td>\n",
       "      <td>LEARN</td>\n",
       "      <td>-5.652</td>\n",
       "    </tr>\n",
       "  </tbody>\n",
       "</table>\n",
       "</div>"
      ],
      "text/plain": [
       "   max_word  max_score exp_word  exp_score ent_word  ent_score\n",
       "0     ARISE        167    RAISE      60.74    RAISE     -5.878\n",
       "1     RAISE        167    ARISE      63.47    SLATE     -5.856\n",
       "2     ALONE        182    IRATE      63.49    CRATE     -5.835\n",
       "3     AROSE        182    AROSE      65.76    IRATE     -5.833\n",
       "4     RATIO        190    ALTER      69.83    TRACE     -5.830\n",
       "5     ATONE        191    SANER      70.02    ARISE     -5.821\n",
       "6     IRATE        193    LATER      70.03    STARE     -5.807\n",
       "7     AISLE        196    SNARE      71.02    SNARE     -5.769\n",
       "8     ALERT        196    STARE      71.05    AROSE     -5.768\n",
       "9     ALTER        196    SLATE      71.28    LEAST     -5.752\n",
       "10    LATER        196    ALERT      71.51    ALERT     -5.744\n",
       "11    TEARY        198    CRATE      72.81    CRANE     -5.741\n",
       "12    LEANT        207    TRACE      73.95    STALE     -5.738\n",
       "13    LEARN        212    STALE      75.33    SANER     -5.734\n",
       "14    RENAL        212    AISLE      76.09    ALTER     -5.713\n",
       "15    EARLY        215    LEARN      76.72    LATER     -5.707\n",
       "16    LAYER        215    LEANT      77.09    REACT     -5.697\n",
       "17    LOSER        215    ALONE      77.16    TRADE     -5.684\n",
       "18    RELAY        215    LEAST      77.97    LEANT     -5.684\n",
       "19    CANOE        216    CRANE      78.69    LEARN     -5.652"
      ]
     },
     "execution_count": 42,
     "metadata": {},
     "output_type": "execute_result"
    }
   ],
   "source": [
    "df[:20]"
   ]
  },
  {
   "cell_type": "markdown",
   "metadata": {},
   "source": [
    "We see below that partitioning with the guess`'RAISE'` will leave us with no more than 167 words in any branch, while `'FUZZY'` is likely to leave us with a branch of 1349 words, and about 80% of the time will leave us with a branch of 228 words or more."
   ]
  },
  {
   "cell_type": "code",
   "execution_count": 43,
   "metadata": {},
   "outputs": [
    {
     "data": {
      "text/plain": [
       "Counter({1: 28,\n",
       "         2: 13,\n",
       "         3: 5,\n",
       "         4: 10,\n",
       "         5: 8,\n",
       "         6: 4,\n",
       "         7: 3,\n",
       "         8: 4,\n",
       "         9: 4,\n",
       "         10: 2,\n",
       "         12: 3,\n",
       "         13: 2,\n",
       "         14: 1,\n",
       "         15: 2,\n",
       "         17: 3,\n",
       "         18: 2,\n",
       "         19: 1,\n",
       "         20: 4,\n",
       "         21: 2,\n",
       "         22: 1,\n",
       "         23: 2,\n",
       "         24: 1,\n",
       "         25: 1,\n",
       "         26: 4,\n",
       "         28: 2,\n",
       "         29: 1,\n",
       "         34: 2,\n",
       "         35: 1,\n",
       "         40: 1,\n",
       "         41: 2,\n",
       "         43: 1,\n",
       "         51: 1,\n",
       "         61: 1,\n",
       "         69: 1,\n",
       "         77: 1,\n",
       "         80: 1,\n",
       "         91: 2,\n",
       "         102: 1,\n",
       "         103: 1,\n",
       "         107: 1,\n",
       "         120: 1,\n",
       "         167: 1})"
      ]
     },
     "execution_count": 43,
     "metadata": {},
     "output_type": "execute_result"
    }
   ],
   "source": [
    "Counter(partition_counts('RAISE', wordlist))"
   ]
  },
  {
   "cell_type": "code",
   "execution_count": 44,
   "metadata": {},
   "outputs": [
    {
     "data": {
      "text/plain": [
       "Counter({1: 12,\n",
       "         2: 2,\n",
       "         3: 1,\n",
       "         4: 2,\n",
       "         5: 2,\n",
       "         6: 1,\n",
       "         7: 1,\n",
       "         8: 1,\n",
       "         10: 2,\n",
       "         16: 1,\n",
       "         20: 1,\n",
       "         45: 1,\n",
       "         51: 2,\n",
       "         84: 1,\n",
       "         122: 1,\n",
       "         228: 1,\n",
       "         265: 1,\n",
       "         1349: 1})"
      ]
     },
     "execution_count": 44,
     "metadata": {},
     "output_type": "execute_result"
    }
   ],
   "source": [
    "Counter(partition_counts('FUZZY', wordlist))"
   ]
  },
  {
   "cell_type": "markdown",
   "metadata": {},
   "source": [
    "# Evil Wordle\n",
    "\n",
    "The [**Evil Wordle**](https://swag.github.io/evil-wordle/) variant says it works like this: *\"There's no [target] word set by default. Every time you guess, I look at all possible 5-letter words that would fit all your guesses, and choose the match pattern [reply] that results in the most possible words. My goal is to maximize the amount of guesses it takes to find the word.\"*\n",
    "\n",
    "To play against Evil Wordle, minimizing the max branch size is a good strategy. We know the guess tree that minimizes max has a few branches that require 6 guesses. If the Evil Replier did look-ahead, perhaps they could force us to one of those branches. But we know that the Evil Replier greedily picks the branch with the \"most possible words.\" So I will define `evil` to follow branches through a guess tree and produce the (guess, reply) pairs along the way. For a given tree, there is only one possible game (assuming the Evil Replier breaks ties the same way each time)."
   ]
  },
  {
   "cell_type": "code",
   "execution_count": 45,
   "metadata": {},
   "outputs": [],
   "source": [
    "def evil(tree) -> List[Tuple[Word, Reply]]:\n",
    "    \"\"\"Given a guess tree, determine what happens when the Evil Replier always picks a maximum-sized branch.\n",
    "    The result is a list of (guess, reply) tuples.\"\"\"\n",
    "    if isinstance(tree, Word):\n",
    "        return [(tree, Correct)]\n",
    "    else:\n",
    "        def size(reply): \n",
    "            branch = tree.branches[reply]\n",
    "            return 0 if reply == Correct else 1 if isinstance(branch, Word) else branch.size\n",
    "        reply = max(tree.branches, key=size)\n",
    "        return [(tree.guess, reply)] + evil(tree.branches[reply])"
   ]
  },
  {
   "cell_type": "code",
   "execution_count": 46,
   "metadata": {},
   "outputs": [
    {
     "data": {
      "text/plain": [
       "[('ARISE', '.....'),\n",
       " ('BLOND', '.....'),\n",
       " ('DUMPY', '.YYY.'),\n",
       " ('CHUMP', '.GGGG'),\n",
       " ('THUMP', 'GGGGG')]"
      ]
     },
     "execution_count": 46,
     "metadata": {},
     "output_type": "execute_result"
    }
   ],
   "source": [
    "evil(minimizing_tree(max, wordlist, inconsistent=True))"
   ]
  },
  {
   "cell_type": "markdown",
   "metadata": {},
   "source": [
    "We see that the one possible game consists of 5 guesses. That raises two questions:\n",
    "- Would it be possible for a smarter Guesser to create a different tree (perhaps minimizing something other than max) that only requires 4 guesses? **No.** I know that because (a) when there are two words left in a branch, it will always take two guesses to defeat the Evil Replier, and (b) I previously tried all two-word guess pairs to see which resulted in the smallest branches, and every pair had branches with multiple words.\n",
    "- Would it be possible for a smarter Evil Replier to force a game with 6 guesses? **Maybe.** We know the minimizing-max guess tree has 11 out of 2,309 leaves that require 6 guesses. If the Evil Replier did look-ahead instead of acting greedily, could it get to one of those? I think it is unlikely, but I would need to do a minimax search to prove it one way or the other.\n",
    "\n",
    "Alas, this is all moot, because a little experimenting shows that [**Evil Wordle**](https://swag.github.io/evil-wordle/) is using a word list that contains multiple words that are not in the 2,309 word list. I suspect it is using Wordle's complete 12,971–word list."
   ]
  },
  {
   "cell_type": "markdown",
   "metadata": {},
   "source": [
    "# Antiwordle\n",
    "\n",
    "The Wordle variant [**Antiwordle**](https://www.antiwordle.com/) invites you to *\"Avoid guessing the hidden word in as many tries as possible. Sounds easy, but there's a catch!*\"  The catch is that only consistent guesses are allowed. We can solve Antiwordle by minimizing the entropy (not negative entropy!) of branch sizes. That is, we want big branches."
   ]
  },
  {
   "cell_type": "code",
   "execution_count": 47,
   "metadata": {},
   "outputs": [
    {
     "name": "stdout",
     "output_type": "stream",
     "text": [
      "minimizing the entropy of partition sizes over 2,309 targets; inconsistent guesses prohibited\n",
      "first guess: \"FUZZY\"\n",
      "median: 6 guesses, mean: 5.75 ± 1.61, worst: 11, best: 1\n",
      "cumulative: ≤2:1%, ≤3:8%, ≤4:23%, ≤5:44%, ≤6:68%, ≤7:87%, ≤8:96%, ≤9:99%, ≤10:99.7%\n"
     ]
    },
    {
     "data": {
      "image/png": "[encoded data removed]",
      "text/plain": [
       "<Figure size 640x480 with 1 Axes>"
      ]
     },
     "metadata": {},
     "output_type": "display_data"
    }
   ],
   "source": [
    "def entropy(counts: List[int]) -> float: return -neg_entropy(counts)\n",
    "\n",
    "report_minimizing_tree(entropy, inconsistent=False)"
   ]
  },
  {
   "cell_type": "markdown",
   "metadata": {},
   "source": [
    "We see that, as expected, the \"worst\" word, `'FUZZY'` is the first guess. Overall, we do pretty well, surviving up to 11 guesses a few times, with a median of 6."
   ]
  },
  {
   "cell_type": "markdown",
   "metadata": {},
   "source": [
    "# Jotto\n",
    "\n",
    "[Jotto](https://en.wikipedia.org/wiki/Jotto) is a venerable word game (invented in 1955) that is quite similar to Wordle. The difference is that the reply in Jotto is an integer from 0 to 5 giving the number of matching letters, with no indication of which letter(s) are correct nor whether they are in the right position or not. There are several variants of Jotto; here are four key questions and my answers (designed to keep things simple):\n",
    "\n",
    "- How many letters can each word have? **Five**.\n",
    "- Does a guess have to be a word in the word list? **Yes.**\n",
    "- Can a word have repeated letters, like the \"E\" in \"ELECT\"? **No. Every word must have 5 distinct letters.**\n",
    "- What if the reply is \"5\", but the guess is not the target? **Not allowed.**<br>*(E.g., only one of the anagrams APERS/PARES/PARSE/PEARS/REAPS/SPARE/SPEAR  is allowed in the word list.)*\n",
    "\n",
    "We can make a Jotto word list by:\n",
    "- Starting with a word list (such as the Wordle list).\n",
    "- Discarding words that don't have 5 distinct letters.\n",
    "- Putting the remaining words into a dict of anagrams keyed by the set of letters.\n",
    "- Keeping only one word for each anagram."
   ]
  },
  {
   "cell_type": "code",
   "execution_count": 48,
   "metadata": {},
   "outputs": [],
   "source": [
    "def jotto_allowable(wordlist) -> List[Word]:\n",
    "    \"\"\"Build a list of allowable Jotto words from an iterable of words.\"\"\"\n",
    "    anagrams = {frozenset(w): w for w in wordlist if len(set(w)) == 5 == len(w)}\n",
    "    return sorted(anagrams.values())"
   ]
  },
  {
   "cell_type": "markdown",
   "metadata": {},
   "source": [
    "The right thing to do now would be to refactor the code to allow for the injection of a different `reply_for` function, and a different `wordlist`, so that either game could be played at any time.\n",
    "\n",
    "However, I'm going to take a shortcut: I'm going to require the programmer to call `setup_game` with the name of the game they want, `'jotto'` or `'wordle'`. This will set global variables accordingly. Notice we mutate `wordlist` rather than rebinding it, because it has already been assigned as a default parameter value in various functions, and we don't want to require the caller to explicitly override those defaults."
   ]
  },
  {
   "cell_type": "code",
   "execution_count": 49,
   "metadata": {},
   "outputs": [],
   "source": [
    "wordle_reply_for = reply_for      # Save the original Wordle reply_for function\n",
    "wordle_wordlist  = list(wordlist) # Save a copy of the original Wordle wordlist, which will be mutated"
   ]
  },
  {
   "cell_type": "code",
   "execution_count": 50,
   "metadata": {},
   "outputs": [],
   "source": [
    "def jotto_reply_for(guess, target) -> Reply: \n",
    "    \"The number of letters in common between the target and guess\"\n",
    "    return len(set(target).intersection(guess))\n",
    "\n",
    "def setup_game(game: str) -> None:\n",
    "    \"Redefine global variables to allow play of either 'jotto' or 'wordle'.\"\n",
    "    global histogram_bins, reply_for, Correct\n",
    "    table = {'wordle': (10, wordle_reply_for, 5 * 'G', wordle_wordlist),\n",
    "             'jotto':  (16, jotto_reply_for,  5,       jotto_allowable(wordle_wordlist))}\n",
    "    histogram_bins, reply_for, Correct, wordlist[:] = table[game]"
   ]
  },
  {
   "cell_type": "code",
   "execution_count": 51,
   "metadata": {},
   "outputs": [
    {
     "name": "stdout",
     "output_type": "stream",
     "text": [
      "Guess 1: ZONAL, Reply: 1; Remaining targets: 612\n",
      "Guess 2: ZESTY, Reply: 1; Remaining targets: 288\n",
      "Guess 3: FREAK, Reply: 2; Remaining targets: 83\n",
      "Guess 4: HOMER, Reply: 2; Remaining targets: 35\n",
      "Guess 5: PLIER, Reply: 1; Remaining targets: 12\n",
      "Guess 6: BEACH, Reply: 2; Remaining targets: 6\n",
      "Guess 7: HARDY, Reply: 5; Remaining targets: 1\n"
     ]
    },
    {
     "data": {
      "text/plain": [
       "7"
      ]
     },
     "execution_count": 51,
     "metadata": {},
     "output_type": "execute_result"
    }
   ],
   "source": [
    "setup_game('jotto')\n",
    "play(random_guesser)"
   ]
  },
  {
   "cell_type": "code",
   "execution_count": 52,
   "metadata": {},
   "outputs": [
    {
     "name": "stdout",
     "output_type": "stream",
     "text": [
      "Guess 1: PROUD, Reply: 1; Remaining targets: 594\n",
      "Guess 2: QUASI, Reply: 1; Remaining targets: 307\n",
      "Guess 3: FIEND, Reply: 0; Remaining targets: 41\n",
      "Guess 4: CHART, Reply: 3; Remaining targets: 11\n",
      "Guess 5: CRAZY, Reply: 2; Remaining targets: 5\n",
      "Guess 6: MOCHA, Reply: 4; Remaining targets: 2\n",
      "Guess 7: CHAMP, Reply: 3; Remaining targets: 1\n",
      "Guess 8: HAVOC, Reply: 5; Remaining targets: 1\n"
     ]
    },
    {
     "data": {
      "text/plain": [
       "8"
      ]
     },
     "execution_count": 52,
     "metadata": {},
     "output_type": "execute_result"
    }
   ],
   "source": [
    "play(random_guesser)"
   ]
  },
  {
   "cell_type": "markdown",
   "metadata": {},
   "source": [
    "Below we show that we can switch back to Wordle, and then back to Jotto again, and things still function properly:"
   ]
  },
  {
   "cell_type": "code",
   "execution_count": 53,
   "metadata": {},
   "outputs": [
    {
     "name": "stdout",
     "output_type": "stream",
     "text": [
      "Guess 1: ANGLE, Reply: .....; Remaining targets: 309\n",
      "Guess 2: WISPY, Reply: .GG.G; Remaining targets: 4\n",
      "Guess 3: RISKY, Reply: GGGGG; Remaining targets: 1\n"
     ]
    },
    {
     "data": {
      "text/plain": [
       "3"
      ]
     },
     "execution_count": 53,
     "metadata": {},
     "output_type": "execute_result"
    }
   ],
   "source": [
    "setup_game ('wordle')\n",
    "play(random_guesser)"
   ]
  },
  {
   "cell_type": "code",
   "execution_count": 54,
   "metadata": {},
   "outputs": [
    {
     "name": "stdout",
     "output_type": "stream",
     "text": [
      "Guess 1: SHARK, Reply: 1; Remaining targets: 577\n",
      "Guess 2: TWANG, Reply: 1; Remaining targets: 250\n",
      "Guess 3: BRINY, Reply: 2; Remaining targets: 69\n",
      "Guess 4: GIVER, Reply: 1; Remaining targets: 26\n",
      "Guess 5: HYMEN, Reply: 2; Remaining targets: 7\n",
      "Guess 6: MOURN, Reply: 0; Remaining targets: 3\n",
      "Guess 7: PITHY, Reply: 5; Remaining targets: 1\n"
     ]
    },
    {
     "data": {
      "text/plain": [
       "7"
      ]
     },
     "execution_count": 54,
     "metadata": {},
     "output_type": "execute_result"
    }
   ],
   "source": [
    "setup_game('jotto')\n",
    "play(random_guesser)"
   ]
  },
  {
   "cell_type": "markdown",
   "metadata": {},
   "source": [
    "# Reports on Consistent Jotto Guessers\n",
    "\n",
    "As with Wordle, we'll give reports on the Jotto guessers for various metrics, and for the random guesser:"
   ]
  },
  {
   "cell_type": "code",
   "execution_count": 55,
   "metadata": {},
   "outputs": [
    {
     "name": "stdout",
     "output_type": "stream",
     "text": [
      "minimizing the max of partition sizes over 1,391 targets; inconsistent guesses prohibited\n",
      "first guess: \"DRAPE\"\n",
      "median: 6 guesses, mean: 6.31 ± 1.43, worst: 16, best: 1\n",
      "cumulative: ≤2:0%, ≤3:2%, ≤4:7%, ≤5:24%, ≤6:58%, ≤7:88%, ≤8:95%, ≤9:97%, ≤10:99%\n",
      "CPU times: user 1.66 s, sys: 40.7 ms, total: 1.7 s\n",
      "Wall time: 1.54 s\n"
     ]
    },
    {
     "data": {
      "image/png": "[encoded data removed]",
      "text/plain": [
       "<Figure size 640x480 with 1 Axes>"
      ]
     },
     "metadata": {},
     "output_type": "display_data"
    }
   ],
   "source": [
    "%time report_minimizing_tree(max, inconsistent=False)"
   ]
  },
  {
   "cell_type": "code",
   "execution_count": 56,
   "metadata": {},
   "outputs": [
    {
     "name": "stdout",
     "output_type": "stream",
     "text": [
      "minimizing the expectation of partition sizes over 1,391 targets; inconsistent guesses prohibited\n",
      "first guess: \"SOUTH\"\n",
      "median: 6 guesses, mean: 6.11 ± 1.22, worst: 14, best: 1\n",
      "cumulative: ≤2:0%, ≤3:2%, ≤4:8%, ≤5:26%, ≤6:64%, ≤7:93%, ≤8:98%, ≤9:99%, ≤10:99.5%\n",
      "CPU times: user 2.29 s, sys: 214 ms, total: 2.51 s\n",
      "Wall time: 1.48 s\n"
     ]
    },
    {
     "data": {
      "image/png": "[encoded data removed]",
      "text/plain": [
       "<Figure size 640x480 with 1 Axes>"
      ]
     },
     "metadata": {},
     "output_type": "display_data"
    }
   ],
   "source": [
    "%time report_minimizing_tree(expectation, inconsistent=False)"
   ]
  },
  {
   "cell_type": "code",
   "execution_count": 57,
   "metadata": {},
   "outputs": [
    {
     "name": "stdout",
     "output_type": "stream",
     "text": [
      "minimizing the neg_entropy of partition sizes over 1,391 targets; inconsistent guesses prohibited\n",
      "first guess: \"STARE\"\n",
      "median: 6 guesses, mean: 6.31 ± 1.46, worst: 15, best: 1\n",
      "cumulative: ≤2:0%, ≤3:2%, ≤4:8%, ≤5:25%, ≤6:58%, ≤7:87%, ≤8:95%, ≤9:97%, ≤10:98%\n",
      "CPU times: user 2.43 s, sys: 177 ms, total: 2.61 s\n",
      "Wall time: 1.62 s\n"
     ]
    },
    {
     "data": {
      "image/png": "[encoded data removed]",
      "text/plain": [
       "<Figure size 640x480 with 1 Axes>"
      ]
     },
     "metadata": {},
     "output_type": "display_data"
    }
   ],
   "source": [
    "%time report_minimizing_tree(neg_entropy, inconsistent=False)"
   ]
  },
  {
   "cell_type": "code",
   "execution_count": 58,
   "metadata": {},
   "outputs": [
    {
     "name": "stdout",
     "output_type": "stream",
     "text": [
      "median: 7 guesses, mean: 6.65 ± 1.46, worst: 13, best: 2\n",
      "cumulative: ≤2:0%, ≤3:2%, ≤4:7%, ≤5:20%, ≤6:44%, ≤7:75%, ≤8:91%, ≤9:97%, ≤10:99.3%\n",
      "CPU times: user 2.53 s, sys: 217 ms, total: 2.75 s\n",
      "Wall time: 1.61 s\n"
     ]
    },
    {
     "data": {
      "image/png": "[encoded data removed]",
      "text/plain": [
       "<Figure size 640x480 with 1 Axes>"
      ]
     },
     "metadata": {},
     "output_type": "display_data"
    }
   ],
   "source": [
    "%time report([play(random_guesser, target=target, verbose=False) for target in wordlist])"
   ]
  },
  {
   "cell_type": "markdown",
   "metadata": {},
   "source": [
    "# Reports on Inconsistent Jotto Guessers"
   ]
  },
  {
   "cell_type": "code",
   "execution_count": 59,
   "metadata": {},
   "outputs": [
    {
     "name": "stdout",
     "output_type": "stream",
     "text": [
      "minimizing the max of partition sizes over 1,391 targets; inconsistent guesses allowed\n",
      "first guess: \"DRAPE\"\n",
      "median: 6 guesses, mean: 6.38 ± 0.93, worst: 9, best: 1\n",
      "cumulative: ≤2:0%, ≤3:1%, ≤4:3%, ≤5:13%, ≤6:52%, ≤7:93%, ≤8:99.8%, ≤9:100%, ≤10:100%\n",
      "CPU times: user 4.98 s, sys: 51.4 ms, total: 5.03 s\n",
      "Wall time: 4.83 s\n"
     ]
    },
    {
     "data": {
      "image/png": "[encoded data removed]",
      "text/plain": [
       "<Figure size 640x480 with 1 Axes>"
      ]
     },
     "metadata": {},
     "output_type": "display_data"
    }
   ],
   "source": [
    "%time report_minimizing_tree(max, inconsistent=True)"
   ]
  },
  {
   "cell_type": "code",
   "execution_count": 60,
   "metadata": {},
   "outputs": [
    {
     "name": "stdout",
     "output_type": "stream",
     "text": [
      "minimizing the expectation of partition sizes over 1,391 targets; inconsistent guesses allowed\n",
      "first guess: \"SOUTH\"\n",
      "median: 6 guesses, mean: 6.13 ± 0.89, worst: 9, best: 1\n",
      "cumulative: ≤2:0%, ≤3:1%, ≤4:4%, ≤5:19%, ≤6:66%, ≤7:97%, ≤8:99.9%, ≤9:100%, ≤10:100%\n",
      "CPU times: user 5.38 s, sys: 173 ms, total: 5.55 s\n",
      "Wall time: 4.66 s\n"
     ]
    },
    {
     "data": {
      "image/png": "[encoded data removed]",
      "text/plain": [
       "<Figure size 640x480 with 1 Axes>"
      ]
     },
     "metadata": {},
     "output_type": "display_data"
    }
   ],
   "source": [
    "%time report_minimizing_tree(expectation, inconsistent=True)"
   ]
  },
  {
   "cell_type": "code",
   "execution_count": 61,
   "metadata": {},
   "outputs": [
    {
     "name": "stdout",
     "output_type": "stream",
     "text": [
      "minimizing the neg_entropy of partition sizes over 1,391 targets; inconsistent guesses allowed\n",
      "first guess: \"STARE\"\n",
      "median: 6 guesses, mean: 6.18 ± 0.93, worst: 9, best: 1\n",
      "cumulative: ≤2:0%, ≤3:1%, ≤4:3%, ≤5:20%, ≤6:63%, ≤7:95%, ≤8:99.7%, ≤9:100%, ≤10:100%\n",
      "CPU times: user 6.17 s, sys: 207 ms, total: 6.37 s\n",
      "Wall time: 4.87 s\n"
     ]
    },
    {
     "data": {
      "image/png": "[encoded data removed]",
      "text/plain": [
       "<Figure size 640x480 with 1 Axes>"
      ]
     },
     "metadata": {},
     "output_type": "display_data"
    }
   ],
   "source": [
    "%time report_minimizing_tree(neg_entropy, inconsistent=True)"
   ]
  },
  {
   "cell_type": "markdown",
   "metadata": {},
   "source": [
    "# Jotto and Wordle Evaluation Summary\n",
    "\n",
    "Here is a summary of the reports on both games:\n",
    "\n",
    "|<br><br><br>Algorithm|JOTTO<br>Inonsistent<br><u>Prohibited</u><br>Mean (Max)|JOTTO<br>Inconsistent<br><u>Allowed</u><br>Mean (Max)|WORDLE<br>Inconsistent<br><u>Prohibited</u><br>Mean (Max)|WORDLE<br>Inconsistent<br><u>Allowed</u><br>Mean (Max)||\n",
    "|--|--|--|--|--|--|\n",
    "|minimize max        |6.31 (16)|6.38  (9)| 3.68 (8) | 3.64 (6) | \n",
    "|minimize expectation|6.11 (14)|6.13  (9)| 3.62 (8) | 3.55 (6) | \n",
    "|minimize neg_entropy|6.31 (15)|6.18  (9)| 3.60 (8) | 3.52 (6) |\n",
    "|random guesser      |6.59 (13)|         | 4.09 (9) |          |\n",
    "\n",
    "\n",
    "So for both games, the best approach is using the neg-entropy metric and allowing inconsistent guesses.\n",
    "\n",
    "One surprising thing: allowing inconsistent guesses in Jotto does *not* improve the mean score with eiither the max or expectation metric. However, it does uniformly improve the worst score.\n",
    "\n",
    "\n",
    "# Jotto Best and Worst First Guesses\n",
    "\n",
    "Here are the best and worst first guesses for Jotto:"
   ]
  },
  {
   "cell_type": "code",
   "execution_count": 62,
   "metadata": {},
   "outputs": [
    {
     "data": {
      "text/html": [
       "<div>\n",
       "<style scoped>\n",
       "    .dataframe tbody tr th:only-of-type {\n",
       "        vertical-align: middle;\n",
       "    }\n",
       "\n",
       "    .dataframe tbody tr th {\n",
       "        vertical-align: top;\n",
       "    }\n",
       "\n",
       "    .dataframe thead th {\n",
       "        text-align: right;\n",
       "    }\n",
       "</style>\n",
       "<table border=\"1\" class=\"dataframe\">\n",
       "  <thead>\n",
       "    <tr style=\"text-align: right;\">\n",
       "      <th></th>\n",
       "      <th>max_word</th>\n",
       "      <th>max_score</th>\n",
       "      <th>exp_word</th>\n",
       "      <th>exp_score</th>\n",
       "      <th>ent_word</th>\n",
       "      <th>ent_score</th>\n",
       "    </tr>\n",
       "  </thead>\n",
       "  <tbody>\n",
       "    <tr>\n",
       "      <th>0</th>\n",
       "      <td>DRAPE</td>\n",
       "      <td>497</td>\n",
       "      <td>SOUTH</td>\n",
       "      <td>400.50</td>\n",
       "      <td>STARE</td>\n",
       "      <td>-1.971</td>\n",
       "    </tr>\n",
       "    <tr>\n",
       "      <th>1</th>\n",
       "      <td>DREAM</td>\n",
       "      <td>497</td>\n",
       "      <td>DEBAR</td>\n",
       "      <td>401.43</td>\n",
       "      <td>CEDAR</td>\n",
       "      <td>-1.964</td>\n",
       "    </tr>\n",
       "    <tr>\n",
       "      <th>2</th>\n",
       "      <td>TRASH</td>\n",
       "      <td>497</td>\n",
       "      <td>CRAVE</td>\n",
       "      <td>401.94</td>\n",
       "      <td>DEBAR</td>\n",
       "      <td>-1.961</td>\n",
       "    </tr>\n",
       "    <tr>\n",
       "      <th>3</th>\n",
       "      <td>DEBAR</td>\n",
       "      <td>499</td>\n",
       "      <td>STARE</td>\n",
       "      <td>402.56</td>\n",
       "      <td>SPEAR</td>\n",
       "      <td>-1.958</td>\n",
       "    </tr>\n",
       "    <tr>\n",
       "      <th>4</th>\n",
       "      <td>DECAL</td>\n",
       "      <td>499</td>\n",
       "      <td>CEDAR</td>\n",
       "      <td>402.94</td>\n",
       "      <td>REACH</td>\n",
       "      <td>-1.958</td>\n",
       "    </tr>\n",
       "    <tr>\n",
       "      <th>...</th>\n",
       "      <td>...</td>\n",
       "      <td>...</td>\n",
       "      <td>...</td>\n",
       "      <td>...</td>\n",
       "      <td>...</td>\n",
       "      <td>...</td>\n",
       "    </tr>\n",
       "    <tr>\n",
       "      <th>1386</th>\n",
       "      <td>QUAIL</td>\n",
       "      <td>740</td>\n",
       "      <td>AVOID</td>\n",
       "      <td>534.45</td>\n",
       "      <td>QUASI</td>\n",
       "      <td>-1.600</td>\n",
       "    </tr>\n",
       "    <tr>\n",
       "      <th>1387</th>\n",
       "      <td>QUAKE</td>\n",
       "      <td>740</td>\n",
       "      <td>QUAKE</td>\n",
       "      <td>534.54</td>\n",
       "      <td>JUICY</td>\n",
       "      <td>-1.587</td>\n",
       "    </tr>\n",
       "    <tr>\n",
       "      <th>1388</th>\n",
       "      <td>AVOID</td>\n",
       "      <td>745</td>\n",
       "      <td>QUASI</td>\n",
       "      <td>538.90</td>\n",
       "      <td>JUMPY</td>\n",
       "      <td>-1.564</td>\n",
       "    </tr>\n",
       "    <tr>\n",
       "      <th>1389</th>\n",
       "      <td>AUDIO</td>\n",
       "      <td>761</td>\n",
       "      <td>AUDIO</td>\n",
       "      <td>595.22</td>\n",
       "      <td>AXIOM</td>\n",
       "      <td>-1.500</td>\n",
       "    </tr>\n",
       "    <tr>\n",
       "      <th>1390</th>\n",
       "      <td>AXIOM</td>\n",
       "      <td>827</td>\n",
       "      <td>AXIOM</td>\n",
       "      <td>599.56</td>\n",
       "      <td>AUDIO</td>\n",
       "      <td>-1.460</td>\n",
       "    </tr>\n",
       "  </tbody>\n",
       "</table>\n",
       "<p>1391 rows × 6 columns</p>\n",
       "</div>"
      ],
      "text/plain": [
       "     max_word  max_score exp_word  exp_score ent_word  ent_score\n",
       "0       DRAPE        497    SOUTH     400.50    STARE     -1.971\n",
       "1       DREAM        497    DEBAR     401.43    CEDAR     -1.964\n",
       "2       TRASH        497    CRAVE     401.94    DEBAR     -1.961\n",
       "3       DEBAR        499    STARE     402.56    SPEAR     -1.958\n",
       "4       DECAL        499    CEDAR     402.94    REACH     -1.958\n",
       "...       ...        ...      ...        ...      ...        ...\n",
       "1386    QUAIL        740    AVOID     534.45    QUASI     -1.600\n",
       "1387    QUAKE        740    QUAKE     534.54    JUICY     -1.587\n",
       "1388    AVOID        745    QUASI     538.90    JUMPY     -1.564\n",
       "1389    AUDIO        761    AUDIO     595.22    AXIOM     -1.500\n",
       "1390    AXIOM        827    AXIOM     599.56    AUDIO     -1.460\n",
       "\n",
       "[1391 rows x 6 columns]"
      ]
     },
     "execution_count": 62,
     "metadata": {},
     "output_type": "execute_result"
    }
   ],
   "source": [
    "first_guesses(wordlist)"
   ]
  },
  {
   "cell_type": "markdown",
   "metadata": {},
   "source": [
    "One difference is that in Jotto, most of the best guesses have two vowels, in Wordle three.\n",
    "\n",
    "`'OUIJA'` is not in our word list, but it was in another list, and it is uniquely bad as a Jotto guess, worse than `'AXIOM'` or `'AUDIO'`. \n",
    "\n"
   ]
  },
  {
   "cell_type": "markdown",
   "metadata": {},
   "source": [
    "# Next Steps\n",
    "\n",
    "There are many directions you could take this if you are interested:\n",
    "- **Other games:**\n",
    "  - Implement [Mastermind](https://en.wikipedia.org/wiki/Mastermind_%28board_game%29). The default version has 6 colors and 4 pegs. Can you go beyond that?\n",
    "  - Consider a Jotto game variant where each reply consists of two numbers: the number of letters in common with the target, and the number of letters that are in the exact correct position, as in Mastermind.\n",
    "  - Research what other computer scientists have done with [Jotto](https://arxiv.org/abs/1107.3342) or [Mastermind](http://serkangur.freeservers.com/).\n",
    "  - There are many variants of Wordle: Evil Wordle, Anti-Wordle, Quordle, Octordle, ...\n",
    "  - Refactor the code so it can more smoothly handle multiple different games.\n",
    "- **Better strategy**:\n",
    "  - Our `minimizing_tree` function is **greedy** in that it guesses the word that minimizes some metric of the current situation without looking ahead to future branches in the tree. Can you get better performance by doing some **look-ahead**? Perhaps with a beam search?\n",
    "  - As an alternative to look-ahead, can you improve a tree by editing it? Given a tree, look for interior nodes that end up with a worse-than-expected average score, and see if the node can be replaced with something better (covering the same target words). Correcting a few bad nodes might be faster than carefully searching for good nodes in the first place.\n",
    "  - The three metrics (max, expectation, and negative entropy) are all designed as proxies to what we really want to minimize: the average number of guesses. Can we estimate that directly? For example, we know a branch of size 1 will always take 1 guess; a branch of size 2 an average of 3/2 guesses; and a branch of size 3 an average of 5/3 guesses if one of the words partitions the other two, otherwise an average of 2. Can we learn a function that takes a set of words as input and estimates the average number of guesses for the set? Would a deep neural net be a good way to learn this function?\n",
    "  - Is it feasible to do a complete search and find the guaranteed optimal strategy? What optimizations to the code would be necessary? Is it worthwhile to port to a different language? How long would the search take?\n",
    "  - We assume that the list of taregt words is known to the guesser. The [New York Times WordleBot](https://www.nytimes.com/interactive/2022/upshot/wordle-bot.html) initally took this approach too, but then switched to a more nuanced approach where the guesser (the Bot) does not know for sure the list of target words, but instead assigns words a probability of being a target word that is correlated with the word's frequency in English usage. Can you develop a guesser that works along these lines?\n",
    "- **Chooser strategy**:\n",
    "  - Analyze the game where the chooser is not random, but rather is an adversary to the guesser–the chooser tries to choose a word that will maximize the guesser's score. What's a good strategy for the chooser? Is there a strategy equilibrium?\n",
    "  - Refactor `play` to accomodate three roles:\n",
    "    - A chooser, who decides what the target word is.\n",
    "    - A guesser, who guesses the target word.\n",
    "    - A replier, who says what the reply to the guess is."
   ]
  }
 ],
 "metadata": {
  "kernelspec": {
   "display_name": "Python 3 (ipykernel)",
   "language": "python",
   "name": "python3"
  },
  "language_info": {
   "codemirror_mode": {
    "name": "ipython",
    "version": 3
   },
   "file_extension": ".py",
   "mimetype": "text/x-python",
   "name": "python",
   "nbconvert_exporter": "python",
   "pygments_lexer": "ipython3",
   "version": "3.8.15"
  }
 },
 "nbformat": 4,
 "nbformat_minor": 4
}
